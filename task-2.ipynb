{
  "nbformat": 4,
  "nbformat_minor": 0,
  "metadata": {
    "colab": {
      "provenance": [],
      "authorship_tag": "ABX9TyPMnf/oCFZcAWniIA68orHX",
      "include_colab_link": true
    },
    "kernelspec": {
      "name": "python3",
      "display_name": "Python 3"
    },
    "language_info": {
      "name": "python"
    }
  },
  "cells": [
    {
      "cell_type": "markdown",
      "metadata": {
        "id": "view-in-github",
        "colab_type": "text"
      },
      "source": [
        "<a href=\"https://colab.research.google.com/github/pld000/z3/blob/main/task-2.ipynb\" target=\"_parent\"><img src=\"https://colab.research.google.com/assets/colab-badge.svg\" alt=\"Open In Colab\"/></a>"
      ]
    },
    {
      "cell_type": "code",
      "source": [
        "!pip install \"z3-solver\"\n",
        "from z3 import *"
      ],
      "metadata": {
        "colab": {
          "base_uri": "https://localhost:8080/"
        },
        "id": "fp3Hr5Y7nAc2",
        "outputId": "36071ea7-fc3d-4fba-a554-ce6f813fa282"
      },
      "execution_count": 2,
      "outputs": [
        {
          "output_type": "stream",
          "name": "stdout",
          "text": [
            "Collecting z3-solver\n",
            "  Downloading z3_solver-4.15.1.0-py3-none-manylinux_2_17_x86_64.manylinux2014_x86_64.whl.metadata (602 bytes)\n",
            "Downloading z3_solver-4.15.1.0-py3-none-manylinux_2_17_x86_64.manylinux2014_x86_64.whl (29.5 MB)\n",
            "\u001b[2K   \u001b[90m━━━━━━━━━━━━━━━━━━━━━━━━━━━━━━━━━━━━━━━━\u001b[0m \u001b[32m29.5/29.5 MB\u001b[0m \u001b[31m66.6 MB/s\u001b[0m eta \u001b[36m0:00:00\u001b[0m\n",
            "\u001b[?25hInstalling collected packages: z3-solver\n",
            "Successfully installed z3-solver-4.15.1.0\n"
          ]
        }
      ]
    },
    {
      "cell_type": "markdown",
      "source": [
        "## 1. Доказать, что из a^2 + b^2 == c^2 следует с > a и c > b при a > 0 и b > 0 𝑐\n"
      ],
      "metadata": {
        "id": "5tBX5sSanBX9"
      }
    },
    {
      "cell_type": "code",
      "execution_count": 8,
      "metadata": {
        "colab": {
          "base_uri": "https://localhost:8080/"
        },
        "id": "c5c1KacCjoHG",
        "outputId": "0a76ec28-004f-4545-b23d-d68a1484e77b"
      },
      "outputs": [
        {
          "output_type": "stream",
          "name": "stdout",
          "text": [
            "[[]]\n"
          ]
        }
      ],
      "source": [
        "a, b, c = Reals('a b c')\n",
        "g = Goal()\n",
        "g.add(a > 0, b > 0, a**2 + b**2 == c**2, Or(c <= a, c <= b))\n",
        "t = Then('purify-arith', 'nlsat')\n",
        "print(t(g))"
      ]
    },
    {
      "cell_type": "markdown",
      "source": [
        "## 2. Найдите x ∈ {1,3,5}, y ∈ {2,4} такие что x + y == 7."
      ],
      "metadata": {
        "id": "Gql5Kcnw7s6A"
      }
    },
    {
      "cell_type": "code",
      "source": [
        "x, y = Ints('x y')\n",
        "g = Goal()\n",
        "\n",
        "g.add(Or(x == 1, x == 3, x == 5))\n",
        "g.add(Or(y == 2, y == 4))\n",
        "g.add(x + y == 7)\n",
        "\n",
        "t = Then(With('simplify', blast_distinct=True),\n",
        "         'solve-eqs')\n",
        "result = t(g)\n",
        "print(result)\n",
        "\n",
        "solver = Then(With('simplify', blast_distinct=True),\n",
        "              'solve-eqs').solver()\n",
        "solver.add(Or(x == 1, x == 3, x == 5))\n",
        "solver.add(Or(y == 2, y == 4))\n",
        "solver.add(x + y == 7)\n",
        "print(solver.check())\n",
        "print(solver.model())"
      ],
      "metadata": {
        "colab": {
          "base_uri": "https://localhost:8080/"
        },
        "id": "aNw2XPm47vvS",
        "outputId": "8c246084-969d-4a25-81bc-8bff49a2b75c"
      },
      "execution_count": 4,
      "outputs": [
        {
          "output_type": "stream",
          "name": "stdout",
          "text": [
            "[[Or(y == 4, y == 2, y == 6), Or(y == 2, y == 4)]]\n",
            "unknown\n",
            "[y = 0, x = 7]\n"
          ]
        }
      ]
    },
    {
      "cell_type": "markdown",
      "source": [
        "## 3. Решите уравнение x^2 == 9 с выбором тактики в зависимости от сложности."
      ],
      "metadata": {
        "id": "QCUdy32o8MyO"
      }
    },
    {
      "cell_type": "code",
      "source": [
        "x = Real('x')\n",
        "g = Goal()\n",
        "g.add(x**2 == 9)\n",
        "\n",
        "\n",
        "t = If(Probe('is-propositional'), 'simplify', 'qfnra')\n",
        "result = t(g)\n",
        "print(result)\n",
        "t_nl = Tactic('qfnra')\n",
        "print(t_nl(g))"
      ],
      "metadata": {
        "colab": {
          "base_uri": "https://localhost:8080/"
        },
        "id": "p7Z0Qd-G8bJp",
        "outputId": "4c9588ee-9d69-4263-ce1d-3364486bd6e5"
      },
      "execution_count": 6,
      "outputs": [
        {
          "output_type": "stream",
          "name": "stdout",
          "text": [
            "[[]]\n",
            "[[]]\n"
          ]
        }
      ]
    },
    {
      "cell_type": "markdown",
      "source": [
        "## 4. Если в выражении больше 2 переменных, применить simplify, иначе solve-eqs"
      ],
      "metadata": {
        "id": "1cku7Mos_JaO"
      }
    },
    {
      "cell_type": "code",
      "source": [
        "x, y, z = Ints('x y z')\n",
        "g = Goal()\n",
        "g.add(x + y + z > 10, x < 5)\n",
        "t = If(Probe('num-consts') > 2, 'simplify', 'solve-eqs')\n",
        "print(t(g))"
      ],
      "metadata": {
        "colab": {
          "base_uri": "https://localhost:8080/"
        },
        "id": "8vwYqmO__Mjf",
        "outputId": "898c5b0f-e0dd-4a44-bab6-842150220d65"
      },
      "execution_count": 7,
      "outputs": [
        {
          "output_type": "stream",
          "name": "stdout",
          "text": [
            "[[Not(x + y + z <= 10), Not(5 <= x)]]\n"
          ]
        }
      ]
    },
    {
      "cell_type": "markdown",
      "source": [
        "## 5. Решить битовое уравнение:\n",
        "x | y = 0xFF\n",
        "\n",
        "x & y = 0x00"
      ],
      "metadata": {
        "id": "l_4ixbWD_VjF"
      }
    },
    {
      "cell_type": "code",
      "source": [
        "x, y = BitVecs('x y', 8)\n",
        "solver = Then('simplify', 'bit-blast', 'sat').solver()\n",
        "solve_using(solver, x | y == 0xFF, x & y == 0)"
      ],
      "metadata": {
        "colab": {
          "base_uri": "https://localhost:8080/"
        },
        "id": "5Tjs4ta3_Z6J",
        "outputId": "06a77708-faef-4b08-b23d-8abbe596b2a1"
      },
      "execution_count": 8,
      "outputs": [
        {
          "output_type": "stream",
          "name": "stdout",
          "text": [
            "[y = 1, x = 254]\n"
          ]
        }
      ]
    }
  ]
}