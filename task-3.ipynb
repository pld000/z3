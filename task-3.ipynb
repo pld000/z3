{
  "nbformat": 4,
  "nbformat_minor": 0,
  "metadata": {
    "colab": {
      "provenance": [],
      "authorship_tag": "ABX9TyP8qV+CC7EosoS0tAIiCVT+",
      "include_colab_link": true
    },
    "kernelspec": {
      "name": "python3",
      "display_name": "Python 3"
    },
    "language_info": {
      "name": "python"
    }
  },
  "cells": [
    {
      "cell_type": "markdown",
      "metadata": {
        "id": "view-in-github",
        "colab_type": "text"
      },
      "source": [
        "<a href=\"https://colab.research.google.com/github/pld000/z3/blob/main/task-3.ipynb\" target=\"_parent\"><img src=\"https://colab.research.google.com/assets/colab-badge.svg\" alt=\"Open In Colab\"/></a>"
      ]
    },
    {
      "cell_type": "code",
      "source": [
        "!pip install z3-solver"
      ],
      "metadata": {
        "colab": {
          "base_uri": "https://localhost:8080/"
        },
        "id": "Z03PACf6WJ8V",
        "outputId": "e3fc1b17-98f9-49cb-cd16-30a74c64b557"
      },
      "execution_count": 3,
      "outputs": [
        {
          "output_type": "stream",
          "name": "stdout",
          "text": [
            "Collecting z3-solver\n",
            "  Downloading z3_solver-4.15.1.0-py3-none-manylinux_2_17_x86_64.manylinux2014_x86_64.whl.metadata (602 bytes)\n",
            "Downloading z3_solver-4.15.1.0-py3-none-manylinux_2_17_x86_64.manylinux2014_x86_64.whl (29.5 MB)\n",
            "\u001b[2K   \u001b[90m━━━━━━━━━━━━━━━━━━━━━━━━━━━━━━━━━━━━━━━━\u001b[0m \u001b[32m29.5/29.5 MB\u001b[0m \u001b[31m36.2 MB/s\u001b[0m eta \u001b[36m0:00:00\u001b[0m\n",
            "\u001b[?25hInstalling collected packages: z3-solver\n",
            "Successfully installed z3-solver-4.15.1.0\n"
          ]
        }
      ]
    },
    {
      "cell_type": "code",
      "source": [
        "from z3 import *"
      ],
      "metadata": {
        "id": "BVkhcllsWMbm"
      },
      "execution_count": 4,
      "outputs": []
    },
    {
      "cell_type": "markdown",
      "source": [
        "Найдите корень уравнения `x**3 + 3*x**2 + 4*x + 2 == 0` с помощью Z3. Сможете вы применить Z3 так, чтобы доказать, что найденный корень единственный, или опровергнуть это утверждение?"
      ],
      "metadata": {
        "id": "O4JVuLZcVu8Y"
      }
    },
    {
      "cell_type": "code",
      "execution_count": 5,
      "metadata": {
        "colab": {
          "base_uri": "https://localhost:8080/"
        },
        "id": "arETCqvfOXAz",
        "outputId": "91684e14-ec6d-492b-9a19-a239520d5ad5"
      },
      "outputs": [
        {
          "output_type": "stream",
          "name": "stdout",
          "text": [
            "no solution\n"
          ]
        }
      ],
      "source": [
        "x = Real(\"x\")\n",
        "solve( x != -1, x**3 + 3*x**2 + 4*x + 2 == 0)"
      ]
    },
    {
      "cell_type": "markdown",
      "source": [
        "Проверить\n",
        "\n",
        "отрицание дизъюнкции есть конъюнкция отрицаний p | q == ~ (~p & ~q)"
      ],
      "metadata": {
        "id": "ohL24C46ZQ6P"
      }
    },
    {
      "cell_type": "code",
      "source": [
        "def prove2(f): # упрощенная версия функции prove() Z3\n",
        "    s = Solver()\n",
        "    s.add(Not(f))\n",
        "    if s.check() == unsat:\n",
        "        print(\"доказано\")\n",
        "    else:\n",
        "        print(\"опровергнуто\")\n",
        "\n",
        "p = Bool(\"p\")\n",
        "q = Bool(\"q\")\n",
        "thm = Implies(And(p,q), p)\n",
        "prove2(thm)"
      ],
      "metadata": {
        "colab": {
          "base_uri": "https://localhost:8080/"
        },
        "id": "0zx17kbbZOGQ",
        "outputId": "ee976f42-431f-4347-98ad-47dcba639f31"
      },
      "execution_count": 6,
      "outputs": [
        {
          "output_type": "stream",
          "name": "stdout",
          "text": [
            "доказано\n"
          ]
        }
      ]
    },
    {
      "cell_type": "code",
      "source": [
        "prove(Or(p, q) == Not(And(Not(p), Not(q))))\n",
        "prove2(Or(p, q) == Not(And(Not(p), Not(q))))"
      ],
      "metadata": {
        "colab": {
          "base_uri": "https://localhost:8080/"
        },
        "id": "W7TCFJtYZbai",
        "outputId": "773c216c-8234-4be8-9d18-c4a2f8732e6d"
      },
      "execution_count": 10,
      "outputs": [
        {
          "output_type": "stream",
          "name": "stdout",
          "text": [
            "proved\n",
            "доказано\n"
          ]
        }
      ]
    },
    {
      "cell_type": "markdown",
      "source": [
        "Докажите (или найдите контрпримеры) следующие теоремы для целых, рациональных, вещественных и битовых чисел:\n",
        "\n",
        "x + y == y + x\n",
        "\n",
        "(x + y) + z == x + (y + z)\n",
        "\n",
        "x может быть меньше, больше или равен 0;\n",
        "\n",
        "x в квадрате всегда положителен."
      ],
      "metadata": {
        "id": "VgxaqSQlgfWj"
      }
    },
    {
      "cell_type": "code",
      "source": [
        "x = Int(\"x\")\n",
        "y = Int(\"y\")\n",
        "z = Int(\"z\")\n",
        "\n",
        "prove(x + y == y + x) # коммутативность\n",
        "prove(((x + y) + z) == ((x + (y + z)))) # ассоциативность\n",
        "prove(x + 0 == x) # существование \"0\"\n",
        "prove(1 * x == x) # существование \"1\"\n",
        "prove(Or(x > 0, x < 0, x == 0))\n",
        "prove(x * (y + z) == x * y + x * z)\n",
        "prove(x ** 2 >= 0)"
      ],
      "metadata": {
        "colab": {
          "base_uri": "https://localhost:8080/"
        },
        "id": "2pJTJv3tgjuY",
        "outputId": "07478e86-9e5f-4d02-e973-69f261a94e62"
      },
      "execution_count": 11,
      "outputs": [
        {
          "output_type": "stream",
          "name": "stdout",
          "text": [
            "proved\n",
            "proved\n",
            "proved\n",
            "proved\n",
            "proved\n",
            "proved\n",
            "proved\n"
          ]
        }
      ]
    },
    {
      "cell_type": "code",
      "source": [
        "\n",
        "x = Real(\"x\")\n",
        "y = Real(\"y\")\n",
        "z = Real(\"z\")\n",
        "\n",
        "prove(x + y == y + x) # коммутативность\n",
        "prove(((x + y) + z) == ((x + (y + z)))) # ассоциативность\n",
        "prove(x + 0 == x) # существование \"0\"\n",
        "prove(1 * x == x) # существование \"1\"\n",
        "prove(Or(x > 0, x < 0, x == 0))\n",
        "prove(x * (y + z) == x * y + x * z)\n",
        "prove(x ** 2 >= 0)"
      ],
      "metadata": {
        "colab": {
          "base_uri": "https://localhost:8080/"
        },
        "id": "x5Irb8Mka-8r",
        "outputId": "012ad80e-d26a-4cfe-b9a5-faf631d2b4a0"
      },
      "execution_count": 12,
      "outputs": [
        {
          "output_type": "stream",
          "name": "stdout",
          "text": [
            "proved\n",
            "proved\n",
            "proved\n",
            "proved\n",
            "proved\n",
            "proved\n",
            "proved\n"
          ]
        }
      ]
    },
    {
      "cell_type": "code",
      "source": [
        "#from z3.z3 import Float64, FP\n",
        "x = FP(\"x\", Float64())\n",
        "y = FP(\"y\", Float64())\n",
        "z = FP(\"z\", Float64())\n",
        "\n",
        "\n",
        "prove(fpEQ(x + y, y + x)) # коммутативность\n",
        "prove(fpEQ(((x + y) + z), ((x + (y + z))))) # ассоциативность\n",
        "prove(fpEQ(x + 0, x)) # существование \"0\"\n",
        "prove(fpEQ(1 * x, x)) # существование \"1\"\n",
        "prove(Or(fpGT(x, FPVal(0.0, Float64())),\n",
        "               fpLT(x, FPVal(0.0, Float64())),\n",
        "               fpEQ(x, FPVal(0.0, Float64()))))\n",
        "prove(fpEQ(x * (y + z), x * y + x * z))\n",
        "#prove(fpGE(x * x, FPVal(0.0, Float64())))"
      ],
      "metadata": {
        "colab": {
          "base_uri": "https://localhost:8080/"
        },
        "id": "lmmUtGdJgl3w",
        "outputId": "12003643-8d12-4eeb-ec63-99780ea85759"
      },
      "execution_count": 10,
      "outputs": [
        {
          "output_type": "stream",
          "name": "stdout",
          "text": [
            "counterexample\n",
            "[y = -1.999999999634752612109878100454807281494140625*(2**-992),\n",
            " x = NaN]\n",
            "counterexample\n",
            "[z = -1.032275792890425147874111644341610372066497802734375*(2**-14),\n",
            " y = 1.0135167746881899031308194025768898427486419677734375*(2**-16),\n",
            " x = -1.2207440344723698988360638395533896982669830322265625*(2**-17)]\n",
            "counterexample\n",
            "[x = NaN]\n",
            "counterexample\n",
            "[x = NaN]\n",
            "counterexample\n",
            "[x = NaN]\n",
            "counterexample\n",
            "[z = -1.1948315690582089754201433606795035302639007568359375*(2**-1022),\n",
            " y = 1.6289099870870558106616954319179058074951171875*(2**-1021),\n",
            " x = -1.9563958043531359809463765486725606024265289306640625*(2**592)]\n"
          ]
        }
      ]
    },
    {
      "cell_type": "code",
      "source": [
        "x = BitVec(\"x\", 64)\n",
        "y = BitVec(\"y\", 64)\n",
        "z = BitVec(\"z\", 64)\n",
        "\n",
        "prove(x + y == y + x) # коммутативность\n",
        "prove(((x + y) + z) == ((x + (y + z)))) # ассоциативность\n",
        "prove(x + 0 == x) # существование \"0\"\n",
        "prove(1 * x == x) # существование \"1\"\n",
        "prove(Or(x > 0, x < 0, x == 0))\n",
        "prove(x * (y + z) == x * y + x * z)\n",
        "#prove(x ** 2 >= 0)"
      ],
      "metadata": {
        "colab": {
          "base_uri": "https://localhost:8080/"
        },
        "id": "_ORvV_w7gm5d",
        "outputId": "88d319bb-8611-451d-8233-284e751f7628"
      },
      "execution_count": 11,
      "outputs": [
        {
          "output_type": "stream",
          "name": "stdout",
          "text": [
            "proved\n",
            "proved\n",
            "proved\n",
            "proved\n",
            "proved\n",
            "proved\n"
          ]
        }
      ]
    },
    {
      "cell_type": "markdown",
      "source": [
        "### **Задачи**"
      ],
      "metadata": {
        "id": "p1juijbIOYIV"
      }
    },
    {
      "cell_type": "markdown",
      "source": [
        "1) Доказать, что евклидово расстояние от точки (x, y) до начала координат всегда неотрицательно:\n",
        "√(x² + y²) ≥ 0"
      ],
      "metadata": {
        "id": "TnJlH6B8OjP8"
      }
    },
    {
      "cell_type": "code",
      "source": [
        "x, y = Reals(\"x y\")\n",
        "prove(Sqrt(x**2 + y**2) >= 0)\n"
      ],
      "metadata": {
        "colab": {
          "base_uri": "https://localhost:8080/"
        },
        "id": "eRiTWM3cOXzJ",
        "outputId": "1bfa9c18-0977-4088-d905-6c57c63ac5d3"
      },
      "execution_count": 6,
      "outputs": [
        {
          "output_type": "stream",
          "name": "stdout",
          "text": [
            "proved\n"
          ]
        }
      ]
    },
    {
      "cell_type": "markdown",
      "source": [
        "2) Доказать, что расстояние между точками A и B в 2D-пространстве симметрично:\n",
        "расстояние(A, B) == расстояние(B, A)"
      ],
      "metadata": {
        "id": "1Cc2hKMyOtDZ"
      }
    },
    {
      "cell_type": "code",
      "source": [
        "x1, y1, x2, y2 = Reals(\"x1 y1 x2 y2\")\n",
        "d1 = Sqrt((x1 - x2)**2 + (y1 - y2)**2)\n",
        "d2 = Sqrt((x2 - x1)**2 + (y2 - y1)**2)\n",
        "prove(d1 == d2)\n"
      ],
      "metadata": {
        "colab": {
          "base_uri": "https://localhost:8080/"
        },
        "id": "OBF3aiNmOwbj",
        "outputId": "9d225eae-faf0-423e-c586-ee74d8252347"
      },
      "execution_count": 5,
      "outputs": [
        {
          "output_type": "stream",
          "name": "stdout",
          "text": [
            "proved\n"
          ]
        }
      ]
    },
    {
      "cell_type": "markdown",
      "source": [
        "3) Доказать, что если x ≠ 0, то (1 / x) * x = 1"
      ],
      "metadata": {
        "id": "xVyWROb5PEHo"
      }
    },
    {
      "cell_type": "code",
      "source": [
        "x = Real(\"x\")\n",
        "prove(Implies(x != 0, (1 / x) * x == 1))\n"
      ],
      "metadata": {
        "colab": {
          "base_uri": "https://localhost:8080/"
        },
        "id": "y8unz2viPG56",
        "outputId": "bd003668-6cc3-4ca0-f420-95523d7d127e"
      },
      "execution_count": 7,
      "outputs": [
        {
          "output_type": "stream",
          "name": "stdout",
          "text": [
            "proved\n"
          ]
        }
      ]
    },
    {
      "cell_type": "markdown",
      "source": [
        "4) Доказать, что x делится на 2 если младший бит равен 0"
      ],
      "metadata": {
        "id": "5FUfFk1KQiKC"
      }
    },
    {
      "cell_type": "code",
      "source": [
        "x = BitVec(\"x\", 32)\n",
        "prove(URem(x, 2) == 0 == (x & 1) == 0)\n"
      ],
      "metadata": {
        "colab": {
          "base_uri": "https://localhost:8080/"
        },
        "id": "G3f6hrO6QyMo",
        "outputId": "bfbb24e5-bced-4206-a02a-c4c9e31e14bd"
      },
      "execution_count": 9,
      "outputs": [
        {
          "output_type": "stream",
          "name": "stdout",
          "text": [
            "counterexample\n",
            "[x = 1]\n"
          ]
        }
      ]
    }
  ]
}