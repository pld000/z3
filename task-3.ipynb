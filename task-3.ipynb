{
  "nbformat": 4,
  "nbformat_minor": 0,
  "metadata": {
    "colab": {
      "provenance": [],
      "authorship_tag": "ABX9TyPwi0+byFMUVzWy1nNFQznp",
      "include_colab_link": true
    },
    "kernelspec": {
      "name": "python3",
      "display_name": "Python 3"
    },
    "language_info": {
      "name": "python"
    }
  },
  "cells": [
    {
      "cell_type": "markdown",
      "metadata": {
        "id": "view-in-github",
        "colab_type": "text"
      },
      "source": [
        "<a href=\"https://colab.research.google.com/github/pld000/z3/blob/main/task-3.ipynb\" target=\"_parent\"><img src=\"https://colab.research.google.com/assets/colab-badge.svg\" alt=\"Open In Colab\"/></a>"
      ]
    },
    {
      "cell_type": "code",
      "source": [
        "!pip install z3-solver"
      ],
      "metadata": {
        "colab": {
          "base_uri": "https://localhost:8080/"
        },
        "id": "Z03PACf6WJ8V",
        "outputId": "e3fc1b17-98f9-49cb-cd16-30a74c64b557"
      },
      "execution_count": 3,
      "outputs": [
        {
          "output_type": "stream",
          "name": "stdout",
          "text": [
            "Collecting z3-solver\n",
            "  Downloading z3_solver-4.15.1.0-py3-none-manylinux_2_17_x86_64.manylinux2014_x86_64.whl.metadata (602 bytes)\n",
            "Downloading z3_solver-4.15.1.0-py3-none-manylinux_2_17_x86_64.manylinux2014_x86_64.whl (29.5 MB)\n",
            "\u001b[2K   \u001b[90m━━━━━━━━━━━━━━━━━━━━━━━━━━━━━━━━━━━━━━━━\u001b[0m \u001b[32m29.5/29.5 MB\u001b[0m \u001b[31m36.2 MB/s\u001b[0m eta \u001b[36m0:00:00\u001b[0m\n",
            "\u001b[?25hInstalling collected packages: z3-solver\n",
            "Successfully installed z3-solver-4.15.1.0\n"
          ]
        }
      ]
    },
    {
      "cell_type": "code",
      "source": [
        "from z3 import *"
      ],
      "metadata": {
        "id": "BVkhcllsWMbm"
      },
      "execution_count": 4,
      "outputs": []
    },
    {
      "cell_type": "markdown",
      "source": [
        "Найдите корень уравнения `x**3 + 3*x**2 + 4*x + 2 == 0` с помощью Z3. Сможете вы применить Z3 так, чтобы доказать, что найденный корень единственный, или опровергнуть это утверждение?"
      ],
      "metadata": {
        "id": "O4JVuLZcVu8Y"
      }
    },
    {
      "cell_type": "code",
      "execution_count": 5,
      "metadata": {
        "colab": {
          "base_uri": "https://localhost:8080/"
        },
        "id": "arETCqvfOXAz",
        "outputId": "91684e14-ec6d-492b-9a19-a239520d5ad5"
      },
      "outputs": [
        {
          "output_type": "stream",
          "name": "stdout",
          "text": [
            "no solution\n"
          ]
        }
      ],
      "source": [
        "x = Real(\"x\")\n",
        "solve( x != -1, x**3 + 3*x**2 + 4*x + 2 == 0)"
      ]
    },
    {
      "cell_type": "markdown",
      "source": [
        "Проверить\n",
        "\n",
        "отрицание дизъюнкции есть конъюнкция отрицаний p | q == ~ (~p & ~q)"
      ],
      "metadata": {
        "id": "ohL24C46ZQ6P"
      }
    },
    {
      "cell_type": "code",
      "source": [
        "def prove2(f): # упрощенная версия функции prove() Z3\n",
        "    s = Solver()\n",
        "    s.add(Not(f))\n",
        "    if s.check() == unsat:\n",
        "        print(\"доказано\")\n",
        "    else:\n",
        "        print(\"опровергнуто\")\n",
        "\n",
        "p = Bool(\"p\")\n",
        "q = Bool(\"q\")\n",
        "thm = Implies(And(p,q), p)\n",
        "prove2(thm)"
      ],
      "metadata": {
        "colab": {
          "base_uri": "https://localhost:8080/"
        },
        "id": "0zx17kbbZOGQ",
        "outputId": "ee976f42-431f-4347-98ad-47dcba639f31"
      },
      "execution_count": 6,
      "outputs": [
        {
          "output_type": "stream",
          "name": "stdout",
          "text": [
            "доказано\n"
          ]
        }
      ]
    },
    {
      "cell_type": "code",
      "source": [
        "prove(Or(p, q) == Not(And(Not(p), Not(q))))\n",
        "prove2(Or(p, q) == Not(And(Not(p), Not(q))))"
      ],
      "metadata": {
        "colab": {
          "base_uri": "https://localhost:8080/"
        },
        "id": "W7TCFJtYZbai",
        "outputId": "773c216c-8234-4be8-9d18-c4a2f8732e6d"
      },
      "execution_count": 10,
      "outputs": [
        {
          "output_type": "stream",
          "name": "stdout",
          "text": [
            "proved\n",
            "доказано\n"
          ]
        }
      ]
    },
    {
      "cell_type": "markdown",
      "source": [
        "Докажите (или найдите контрпримеры) следующие теоремы для целых, рациональных, вещественных и битовых чисел:\n",
        "\n",
        "x + y == y + x\n",
        "\n",
        "(x + y) + z == x + (y + z)\n",
        "\n",
        "x может быть меньше, больше или равен 0;\n",
        "\n",
        "x в квадрате всегда положителен."
      ],
      "metadata": {
        "id": "VgxaqSQlgfWj"
      }
    },
    {
      "cell_type": "code",
      "source": [
        "x = Int(\"x\")\n",
        "y = Int(\"y\")\n",
        "z = Int(\"z\")\n",
        "\n",
        "prove(x + y == y + x) # коммутативность\n",
        "prove(((x + y) + z) == ((x + (y + z)))) # ассоциативность\n",
        "prove(x + 0 == x) # существование \"0\"\n",
        "prove(1 * x == x) # существование \"1\"\n",
        "prove(Or(x > 0, x < 0, x == 0))\n",
        "prove(x * (y + z) == x * y + x * z)\n",
        "prove(x ** 2 >= 0)"
      ],
      "metadata": {
        "colab": {
          "base_uri": "https://localhost:8080/"
        },
        "id": "2pJTJv3tgjuY",
        "outputId": "07478e86-9e5f-4d02-e973-69f261a94e62"
      },
      "execution_count": 11,
      "outputs": [
        {
          "output_type": "stream",
          "name": "stdout",
          "text": [
            "proved\n",
            "proved\n",
            "proved\n",
            "proved\n",
            "proved\n",
            "proved\n",
            "proved\n"
          ]
        }
      ]
    },
    {
      "cell_type": "code",
      "source": [
        "\n",
        "x = Real(\"x\")\n",
        "y = Real(\"y\")\n",
        "z = Real(\"z\")\n",
        "\n",
        "prove(x + y == y + x) # коммутативность\n",
        "prove(((x + y) + z) == ((x + (y + z)))) # ассоциативность\n",
        "prove(x + 0 == x) # существование \"0\"\n",
        "prove(1 * x == x) # существование \"1\"\n",
        "prove(Or(x > 0, x < 0, x == 0))\n",
        "prove(x * (y + z) == x * y + x * z)\n",
        "prove(x ** 2 >= 0)"
      ],
      "metadata": {
        "colab": {
          "base_uri": "https://localhost:8080/"
        },
        "id": "x5Irb8Mka-8r",
        "outputId": "012ad80e-d26a-4cfe-b9a5-faf631d2b4a0"
      },
      "execution_count": 12,
      "outputs": [
        {
          "output_type": "stream",
          "name": "stdout",
          "text": [
            "proved\n",
            "proved\n",
            "proved\n",
            "proved\n",
            "proved\n",
            "proved\n",
            "proved\n"
          ]
        }
      ]
    },
    {
      "cell_type": "code",
      "source": [
        "#from z3.z3 import Float64, FP\n",
        "x = FP(\"x\", Float64())\n",
        "y = FP(\"y\", Float64())\n",
        "z = FP(\"z\", Float64())\n",
        "\n",
        "\n",
        "prove(fpEQ(x + y, y + x)) # коммутативность\n",
        "prove(fpEQ(((x + y) + z), ((x + (y + z))))) # ассоциативность\n",
        "prove(fpEQ(x + 0, x)) # существование \"0\"\n",
        "prove(fpEQ(1 * x, x)) # существование \"1\"\n",
        "prove(Or(fpGT(x, FPVal(0.0, Float64())),\n",
        "               fpLT(x, FPVal(0.0, Float64())),\n",
        "               fpEQ(x, FPVal(0.0, Float64()))))\n",
        "prove(fpEQ(x * (y + z), x * y + x * z))\n",
        "prove(fpGE(x * x, FPVal(0.0, Float64())))"
      ],
      "metadata": {
        "colab": {
          "base_uri": "https://localhost:8080/",
          "height": 483
        },
        "id": "lmmUtGdJgl3w",
        "outputId": "d4416233-5172-45d2-ca9a-7af3025665eb"
      },
      "execution_count": 21,
      "outputs": [
        {
          "output_type": "stream",
          "name": "stdout",
          "text": [
            "counterexample\n",
            "[y = 1.2826462109743730355404522924800403416156768798828125*(2**-1007),\n",
            " x = NaN]\n",
            "counterexample\n",
            "[z = -1.83292133245385002737748436629772186279296875*(2**186),\n",
            " y = -1.99417904020143765819739201106131076812744140625*(2**140),\n",
            " x = -1.0006098246604013812799394145258702337741851806640625*(2**195)]\n",
            "counterexample\n",
            "[x = NaN]\n",
            "counterexample\n",
            "[x = NaN]\n",
            "counterexample\n",
            "[x = NaN]\n",
            "counterexample\n",
            "[z = -0.0000129781779569793087603102321736514568328857421875*(2**-1022),\n",
            " y = 0.9616023276995395718813597341068089008331298828125*(2**-1022),\n",
            " x = NaN]\n"
          ]
        },
        {
          "output_type": "error",
          "ename": "NameError",
          "evalue": "name 'fpGE' is not defined",
          "traceback": [
            "\u001b[0;31m---------------------------------------------------------------------------\u001b[0m",
            "\u001b[0;31mNameError\u001b[0m                                 Traceback (most recent call last)",
            "\u001b[0;32m/tmp/ipython-input-21-878393010.py\u001b[0m in \u001b[0;36m<cell line: 0>\u001b[0;34m()\u001b[0m\n\u001b[1;32m     13\u001b[0m                fpEQ(x, FPVal(0.0, Float64()))))\n\u001b[1;32m     14\u001b[0m \u001b[0mprove\u001b[0m\u001b[0;34m(\u001b[0m\u001b[0mfpEQ\u001b[0m\u001b[0;34m(\u001b[0m\u001b[0mx\u001b[0m \u001b[0;34m*\u001b[0m \u001b[0;34m(\u001b[0m\u001b[0my\u001b[0m \u001b[0;34m+\u001b[0m \u001b[0mz\u001b[0m\u001b[0;34m)\u001b[0m\u001b[0;34m,\u001b[0m \u001b[0mx\u001b[0m \u001b[0;34m*\u001b[0m \u001b[0my\u001b[0m \u001b[0;34m+\u001b[0m \u001b[0mx\u001b[0m \u001b[0;34m*\u001b[0m \u001b[0mz\u001b[0m\u001b[0;34m)\u001b[0m\u001b[0;34m)\u001b[0m\u001b[0;34m\u001b[0m\u001b[0;34m\u001b[0m\u001b[0m\n\u001b[0;32m---> 15\u001b[0;31m \u001b[0mprove\u001b[0m\u001b[0;34m(\u001b[0m\u001b[0mfpGE\u001b[0m\u001b[0;34m(\u001b[0m\u001b[0mx\u001b[0m \u001b[0;34m*\u001b[0m \u001b[0mx\u001b[0m\u001b[0;34m,\u001b[0m \u001b[0mFPVal\u001b[0m\u001b[0;34m(\u001b[0m\u001b[0;36m0.0\u001b[0m\u001b[0;34m,\u001b[0m \u001b[0mFloat64\u001b[0m\u001b[0;34m(\u001b[0m\u001b[0;34m)\u001b[0m\u001b[0;34m)\u001b[0m\u001b[0;34m)\u001b[0m\u001b[0;34m)\u001b[0m\u001b[0;34m\u001b[0m\u001b[0;34m\u001b[0m\u001b[0m\n\u001b[0m",
            "\u001b[0;31mNameError\u001b[0m: name 'fpGE' is not defined"
          ]
        }
      ]
    },
    {
      "cell_type": "code",
      "source": [
        "x = BitVec(\"x\", 64)\n",
        "y = BitVec(\"y\", 64)\n",
        "z = BitVec(\"z\", 64)\n",
        "\n",
        "prove(x + y == y + x) # коммутативность\n",
        "prove(((x + y) + z) == ((x + (y + z)))) # ассоциативность\n",
        "prove(x + 0 == x) # существование \"0\"\n",
        "prove(1 * x == x) # существование \"1\"\n",
        "prove(Or(x > 0, x < 0, x == 0))\n",
        "prove(x * (y + z) == x * y + x * z)\n",
        "prove(x ** 2 >= 0)"
      ],
      "metadata": {
        "colab": {
          "base_uri": "https://localhost:8080/",
          "height": 287
        },
        "id": "_ORvV_w7gm5d",
        "outputId": "0925fdac-9c48-41a0-86cb-2b51882f6acf"
      },
      "execution_count": 14,
      "outputs": [
        {
          "output_type": "stream",
          "name": "stdout",
          "text": [
            "proved\n",
            "proved\n",
            "proved\n",
            "proved\n",
            "proved\n",
            "proved\n"
          ]
        },
        {
          "output_type": "error",
          "ename": "TypeError",
          "evalue": "unsupported operand type(s) for ** or pow(): 'BitVecRef' and 'int'",
          "traceback": [
            "\u001b[0;31m---------------------------------------------------------------------------\u001b[0m",
            "\u001b[0;31mTypeError\u001b[0m                                 Traceback (most recent call last)",
            "\u001b[0;32m/tmp/ipython-input-14-3577054015.py\u001b[0m in \u001b[0;36m<cell line: 0>\u001b[0;34m()\u001b[0m\n\u001b[1;32m      9\u001b[0m \u001b[0mprove\u001b[0m\u001b[0;34m(\u001b[0m\u001b[0mOr\u001b[0m\u001b[0;34m(\u001b[0m\u001b[0mx\u001b[0m \u001b[0;34m>\u001b[0m \u001b[0;36m0\u001b[0m\u001b[0;34m,\u001b[0m \u001b[0mx\u001b[0m \u001b[0;34m<\u001b[0m \u001b[0;36m0\u001b[0m\u001b[0;34m,\u001b[0m \u001b[0mx\u001b[0m \u001b[0;34m==\u001b[0m \u001b[0;36m0\u001b[0m\u001b[0;34m)\u001b[0m\u001b[0;34m)\u001b[0m\u001b[0;34m\u001b[0m\u001b[0;34m\u001b[0m\u001b[0m\n\u001b[1;32m     10\u001b[0m \u001b[0mprove\u001b[0m\u001b[0;34m(\u001b[0m\u001b[0mx\u001b[0m \u001b[0;34m*\u001b[0m \u001b[0;34m(\u001b[0m\u001b[0my\u001b[0m \u001b[0;34m+\u001b[0m \u001b[0mz\u001b[0m\u001b[0;34m)\u001b[0m \u001b[0;34m==\u001b[0m \u001b[0mx\u001b[0m \u001b[0;34m*\u001b[0m \u001b[0my\u001b[0m \u001b[0;34m+\u001b[0m \u001b[0mx\u001b[0m \u001b[0;34m*\u001b[0m \u001b[0mz\u001b[0m\u001b[0;34m)\u001b[0m\u001b[0;34m\u001b[0m\u001b[0;34m\u001b[0m\u001b[0m\n\u001b[0;32m---> 11\u001b[0;31m \u001b[0mprove\u001b[0m\u001b[0;34m(\u001b[0m\u001b[0mx\u001b[0m \u001b[0;34m**\u001b[0m \u001b[0;36m2\u001b[0m \u001b[0;34m>=\u001b[0m \u001b[0;36m0\u001b[0m\u001b[0;34m)\u001b[0m\u001b[0;34m\u001b[0m\u001b[0;34m\u001b[0m\u001b[0m\n\u001b[0m",
            "\u001b[0;31mTypeError\u001b[0m: unsupported operand type(s) for ** or pow(): 'BitVecRef' and 'int'"
          ]
        }
      ]
    },
    {
      "cell_type": "markdown",
      "source": [
        "### **Задачи**"
      ],
      "metadata": {
        "id": "p1juijbIOYIV"
      }
    },
    {
      "cell_type": "markdown",
      "source": [
        "1) Доказать, что евклидово расстояние от точки (x, y) до начала координат всегда неотрицательно:\n",
        "√(x² + y²) ≥ 0"
      ],
      "metadata": {
        "id": "TnJlH6B8OjP8"
      }
    },
    {
      "cell_type": "code",
      "source": [
        "x, y = Reals(\"x y\")\n",
        "prove(Sqrt(x**2 + y**2) >= 0)\n"
      ],
      "metadata": {
        "colab": {
          "base_uri": "https://localhost:8080/"
        },
        "id": "eRiTWM3cOXzJ",
        "outputId": "1bfa9c18-0977-4088-d905-6c57c63ac5d3"
      },
      "execution_count": 6,
      "outputs": [
        {
          "output_type": "stream",
          "name": "stdout",
          "text": [
            "proved\n"
          ]
        }
      ]
    },
    {
      "cell_type": "markdown",
      "source": [
        "2) Доказать, что расстояние между точками A и B в 2D-пространстве симметрично:\n",
        "расстояние(A, B) == расстояние(B, A)"
      ],
      "metadata": {
        "id": "1Cc2hKMyOtDZ"
      }
    },
    {
      "cell_type": "code",
      "source": [
        "x1, y1, x2, y2 = Reals(\"x1 y1 x2 y2\")\n",
        "d1 = Sqrt((x1 - x2)**2 + (y1 - y2)**2)\n",
        "d2 = Sqrt((x2 - x1)**2 + (y2 - y1)**2)\n",
        "prove(d1 == d2)\n"
      ],
      "metadata": {
        "colab": {
          "base_uri": "https://localhost:8080/"
        },
        "id": "OBF3aiNmOwbj",
        "outputId": "9d225eae-faf0-423e-c586-ee74d8252347"
      },
      "execution_count": 5,
      "outputs": [
        {
          "output_type": "stream",
          "name": "stdout",
          "text": [
            "proved\n"
          ]
        }
      ]
    },
    {
      "cell_type": "markdown",
      "source": [
        "3) Доказать, что если x ≠ 0, то (1 / x) * x = 1"
      ],
      "metadata": {
        "id": "xVyWROb5PEHo"
      }
    },
    {
      "cell_type": "code",
      "source": [
        "x = Real(\"x\")\n",
        "prove(Implies(x != 0, (1 / x) * x == 1))\n"
      ],
      "metadata": {
        "colab": {
          "base_uri": "https://localhost:8080/"
        },
        "id": "y8unz2viPG56",
        "outputId": "bd003668-6cc3-4ca0-f420-95523d7d127e"
      },
      "execution_count": 7,
      "outputs": [
        {
          "output_type": "stream",
          "name": "stdout",
          "text": [
            "proved\n"
          ]
        }
      ]
    },
    {
      "cell_type": "markdown",
      "source": [
        "4) Доказать, что x делится на 2 если младший бит равен 0"
      ],
      "metadata": {
        "id": "5FUfFk1KQiKC"
      }
    },
    {
      "cell_type": "code",
      "source": [
        "x = BitVec(\"x\", 32)\n",
        "prove(URem(x, 2) == 0 == (x & 1) == 0)\n"
      ],
      "metadata": {
        "colab": {
          "base_uri": "https://localhost:8080/"
        },
        "id": "G3f6hrO6QyMo",
        "outputId": "bfbb24e5-bced-4206-a02a-c4c9e31e14bd"
      },
      "execution_count": 9,
      "outputs": [
        {
          "output_type": "stream",
          "name": "stdout",
          "text": [
            "counterexample\n",
            "[x = 1]\n"
          ]
        }
      ]
    }
  ]
}