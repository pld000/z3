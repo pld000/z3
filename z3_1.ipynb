{
  "nbformat": 4,
  "nbformat_minor": 0,
  "metadata": {
    "kernelspec": {
      "display_name": "Python 3",
      "language": "python",
      "name": "python3"
    },
    "language_info": {
      "codemirror_mode": {
        "name": "ipython",
        "version": 3
      },
      "file_extension": ".py",
      "mimetype": "text/x-python",
      "name": "python",
      "nbconvert_exporter": "python",
      "pygments_lexer": "ipython3",
      "version": "3.7.1"
    },
    "colab": {
      "provenance": [],
      "collapsed_sections": [
        "3qMpDirRohiW",
        "6K_st8HGoQyn",
        "5hEc8PFhUKlD",
        "H7okGE98nr_K",
        "wbVFYYgV0m7Q",
        "3u6pIRc4ME44",
        "1ukzf5kIUKmW",
        "N_o5IP6OUKmj",
        "BHCgJDNHUKmm",
        "MYksuqubUKmp",
        "MWms65rq-zIh",
        "6U4nVFi6Pd_a",
        "33P_8SQkUKl0",
        "WsOw3z7kPk2t",
        "F03PmOmlOq0C",
        "vw8zelnlUKlH",
        "u33tyjfJUKlf",
        "TCBrZ7dlUKlR",
        "Z-uHdIJ4Lmum",
        "GuHghAJZhVYU",
        "zv2v7hMdQXYJ",
        "H3iJJUBgUKmE",
        "M8LictGeUKmI",
        "KnHBTb7mUKmN",
        "W4FTUGNqUKmy",
        "I8w4aGWzweZf",
        "m_rRSNQQDceE",
        "8GGNEjjrUKmz",
        "cxXzHOLKFeVa",
        "x_w71CkVUKm8",
        "NPLzDoLSSxX_",
        "IM4UZ9VvUKnS",
        "m4AiutvLUKnV",
        "jaf4pezGBufg",
        "HFqUI_QaUKnf",
        "hXYeDuwwUKnj",
        "N1ZVc12tUKnl",
        "5yriQ_RrOdsk",
        "TS_tq5HikDsU"
      ],
      "include_colab_link": true
    }
  },
  "cells": [
    {
      "cell_type": "markdown",
      "metadata": {
        "id": "view-in-github",
        "colab_type": "text"
      },
      "source": [
        "<a href=\"https://colab.research.google.com/github/pld000/z3/blob/main/z3_1.ipynb\" target=\"_parent\"><img src=\"https://colab.research.google.com/assets/colab-badge.svg\" alt=\"Open In Colab\"/></a>"
      ]
    },
    {
      "cell_type": "markdown",
      "metadata": {
        "id": "E0UzejdHUKk4"
      },
      "source": [
        "# I. Теорем-прувер Z3 на Python\n",
        "\n",
        "Z3 -- формально программа для автоматического доказательства теорем (theorem prover), однако она используется в повседневном программировании в самых разных целях, а особенно в проектах искусственного интеллекта. Z3 применяется и для решения самых разных логических и математических задач, и для автоматизации тестирования, и для верификации и синтеза программ и помощи в разработке сложных систем.\n",
        "\n",
        "Z3 разработан и активно развивается научным подразделением Microsoft Research. Оригинальная версия собирается, конечно, в Visual Studio.\n",
        "https://github.com/z3prover/z3\n",
        "\n",
        "Мы будем использовать Z3Py -- обёртку на Python вокруг оригинального Z3. Для экспериментов с ней, и весьма сложных, достаточно colab-ноутбука.\n",
        "\n",
        "Существуют также API к Z3 на Си/C++, .NET, Java и OCaml.\n",
        "\n",
        "---\n",
        "\n",
        "Материалы для самостоятельного изучения, ссылки на оригинальные ноутбуки:\n",
        "\n",
        "https://ericpony.github.io/z3py-tutorial/guide-examples.htm\n",
        "\n",
        "Programming Z3 https://theory.stanford.edu/~nikolaj/programmingz3.html\n",
        "\n",
        "rise4fun https://rise4fun.com/z3/tutorialcontent/guide\n",
        "\n",
        "Yurichev's book \"SMT by Example\"\n",
        "https://yurichev.com/writings/SAT_SMT_by_example.pdf\n",
        "\n",
        "---\n",
        "\n",
        "*Подготовлено Высшей школой программирования Сергея Бобровского 2023*\n",
        "\n",
        "https://vk.com/lambda_brain\n"
      ]
    },
    {
      "cell_type": "code",
      "metadata": {
        "id": "OUKlzodoUZsd"
      },
      "source": [
        "!pip install z3-solver # установка"
      ],
      "execution_count": null,
      "outputs": []
    },
    {
      "cell_type": "code",
      "metadata": {
        "id": "Ngw74lKfUKk5"
      },
      "source": [
        "from z3 import * # подключаем все возможности"
      ],
      "execution_count": null,
      "outputs": []
    },
    {
      "cell_type": "markdown",
      "metadata": {
        "id": "3qMpDirRohiW"
      },
      "source": [
        "# 1. Первые шаги"
      ]
    },
    {
      "cell_type": "markdown",
      "metadata": {
        "id": "6K_st8HGoQyn"
      },
      "source": [
        "## 1.1. Переменные"
      ]
    },
    {
      "cell_type": "markdown",
      "metadata": {
        "id": "qe2X_Yg_UKk-"
      },
      "source": [
        "Например, имеется формула x + 2 * y = 7 , и мы хотим найти значения x и y, при которых она будет истинна.\n",
        "\n",
        "Z3 это сделает автоматически, но мы должны ему объяснить исходные условия задачки.\n",
        "\n",
        "Для этого первым шагом надо определить для солвера **переменные**, значениями которых будет манипулировать Z3.\n",
        "\n",
        "Переменные для Z3 задаются типом и идентификатором.\n",
        "Определим в формате Z3 две переменные x и y:\n",
        "\n"
      ]
    },
    {
      "cell_type": "code",
      "metadata": {
        "id": "QowdC_OoY5lt"
      },
      "source": [
        "x = Int('x')\n",
        "y = Int('y')\n",
        "type(x)"
      ],
      "execution_count": null,
      "outputs": []
    },
    {
      "cell_type": "markdown",
      "metadata": {
        "id": "4SE_6Gh6ZL1n"
      },
      "source": [
        "x и y -- это значения некоторого внутреннего типа `ArithRef` в Z3 (указатель на арифметический объект, выражение арифметического типа).\n",
        "\n",
        "Проще всего считать, что x и y -- это целочисленные переменные (в системе типов Z3, конечно, а не Python). На самом деле x и y -- это некоторые целочисленные значения в математическом смысле, а не в вычислительном.\n",
        "\n",
        "Тип `Int` -- это \"тип\" переменной, он используется для задания идентификаторов в коде Z3. Если требуется использовать значения (например, целочисленные константы), к названию типа добавляется `Val`. Константы Python приводятся к подходящим типам Z3 автоматически, но можно задавать их и явно."
      ]
    },
    {
      "cell_type": "code",
      "metadata": {
        "id": "Fkz0ZXbCUXOk"
      },
      "source": [
        "print(IntVal(123)) # целые\n",
        "print(BoolVal(True)) # булевы\n",
        "print(RealVal(2.5)) # вещественные\n",
        "print(Q(1,3)) # иррациональные"
      ],
      "execution_count": null,
      "outputs": []
    },
    {
      "cell_type": "markdown",
      "metadata": {
        "id": "amWGqJfzH3W5"
      },
      "source": [
        "Одной командой можно задавать сразу несколько переменных."
      ]
    },
    {
      "cell_type": "code",
      "metadata": {
        "id": "tlbJmqEVIAh4"
      },
      "source": [
        "a, b, c = Reals('a b c')\n",
        "s, r = Ints('s r')"
      ],
      "execution_count": null,
      "outputs": []
    },
    {
      "cell_type": "markdown",
      "metadata": {
        "id": "kT2OlhcN0b1M"
      },
      "source": [
        "Конечно, стандартные функции Python тоже можно активно использовать."
      ]
    },
    {
      "cell_type": "code",
      "metadata": {
        "id": "_L_YUoTO0ad4"
      },
      "source": [
        "p = Real(\"p\")\n",
        "type(p) # какой тип этой переменной?\n",
        "dir(p) # какие операции и функции над этим типом доступны?"
      ],
      "execution_count": null,
      "outputs": []
    },
    {
      "cell_type": "markdown",
      "metadata": {
        "id": "5hEc8PFhUKlD"
      },
      "source": [
        "## 1.2. Ограничения\n",
        "\n",
        "Далее требуется задать так называемые **ограничения** (constraints), или условия, которых Z3 надо придерживаться при решении задачи. Чем больше ограничений, чем проще будет Z3 находить решение.\n",
        "\n",
        "Например, мы хотим найти значения x и y для формулы x + 2 * y = 7 при условиях, что x > 2, а y < 10. Это выполнит функция `solve()`:\n"
      ]
    },
    {
      "cell_type": "code",
      "metadata": {
        "id": "TLZ7ukUDUKk_"
      },
      "source": [
        "solve(x > 2, y < 10, x + 2*y == 7) # решить данную систему из трёх ограничений"
      ],
      "execution_count": null,
      "outputs": []
    },
    {
      "cell_type": "markdown",
      "metadata": {
        "id": "Fu7MBUX1J7Cp"
      },
      "source": [
        "Ограничения задаются простым перечислением через запятую, как аргументы функции solve().\n",
        "\n",
        "Важно понимать, что на самом деле `x + 2*y == 7` -- это тоже ограничение, точно такое же, как x > 2 и y < 10. Хотя для разработчика смысловая разница между ограничениями, конечно, имеется.\n",
        "\n",
        "В ограничениях используются стандартные логические операции Python: `== != >= > <= <`"
      ]
    },
    {
      "cell_type": "code",
      "metadata": {
        "id": "CJGcQunmns7Z"
      },
      "source": [
        "# На самом деле, первые два ограничения не обязательны (но заранее мы этого не знали):\n",
        "solve(x + 2 * y == 7)"
      ],
      "execution_count": null,
      "outputs": []
    },
    {
      "cell_type": "code",
      "metadata": {
        "id": "6rS01GlJnhE3"
      },
      "source": [
        "solve(x > 2) # будет найдено первое наименьшее подходящее значение"
      ],
      "execution_count": null,
      "outputs": []
    },
    {
      "cell_type": "code",
      "metadata": {
        "id": "h7WcY-Y9n9rv"
      },
      "source": [
        "# Изменим ограничения:\n",
        "solve(x < 2, y < 10, x + 2*y == 7)"
      ],
      "execution_count": null,
      "outputs": []
    },
    {
      "cell_type": "markdown",
      "metadata": {
        "id": "xrgSx62cTBv9"
      },
      "source": [
        "Z3 может конечно и не находить решения. В таких случаях говорят, что система ограничений нерешаемая, неистинная (unsatisfiable)."
      ]
    },
    {
      "cell_type": "code",
      "metadata": {
        "id": "DIO0ZRKNTBwA"
      },
      "source": [
        "x = Real('x')\n",
        "solve(x > 4, x < 0) # no solution"
      ],
      "execution_count": null,
      "outputs": []
    },
    {
      "cell_type": "code",
      "metadata": {
        "id": "-XY3pNBnz0Hn"
      },
      "source": [
        "# Арифметические операции\n",
        "print(x + x) # сложение\n",
        "print(Sum([IntVal(i) for i in range(5)])) # Сумма значений списка\n",
        "print(x * x) # умножение\n",
        "print(x ** 4) # возведение в степень\n",
        "\n",
        "# Логические операции\n",
        "p = Bool('p')\n",
        "q = Bool('q')\n",
        "r = Bool('r')\n",
        "print(And(p,q))\n",
        "print(And(p,q,r)) # операция может быть применена к более чем двум аргументам\n",
        "print(Or(p,q))\n",
        "print(Implies(p,q))\n",
        "print(Xor(p,q))\n",
        "\n",
        "# Условия/ограничения\n",
        "print(x == x) # равно\n",
        "print(x != x) # не равно\n",
        "print(x <= RealVal(3)) # неравенство\n",
        "\n",
        "# ограничения -- это операции над булевыми выражениями\n",
        "print(Or( x < 3,  x == 3, x > 3  ))\n",
        "\n",
        "# И много всего другого, документация: s https://z3prover.github.io/api/html/namespacez3py.html"
      ],
      "execution_count": null,
      "outputs": []
    },
    {
      "cell_type": "markdown",
      "metadata": {
        "id": "H7okGE98nr_K"
      },
      "source": [
        "## 1.3. Упрощения\n",
        "\n",
        "В дополнение к простому поиску значений Z3 также умеет выполнять **упрощения** выражений и ограничений (в функциональном программировании они называются **редукции**). Фактически работа с выражениями выполняется на символическом уровне.\n",
        "\n",
        "Это естественная фича Z3, так как в процессе поиска значений гораздо удобнее и быстрее работать с упрощенными выражениями.\n",
        "\n",
        "Упрощение выполняет функция `simplify()`.\n"
      ]
    },
    {
      "cell_type": "code",
      "metadata": {
        "id": "z-OPXCk4qON8"
      },
      "source": [
        "x = Int(\"x\")\n",
        "print(simplify(2*x + 2*x )) # 4*x\n",
        "print(simplify(2*x - 2*x )) # 0"
      ],
      "execution_count": null,
      "outputs": []
    },
    {
      "cell_type": "code",
      "metadata": {
        "id": "FCUjAAY2UKlD"
      },
      "source": [
        "# Более сложное выражение:\n",
        "y = Int('y')\n",
        "print(simplify(x + y + 2*x + 3))"
      ],
      "execution_count": null,
      "outputs": []
    },
    {
      "cell_type": "code",
      "metadata": {
        "id": "CDsXpwg0qot8"
      },
      "source": [
        "# Обратите внимание на результат:\n",
        "print(simplify(x < y + x + 2)) # ожидается y > -2 ..."
      ],
      "execution_count": null,
      "outputs": []
    },
    {
      "cell_type": "markdown",
      "metadata": {
        "id": "banWh1mCrY7C"
      },
      "source": [
        "Z3 выводит результат в инвертированном виде. Not() -- это операция логического отрицания Z3, условно говоря, `not (y <= -2)` на Python."
      ]
    },
    {
      "cell_type": "code",
      "metadata": {
        "id": "m39u8nieCcnx"
      },
      "source": [
        "print(simplify(x + y + 2*x + 3))\n",
        "print(simplify(x < y + x + 2))\n",
        "print(simplify(And(x + 1 >= 3, x**2 + x**2 + y**2 + 2 >= 5)))"
      ],
      "execution_count": null,
      "outputs": []
    },
    {
      "cell_type": "markdown",
      "metadata": {
        "id": "kMDUQtJgJLqN"
      },
      "source": [
        "---\n",
        "\n",
        "Команда `simplify` содержит набор готовых трансформаций для выражений Z3. Список её настроек можно получить вызовом `help_simplify()`"
      ]
    },
    {
      "cell_type": "code",
      "metadata": {
        "id": "sFtdlQbVJLqR",
        "colab": {
          "base_uri": "https://localhost:8080/"
        },
        "outputId": "17af03d6-6c90-4893-bd8b-7f0715bcced1"
      },
      "source": [
        "help_simplify()"
      ],
      "execution_count": null,
      "outputs": [
        {
          "output_type": "stream",
          "name": "stdout",
          "text": [
            "algebraic_number_evaluator (bool) simplify/evaluate expressions containing (algebraic) irrational numbers. (default: true)\n",
            "arith_ineq_lhs (bool) rewrite inequalities so that right-hand-side is a constant. (default: false)\n",
            "arith_lhs (bool) all monomials are moved to the left-hand-side, and the right-hand-side is just a constant. (default: false)\n",
            "bit2bool (bool) try to convert bit-vector terms of size 1 into Boolean terms (default: true)\n",
            "blast_distinct (bool) expand a distinct predicate into a quadratic number of disequalities (default: false)\n",
            "blast_distinct_threshold (unsigned int) when blast_distinct is true, only distinct expressions with less than this number of arguments are blasted (default: 4294967295)\n",
            "blast_eq_value (bool) blast (some) Bit-vector equalities into bits (default: false)\n",
            "blast_select_store (bool) eagerly replace all (select (store ..) ..) term by an if-then-else term (default: false)\n",
            "bv_extract_prop (bool) attempt to partially propagate extraction inwards (default: false)\n",
            "bv_ineq_consistency_test_max (unsigned int) max size of conjunctions on which to perform consistency test based on inequalities on bitvectors. (default: 0)\n",
            "bv_ite2id (bool) rewrite ite that can be simplified to identity (default: false)\n",
            "bv_le2extract (bool) disassemble bvule to extract (default: true)\n",
            "bv_le_extra (bool) additional bu_(u/s)le simplifications (default: false)\n",
            "bv_not_simpl (bool) apply simplifications for bvnot (default: false)\n",
            "bv_sort_ac (bool) sort the arguments of all AC operators (default: false)\n",
            "cache_all (bool) cache all intermediate results. (default: false)\n",
            "elim_and (bool) conjunctions are rewritten using negation and disjunctions (default: false)\n",
            "elim_ite (bool) eliminate ite in favor of and/or (default: true)\n",
            "elim_rem (bool) replace (rem x y) with (ite (>= y 0) (mod x y) (- (mod x y))). (default: false)\n",
            "elim_sign_ext (bool) expand sign-ext operator using concat and extract (default: true)\n",
            "elim_to_real (bool) eliminate to_real from arithmetic predicates that contain only integers. (default: false)\n",
            "eq2ineq (bool) expand equalities into two inequalities (default: false)\n",
            "expand_nested_stores (bool) replace nested stores by a lambda expression (default: false)\n",
            "expand_power (bool) expand (^ t k) into (* t ... t) if  1 < k <= max_degree. (default: false)\n",
            "expand_select_ite (bool) expand select over ite expressions (default: false)\n",
            "expand_select_store (bool) conservatively replace a (select (store ...) ...) term by an if-then-else term (default: false)\n",
            "expand_store_eq (bool) reduce (store ...) = (store ...) with a common base into selects (default: false)\n",
            "expand_tan (bool) replace (tan x) with (/ (sin x) (cos x)). (default: false)\n",
            "flat (bool) create nary applications for +,*,bvadd,bvmul,bvand,bvor,bvxor (default: true)\n",
            "flat_and_or (bool) create nary applications for and,or (default: true)\n",
            "gcd_rounding (bool) use gcd rounding on integer arithmetic atoms. (default: false)\n",
            "hi_div0 (bool) use the 'hardware interpretation' for division by zero (for bit-vector terms) (default: true)\n",
            "hoist_ite (bool) hoist shared summands under ite expressions (default: false)\n",
            "hoist_mul (bool) hoist multiplication over summation to minimize number of multiplications (default: false)\n",
            "ignore_patterns_on_ground_qbody (bool) ignores patterns on quantifiers that don't mention their bound variables. (default: true)\n",
            "ite_extra_rules (bool) extra ite simplifications, these additional simplifications may reduce size locally but increase globally (default: true)\n",
            "local_ctx (bool) perform local (i.e., cheap) context simplifications (default: false)\n",
            "local_ctx_limit (unsigned int) limit for applying local context simplifier (default: 4294967295)\n",
            "max_degree (unsigned int) max degree of algebraic numbers (and power operators) processed by simplifier. (default: 64)\n",
            "max_memory (unsigned int) maximum amount of memory in megabytes (default: 4294967295)\n",
            "max_steps (unsigned int) maximum number of steps (default: 4294967295)\n",
            "mul2concat (bool) replace multiplication by a power of two into a concatenation (default: false)\n",
            "mul_to_power (bool) collpase (* t ... t) into (^ t k), it is ignored if expand_power is true. (default: false)\n",
            "pull_cheap_ite (bool) pull if-then-else terms when cheap. (default: false)\n",
            "push_ite_arith (bool) push if-then-else over arithmetic terms. (default: false)\n",
            "push_ite_bv (bool) push if-then-else over bit-vector terms. (default: false)\n",
            "push_to_real (bool) distribute to_real over * and +. (default: true)\n",
            "rewrite_patterns (bool) rewrite patterns. (default: false)\n",
            "som (bool) put polynomials in sum-of-monomials form (default: false)\n",
            "som_blowup (unsigned int) maximum increase of monomials generated when putting a polynomial in sum-of-monomials normal form (default: 10)\n",
            "sort_store (bool) sort nested stores when the indices are known to be different (default: false)\n",
            "sort_sums (bool) sort the arguments of + application. (default: false)\n",
            "split_concat_eq (bool) split equalities of the form (= (concat t1 t2) t3) (default: false)\n",
            "\n"
          ]
        }
      ]
    },
    {
      "cell_type": "code",
      "metadata": {
        "id": "t-hiYI07JLqX"
      },
      "source": [
        "x, y = Reals('x y')\n",
        "t = simplify((x + y)**3, som=True) # что-то для работы с мономиалами\n",
        "print(t)\n",
        "t = simplify(t, mul_to_power=True) # использовать операцию возведения в степень\n",
        "print(t)\n"
      ],
      "execution_count": null,
      "outputs": []
    },
    {
      "cell_type": "code",
      "metadata": {
        "id": "EYWdTk1kJLqe"
      },
      "source": [
        "x, y = Reals('x y')\n",
        "print(simplify(x == y + 2, arith_lhs=True))"
      ],
      "execution_count": null,
      "outputs": []
    },
    {
      "cell_type": "markdown",
      "metadata": {
        "id": "wbVFYYgV0m7Q"
      },
      "source": [
        "## 1.4. Вычисления с рациональными и вещественными числами\n",
        "\n",
        "В Python, да и во всех других массовых языках программирования имеется тип \"вещественное число\" (число с десятичной запятой), однако в Z3 принято представление таких чисел как **рациональных значений**, представленных дробью (числителем и знаменателем). Для этого используется функция `Q(числитель, знаменатель)`, а рациональный тип в Z3 называется `Real` для переменных (и соответственно `RealVal` для чисел). В качестве значения можно указывать обычное вещественное значение Python, однако оно будет преобразовано в рациональное.\n",
        "\n"
      ]
    },
    {
      "cell_type": "code",
      "metadata": {
        "id": "InjcDHHL0IK9"
      },
      "source": [
        "print(RealVal(3.14159))\n",
        "print(RealVal(2.718281))"
      ],
      "execution_count": null,
      "outputs": []
    },
    {
      "cell_type": "markdown",
      "metadata": {
        "id": "3Z6TEAegUKlb"
      },
      "source": [
        "Z3 способен также в дополнение к рациональным числам работать с бесконечно длинными числами и иррациональными числами неограниченной точности (внутри Z3 они представляются, конечно, ограниченно). Иррациональные числа представляются при выводе как обычные вещественные числа с десятичной запятой."
      ]
    },
    {
      "cell_type": "code",
      "metadata": {
        "id": "9gEIQK822NLn"
      },
      "source": [
        "# Разрешение простого ограничения\n",
        "x = Real(\"x\")\n",
        "solve(x * Q(17, 23) > 123.45)"
      ],
      "execution_count": null,
      "outputs": []
    },
    {
      "cell_type": "markdown",
      "metadata": {
        "id": "QFnHJWFfUKlW"
      },
      "source": [
        "Z3 поддерживает все основные математические операции, и умеет разбираться, конечно, не только с линейными выражениями, но и, например, с полиномиальными ограничениями."
      ]
    },
    {
      "cell_type": "code",
      "metadata": {
        "id": "D7SxtoUZUKlX"
      },
      "source": [
        "# Ограничения посложнее\n",
        "x = Real('x')\n",
        "y = Real('y')\n",
        "solve(x**2 + 0.12 * y**2 > 3, x**3 + y < 5)"
      ],
      "execution_count": null,
      "outputs": []
    },
    {
      "cell_type": "markdown",
      "metadata": {
        "id": "JWPZyjpHaP9K"
      },
      "source": [
        "В случаях, когда значения переменных не удаётся выразить рациональным числом, используется вещественный формат. Так как значение иррациональное, в конце указывается ? (число продолжается дальше)."
      ]
    },
    {
      "cell_type": "code",
      "metadata": {
        "id": "ldE9lv2cUKlb"
      },
      "source": [
        "x = Real('x')\n",
        "y = Real('y')\n",
        "solve(x**2 + y**2 == 3, x**3 == 2)"
      ],
      "execution_count": null,
      "outputs": []
    },
    {
      "cell_type": "markdown",
      "metadata": {
        "id": "57uqDlWwbr0L"
      },
      "source": [
        "В коде можно комбинировать явные типы Z3 и числа Python, нужные преобразования типов выполнятся автоматически."
      ]
    },
    {
      "cell_type": "code",
      "metadata": {
        "id": "wH9uFT3mUKlg"
      },
      "source": [
        "print(1/3) # вещественное значение Python\n",
        "print(RealVal(1)/3) # рациональное значение Z3\n",
        "\n",
        "x = Real('x')\n",
        "\n",
        "# все значения, используемые в выражениях с x, будут преобразованы к типам Z3\n",
        "print(x + 1/3)\n",
        "print(x + \"1/3\")\n",
        "print(x + 0.25)\n"
      ],
      "execution_count": null,
      "outputs": []
    },
    {
      "cell_type": "markdown",
      "metadata": {
        "id": "3u6pIRc4ME44"
      },
      "source": [
        "# 2. Арифметика"
      ]
    },
    {
      "cell_type": "markdown",
      "metadata": {
        "id": "1ukzf5kIUKmW"
      },
      "source": [
        "## 2.1. Приведения типов\n",
        "Z3 может работать с веществеными/рациональными и целыми числами, которые могут перемешиваться, и Z3 автоматически выполняет нужные приведения типов."
      ]
    },
    {
      "cell_type": "code",
      "metadata": {
        "id": "_mT5pTz6UKmW"
      },
      "source": [
        "x = Real('x')\n",
        "y = Int('y')\n",
        "a, b, c = Reals('a b c')\n",
        "s, r = Ints('s r')\n",
        "print(x + y + 1 + (a + s))\n",
        "print(ToReal(y) + c) # функция ToReal() выполняет приведение выражения к вещественному типу"
      ],
      "execution_count": null,
      "outputs": []
    },
    {
      "cell_type": "code",
      "metadata": {
        "id": "0rTHxAnGUKma"
      },
      "source": [
        "a, b, c = Ints('a b c')\n",
        "d, e = Reals('d e')\n",
        "solve(a > b + 2,\n",
        "      a == 2*c + 10,\n",
        "      c + b <= 1000,\n",
        "      d >= e)\n"
      ],
      "execution_count": null,
      "outputs": []
    },
    {
      "cell_type": "markdown",
      "metadata": {
        "id": "G5El66nk0tLE"
      },
      "source": [
        "В Z3 имеются средства и для явного преобразования типов."
      ]
    },
    {
      "cell_type": "code",
      "metadata": {
        "id": "c9KgOwJQ0r89"
      },
      "source": [
        "x = Int(\"x\")\n",
        "y = Real(\"y\")\n",
        "ToReal(x)\n",
        "ToInt(y)"
      ],
      "execution_count": null,
      "outputs": []
    },
    {
      "cell_type": "markdown",
      "metadata": {
        "id": "N_o5IP6OUKmj"
      },
      "source": [
        "## 2.2. Большие и \"длинные\" числа\n",
        "Z3 может работать с бесконечно большими целыми числами и числами с бесконечным количеством знаков после запятой.\n",
        "\n",
        "Z3 поддерживает алгебраические иррациональные числа, которые представляются как решения полиномиальных алгебраических уравнений, однако для наглядности они выводятся в обычной десятичной нотации.\n",
        "\n",
        "Внутреннее представление некоторого значения можно получить методом sexpr(). Он отображает внутреннее представление Z3 для математических формул и выражений с помощью так называемых S-выражений (в стиле языка Lisp).\n"
      ]
    },
    {
      "cell_type": "code",
      "metadata": {
        "id": "Nr6yROzZUKmj"
      },
      "source": [
        "x, y = Reals('x y')\n",
        "solve(x + 10000000000000000000000 == y, y > 20000000000000000)\n",
        "\n",
        "print(Sqrt(2) + Sqrt(3))\n",
        "print(simplify(Sqrt(2) + Sqrt(3)))\n",
        "\n",
        "# внутренние представления\n",
        "print(simplify(Sqrt(2) + Sqrt(3)).sexpr())\n",
        "print((x + Sqrt(y) * 2).sexpr())"
      ],
      "execution_count": null,
      "outputs": []
    },
    {
      "cell_type": "markdown",
      "metadata": {
        "id": "BHCgJDNHUKmm"
      },
      "source": [
        "## 2.3. Битовая арифметика\n",
        "\n",
        "В Z3 имеется тип `битовые вектора` - BitVec, который позволяет явно задать количество бит, отводимых для хранения некоторого значения.\n",
        "\n",
        "Например, функция BitVec('x', 16) создаёт переменную x (битовый вектор) длиной 16 бит. Целочисленные значения также можно создавать аналогично: BitVecVal(10, 4) создаёт битовый вектор размером 4 бита, хранящий значение 10.\n"
      ]
    },
    {
      "cell_type": "code",
      "metadata": {
        "id": "HK_AKQSOUKmn"
      },
      "source": [
        "x = BitVec('x', 16)\n",
        "y = BitVec('y', 16)\n",
        "print(x + 2)\n",
        "print((x + 2).sexpr()) # внутреннее представление битового вектора\n",
        "\n",
        "print(simplify(x + y - 1))\n",
        "\n",
        "a = BitVecVal(-1, 16) # битовые константы\n",
        "b = BitVecVal(65535, 16)\n",
        "print(simplify(a == b))\n",
        "\n",
        "a = BitVecVal(-1, 32)\n",
        "b = BitVecVal(65535, 32)\n",
        "# для 32-битного числа со знаком значение -1 уже не \"равно\" значению 65535\n",
        "print(simplify(a == b))"
      ],
      "execution_count": null,
      "outputs": []
    },
    {
      "cell_type": "markdown",
      "metadata": {
        "id": "MYksuqubUKmp"
      },
      "source": [
        "## 2.4. Битовые знаковые и беззнаковые операции\n",
        "\n",
        "Z3 предлагает дополнительный набор операций для работы с беззнаковыми числами. Стандартные операции <, <=, >, >=, /, % и >> подразумевают работу с числами со знаками, а соответствующие им беззнаковые операции называются ULT, ULE, UGT, UGE, UDiv, URem и LShR.\n"
      ]
    },
    {
      "cell_type": "code",
      "metadata": {
        "id": "gXTb0LjkUKmq"
      },
      "source": [
        "x, y = BitVecs('x y', 32)\n",
        "solve(x + y == 2, x > 0, y > 0)\n"
      ],
      "execution_count": null,
      "outputs": []
    },
    {
      "cell_type": "code",
      "metadata": {
        "id": "gbROJF8tUKms"
      },
      "source": [
        "# Битовые операции (в Z3 они называются операторы)\n",
        "# & and\n",
        "# | or\n",
        "# ~ not\n",
        "solve(x & y == ~y)\n",
        "\n",
        "solve(x < 0)\n",
        "\n",
        "# беззнаковая версия операции <\n",
        "solve(ULT(x, 0))"
      ],
      "execution_count": null,
      "outputs": []
    },
    {
      "cell_type": "markdown",
      "metadata": {
        "id": "tltLG6fvUKmv"
      },
      "source": [
        "Оператор >> -- это побитовый сдвиг вправо, и << это побитовый сдвиг влево.\n",
        "\n",
        "Логический сдвиг вправо называется LShR."
      ]
    },
    {
      "cell_type": "code",
      "metadata": {
        "id": "7EqoWAf5UKmw"
      },
      "source": [
        "x, y = BitVecs('x y', 32)\n",
        "\n",
        "solve(x >> 2 == 3)\n",
        "\n",
        "solve(x << 2 == 3)\n",
        "\n",
        "solve(x << 2 == 24)"
      ],
      "execution_count": null,
      "outputs": []
    },
    {
      "cell_type": "markdown",
      "metadata": {
        "id": "MWms65rq-zIh"
      },
      "source": [
        "## 2.5 Примеры"
      ]
    },
    {
      "cell_type": "code",
      "metadata": {
        "id": "8Yg-lNoZ-1a5"
      },
      "source": [
        "x, y = Reals('x y')\n",
        "solve(x >= 0, Or(x + y <= 2, x + 2*y >= 6), Or(x + y >= 2, x + 2*y > 4))"
      ],
      "execution_count": null,
      "outputs": []
    },
    {
      "cell_type": "code",
      "metadata": {
        "id": "rmz4lapt_T-6"
      },
      "source": [
        "x, y, s1, s2 = Reals('x y s1 s2')\n",
        "solve(s1 == x + y, s2 == x + 2*y, x >= 0, Or(s1 <= 2, s2 >= 6), Or(s1 >= 2, s2 > 4))"
      ],
      "execution_count": null,
      "outputs": []
    },
    {
      "cell_type": "markdown",
      "metadata": {
        "id": "6U4nVFi6Pd_a"
      },
      "source": [
        "# 3. Булева логика"
      ]
    },
    {
      "cell_type": "markdown",
      "metadata": {
        "id": "33P_8SQkUKl0"
      },
      "source": [
        "## 3.1. Булев тип\n",
        "\n",
        "Z3 поддерживает булев тип Bool (True/False), классические логические операции And, Or, Not, Implies (импликация, причина -> следствие), а также форму условного оператора If (if-then-else).\n",
        "\n",
        "Логические операции записываются как функции, причём количество их аргументов может быть и больше двух. Например, And(p, q, True) означает на Python следующее: `p and q and True`\n"
      ]
    },
    {
      "cell_type": "markdown",
      "metadata": {
        "id": "WsOw3z7kPk2t"
      },
      "source": [
        "## 3.2. Решение булевых выражений"
      ]
    },
    {
      "cell_type": "code",
      "metadata": {
        "id": "9eR9-N9jPbIz"
      },
      "source": [
        "q = Bool('q')\n",
        "r = Bool('r')\n",
        "solve(r == Not(q)) # найти значения r и q такие, что r == not q"
      ],
      "execution_count": null,
      "outputs": []
    },
    {
      "cell_type": "code",
      "metadata": {
        "id": "6YMTW_W8Pu9Q"
      },
      "source": [
        "p = Bool('p')\n",
        "q = Bool('q')\n",
        "r = Bool('r')\n",
        "solve(Implies(p, q), r == Not(q), Or(Not(p), r))"
      ],
      "execution_count": null,
      "outputs": []
    },
    {
      "cell_type": "code",
      "metadata": {
        "id": "hngCqd0HPzb5"
      },
      "source": [
        "p = Bool('p')\n",
        "q = Bool('q')\n",
        "r = Bool('r')\n",
        "solve(Implies(p, q), r == Not(q), Or(Not(p), r))"
      ],
      "execution_count": null,
      "outputs": []
    },
    {
      "cell_type": "markdown",
      "metadata": {
        "id": "NbNaRt77P4iA"
      },
      "source": [
        "Логические выражения можно конечно тоже упрощать."
      ]
    },
    {
      "cell_type": "code",
      "metadata": {
        "id": "Pe0SwejnP8KB"
      },
      "source": [
        "p = Bool('p')\n",
        "q = Bool('q')\n",
        "print(simplify(And(p, q, True))) # p and q and True == p and q\n",
        "print(simplify(And(p, False))) # p and False == False"
      ],
      "execution_count": null,
      "outputs": []
    },
    {
      "cell_type": "markdown",
      "metadata": {
        "id": "j1TGjve7P_3g"
      },
      "source": [
        "Более сложный пример, где комбинируются полиномиальные и логические ограничения."
      ]
    },
    {
      "cell_type": "code",
      "metadata": {
        "id": "yDQZbwkEQDeQ"
      },
      "source": [
        "p = Bool('p')\n",
        "x = Real('x')\n",
        "solve(Or(x < 5, x > 10), Or(p, x**2 == 2), Not(p))"
      ],
      "execution_count": null,
      "outputs": []
    },
    {
      "cell_type": "markdown",
      "metadata": {
        "id": "F03PmOmlOq0C"
      },
      "source": [
        "# 4. Дополнительное"
      ]
    },
    {
      "cell_type": "markdown",
      "metadata": {
        "id": "vw8zelnlUKlH"
      },
      "source": [
        "## 4.1. Красивый вывод\n",
        "\n",
        "Z3 предлагает режим вывода результата в формате HTML. Для этого используется команда `set_option()`, чей булев параметр html_mode определяет, выводится ли результат в нотации Z3Py (False) или в HTML (True)."
      ]
    },
    {
      "cell_type": "code",
      "metadata": {
        "id": "eD26q1hjUKlI"
      },
      "source": [
        "x = Int('x')\n",
        "y = Int('y')\n",
        "print(x**2 + y**2 >= 1)\n",
        "set_option(html_mode=False) # вывод в стандартной нотации\n",
        "print(x**2 + y**2 >= 1)"
      ],
      "execution_count": null,
      "outputs": []
    },
    {
      "cell_type": "code",
      "metadata": {
        "id": "jQg2qUKUUKlN"
      },
      "source": [
        "set_option(html_mode=True) # вывод в нотации HTML\n",
        "print(x**2 + y**2 >= 1)"
      ],
      "execution_count": null,
      "outputs": []
    },
    {
      "cell_type": "markdown",
      "metadata": {
        "id": "0Yz_EoyzUKlQ"
      },
      "source": [
        "Скопируем и вставим этот HTML-код:\n",
        "\n",
        "x<sup>2</sup> + y<sup>2</sup> &ge; 1"
      ]
    },
    {
      "cell_type": "markdown",
      "metadata": {
        "id": "u33tyjfJUKlf"
      },
      "source": [
        "## 4.2. Настройка среды Z3 с помощью set_option\n",
        "\n",
        "`set_option()` позволяет также задавать и другие настройки среды выполнения Z3.\n",
        "\n",
        "В частности, параметр `precision` определяет количество десятичных знаков после запятой для иррациональных значений."
      ]
    },
    {
      "cell_type": "code",
      "metadata": {
        "id": "jCiyMcMnbD_5"
      },
      "source": [
        "set_option(precision=5)\n",
        "x = Real('x')\n",
        "y = Real('y')\n",
        "solve(x**2 + y**2 == 3, x**3 == 2)"
      ],
      "execution_count": null,
      "outputs": []
    },
    {
      "cell_type": "markdown",
      "metadata": {
        "id": "rAUYMJzYcpBK"
      },
      "source": [
        "Вывод рациональных чисел можно также выполнять в вещественном формате."
      ]
    },
    {
      "cell_type": "code",
      "metadata": {
        "id": "A9Uvl7TOUKlo"
      },
      "source": [
        "# включить представление рациональных значений в формате с плавающей запятой\n",
        "set_option(rational_to_decimal=True)\n",
        "solve(3*x == 1)\n",
        "\n",
        "# выключить ...\n",
        "set_option(rational_to_decimal=False)\n",
        "solve(6*x == 37)"
      ],
      "execution_count": null,
      "outputs": []
    },
    {
      "cell_type": "markdown",
      "metadata": {
        "id": "qtOiNncQXAl_"
      },
      "source": [
        "------------------------------\n"
      ]
    },
    {
      "cell_type": "markdown",
      "metadata": {
        "id": "TCBrZ7dlUKlR"
      },
      "source": [
        "## 4.3. Разбор и обход выражений\n",
        "\n",
        "Каждое выражение в Z3 представляется в виде абстрактного синтаксического дерева AST, что естественно для всех подобных систем. Z3 предлагает набор функции для анализа и изучения таких деревьев."
      ]
    },
    {
      "cell_type": "code",
      "metadata": {
        "id": "ugVISXCrUKlS"
      },
      "source": [
        "x = Int('x')\n",
        "y = Int('y')\n",
        "\n",
        "n = x + y >= 3 # сохраним выражение в переменной n\n",
        "\n",
        "# количество аргументов (переменных) в выражении\n",
        "print(\"num args: \", n.num_args()) # 2 - x и y\n",
        "\n",
        "# в изучаемом выражении корень дерева -- операция >=\n",
        "# у дерева два потомка: левая и правая части выражения\n",
        "\n",
        "print(\"children: \", n.children()) # 2 потомка\n",
        "\n",
        "print(\"1st child:\", n.arg(0)) # левый потомок\n",
        "print(\"2nd child:\", n.arg(1)) # правый потомок\n",
        "print(\"operator: \", n.decl()) # оператор-корень\n",
        "print(\"op name:  \", n.decl().name()) # его наглядное имя"
      ],
      "execution_count": null,
      "outputs": []
    },
    {
      "cell_type": "markdown",
      "metadata": {
        "id": "Z-uHdIJ4Lmum"
      },
      "source": [
        "## 4.4. Строки\n",
        "\n",
        "В дополнение к числовым и логическим значениям Z3 умеет также логически рассуждать и относительно строк (тип String). Для этого используется довольно богатый набор строковых операций, которые, как и операциии над другими типами, связываются логическими связками."
      ]
    },
    {
      "cell_type": "code",
      "metadata": {
        "id": "yJ0qy_4LMYrk"
      },
      "source": [
        "s, t, u = Strings('s t u')\n",
        "solve(And(PrefixOf(s, t), SuffixOf(u, t)), # s - префикс t; u - суффикс t\n",
        "      And(Length(s) > 1, Length(u) > 1), # чтобы не генерировались пустые строки решения\n",
        "      s != u)"
      ],
      "execution_count": null,
      "outputs": []
    },
    {
      "cell_type": "code",
      "metadata": {
        "id": "rGW-hBaxN0Wr"
      },
      "source": [
        "s, t = Consts('s t', SeqSort(IntSort()))\n",
        "solve(Concat(s, Unit(IntVal(2))) == Concat(Unit(IntVal(1)), t))"
      ],
      "execution_count": null,
      "outputs": []
    },
    {
      "cell_type": "markdown",
      "metadata": {
        "id": "GuHghAJZhVYU"
      },
      "source": [
        "## 4.5. Работа со списками\n",
        "\n",
        "В Python традиционно хорошо развиты выразительные и лаконичные механизы работы со списками. Этот полезный подход активно задействован и в Z3. Если вы знакомились с функциональным программированием на моём курсе по F#, то наверняка помните, какое значение отводится спискам и различным рекурсивным приёмам их обработки. Теперь посмотрим на это направление с точки зрения математической логики."
      ]
    },
    {
      "cell_type": "code",
      "metadata": {
        "id": "qGgr-DmPhh9l"
      },
      "source": [
        "# создаём стандартный список питона со значениями 1,2,3,4,5\n",
        "print([ x + 1 for x in range(5) ])\n",
        "\n",
        "# создаём два списка из целочисленных переменных в формате Z3\n",
        "X = [ Int('x%s' % i) for i in range(5) ]\n",
        "Y = [ Int('y%s' % i) for i in range(5) ]\n",
        "print(X)\n",
        "\n",
        "# создаём список, равный сумме их значений\n",
        "X_plus_Y = [ X[i] + Y[i] for i in range(5) ]\n",
        "\n",
        "# в качестве результата будет, конечно, список из формул Z3,\n",
        "# а не из конкретных \"значений\"\n",
        "print(X_plus_Y)\n",
        "\n",
        "# булева операция для связи двух списков\n",
        "X_gt_Y = [ X[i] > Y[i] for i in range(5) ]\n",
        "print(X_gt_Y)\n",
        "\n",
        "# отрицание всех формул в списке целиком\n",
        "print(And(X_gt_Y))\n",
        "\n",
        "# матрица 3x3\n",
        "X = [ [ Int(\"x_%s_%s\" % (i+1, j+1)) for j in range(3) ]\n",
        "      for i in range(3) ]\n",
        "\n",
        "pp(X) # специальная команда Z3 для форматированного вывода списков"
      ],
      "execution_count": null,
      "outputs": []
    },
    {
      "cell_type": "markdown",
      "metadata": {
        "id": "k6bsdqbGhs1P"
      },
      "source": [
        "Z3 также позволяет создавать одной операцией список (вектор) из заданного числа переменных целых, вещественных и булевых значений. В схеме автоматического формирования имён этих переменных в списках разберитесь самостоятельно."
      ]
    },
    {
      "cell_type": "code",
      "metadata": {
        "id": "jIqGaQUEhxpg"
      },
      "source": [
        "X = IntVector('x', 5) # список из пяти целых переменных\n",
        "Y = RealVector('y', 3) # список из трёх вещественных переменных\n",
        "P = BoolVector('p', 7) # список из семи булевых переменных\n",
        "print(X)\n",
        "print(Y)\n",
        "print(P)\n",
        "print([ y**2 for y in Y ])\n",
        "\n",
        "print(Sum([ y**2 for y in Y ])) # на выходе получаем готовую формулу суммы всех элементов списка"
      ],
      "execution_count": null,
      "outputs": []
    },
    {
      "cell_type": "markdown",
      "metadata": {
        "id": "GInhxtt9OBp8"
      },
      "source": [
        "В Z3 имеется тип `Seq` (последовательность), который задаёт потенциально бесконечную последовательность элементов любого типа. Например, тип String -- это последовательность 8-битных векторов. Для создания последовательности из одного элемента используется функция `Unit` с аргументом-значением."
      ]
    },
    {
      "cell_type": "code",
      "metadata": {
        "id": "Errtl-xZPO2h"
      },
      "source": [
        "s, t = Consts('s t', SeqSort(IntSort())) # зададим две последовательности целых чисел\n",
        "solve(Concat(s, Unit(IntVal(2))) == Concat(Unit(IntVal(1)), t)) # {s,2} == {1,t}"
      ],
      "execution_count": null,
      "outputs": []
    },
    {
      "cell_type": "markdown",
      "metadata": {
        "id": "zv2v7hMdQXYJ"
      },
      "source": [
        "# 5. Солверы"
      ]
    },
    {
      "cell_type": "markdown",
      "metadata": {
        "id": "AySqAOBZUKmA"
      },
      "source": [
        "Функция solve в Z3 может работать, используя различные решатели (солверы, solvers). По умолчанию используется собственный солвер Z3, но его можно при желании заменять на другой через Z3 API.\n"
      ]
    },
    {
      "cell_type": "markdown",
      "metadata": {
        "id": "H3iJJUBgUKmE"
      },
      "source": [
        "## 5.1. Универсальный солвер\n",
        "\n",
        "Класс `Solver()` -- это универсальный многоцелевой солвер. Ограничения добавляются ему методом `add()` (говорят -- декларируются в решателе, asserted). Метод `check()` выполняет решение задекларированных ограничений. Результатом становится либо `sat` (истинно, satisfiable), если решение найдено, либо `unsat` (неистинно, unsatisfiable), если решения нету. Можно также сказать, что система декларируемых ограничений невыполнима. Кроме того, в процессе работы солвер может \"запутаться\" в рассуждениях и завершиться общей неудачей с неизвестным результатом `unknown`.\n",
        "\n",
        "Для добавления и удаления декларируемых ограничений используются команды `push` и `pop`, а сам солвер хранит стек таких деклараций.\n"
      ]
    },
    {
      "cell_type": "code",
      "metadata": {
        "id": "q8zbOOX7UKmB"
      },
      "source": [
        "x = Int('x')\n",
        "y = Int('y')\n",
        "\n",
        "s = Solver() # создаём объект-решатель\n",
        "\n",
        "s.add(x > 10, y == x + 2) # добавляем ограничение\n",
        "print(s) # будет выведено это ограничение\n",
        "\n",
        "print(\"решение\", s.check()) # ищем решение -- sat или unsat?"
      ],
      "execution_count": null,
      "outputs": []
    },
    {
      "cell_type": "code",
      "metadata": {
        "id": "deeFJUkbc3jK"
      },
      "source": [
        "s.push() # втолкнём текущее ограничение в стек солвера\n",
        "s.add(y < 11) # добавим новое ограничение\n",
        "print(s)\n",
        "print(s.check()) # решения теперь нету -- unsat\n",
        "\n",
        "s.pop() # удалим последнее новое ограничение\n",
        "print(s)\n",
        "print(s.check()) # sat"
      ],
      "execution_count": null,
      "outputs": []
    },
    {
      "cell_type": "markdown",
      "metadata": {
        "id": "y9QFn9QQZrdG"
      },
      "source": [
        "Пример, который Z3 не может решить."
      ]
    },
    {
      "cell_type": "code",
      "metadata": {
        "id": "U3fUJsPLUKmF"
      },
      "source": [
        "x = Real('x')\n",
        "s = Solver()\n",
        "s.add(2**x == 3)\n",
        "print(s.check()) # unknown\n"
      ],
      "execution_count": null,
      "outputs": []
    },
    {
      "cell_type": "markdown",
      "metadata": {
        "id": "M8LictGeUKmI"
      },
      "source": [
        "## 5.2. Обход и анализ ограничений\n",
        "\n",
        "Ограничения, задекларированные в солвере, можно перебирать, а также собирать статистики производительности для метода check.\n"
      ]
    },
    {
      "cell_type": "code",
      "metadata": {
        "id": "KvRkzGZ0UKmJ"
      },
      "source": [
        "x = Real('x')\n",
        "y = Real('y')\n",
        "s = Solver()\n",
        "s.add(x > 1, y > 1, Or(x + y > 3, x - y < 2))\n",
        "for c in s.assertions(): # перебираем список из трёх ограничений\n",
        "    print(c)\n",
        "\n",
        "s.check()\n",
        "\n",
        "print(s.statistics()) # общий список статистик по check\n",
        "\n",
        "for k, v in s.statistics(): # выводим каждую статистику\n",
        "    print(\"%s : %s\" % (k, v)) # название : показатель производительности"
      ],
      "execution_count": null,
      "outputs": []
    },
    {
      "cell_type": "markdown",
      "metadata": {
        "id": "KnHBTb7mUKmN"
      },
      "source": [
        "## 5.3. Модель решения\n",
        "\n",
        "Говорят, что Z3 ищет значения, удовлетворяющие множеству заданных ограничений.\n",
        "\n",
        "**Решение** -- это модель для такого множества ограничений.\n",
        "**Модель** -- это некоторая работающая интерпретация, которая делает каждое заданное ограничение истинным.\n"
      ]
    },
    {
      "cell_type": "code",
      "metadata": {
        "id": "f3ErVIDDUKmO"
      },
      "source": [
        "x, y, z = Reals('x y z')\n",
        "\n",
        "s = Solver()\n",
        "s.add(x > 1, y > 1, x + y > 3, z - x < 10)\n",
        "print(s.check()) # sat\n",
        "\n",
        "m = s.model() # вытаскиваем из солвера модель правильного решения\n",
        "print(m)\n",
        "\n",
        "# чему равен x в решении?\n",
        "print(\"x = %s\" % m[x]) # интерпретация x в модели\n",
        "\n",
        "for d in m.decls(): # перебираем все переменные модели\n",
        "    print(\"%s = %s\" % (d.name(), m[d]))\n"
      ],
      "execution_count": null,
      "outputs": []
    },
    {
      "cell_type": "markdown",
      "metadata": {
        "id": "DTVv5738EjBU"
      },
      "source": [
        "Ещё пример."
      ]
    },
    {
      "cell_type": "code",
      "metadata": {
        "id": "B-ivWq5sBk--"
      },
      "source": [
        "x = Int(\"x\")\n",
        "y = Real(\"y\")\n",
        "z = Real(\"z\")\n",
        "p = Bool(\"p\")\n",
        "a = BitVec(\"a\",32)\n",
        "\n",
        "s = Solver()\n",
        "s.add(x == 2)\n",
        "s.add(y == 1/3)\n",
        "s.add(p == True)\n",
        "s.add(a == 0xDEADBEEF)\n",
        "print(s.check()) # sat\n",
        "\n",
        "m = s.model()\n",
        "\n",
        "# методы приведения к конкретным типам:\n",
        "print(m[x].as_long()) # длинное целое\n",
        "print(m[y].numerator_as_long() / m[y].denominator_as_long()) # числитель / знаменатель\n",
        "print(m[a].as_long())\n",
        "print(bool(m[p])) # булево\n",
        "\n",
        "m.eval(2*x + 1) # можно также вычислять выражения Z3 в контексте модели\n",
        "\n",
        "s = Solver()\n",
        "s.add(z ** 2 == 2)\n",
        "print(s.check())\n",
        "m = s.model()\n",
        "print(m[z]) # иррациональный формат\n",
        "print(m[z].approx()) # рациональный вид\n",
        "print(m[z].approx().numerator_as_long() / m[z].approx().denominator_as_long())"
      ],
      "execution_count": null,
      "outputs": []
    },
    {
      "cell_type": "markdown",
      "metadata": {
        "id": "pqdaeDNsEmwh"
      },
      "source": [
        "Другой пример с булевой формулой."
      ]
    },
    {
      "cell_type": "code",
      "metadata": {
        "id": "6i9NOg4GEoWk"
      },
      "source": [
        "Tie, Shirt = Bools('Tie Shirt')\n",
        "s = Solver()\n",
        "s.add(Or(Tie, Shirt), Implies(Tie, Shirt), Implies(Shirt, Not(Tie)))\n",
        "print(s.check())\n",
        "print(s.model())"
      ],
      "execution_count": null,
      "outputs": []
    },
    {
      "cell_type": "markdown",
      "metadata": {
        "id": "W4FTUGNqUKmy"
      },
      "source": [
        "# 6. Функции"
      ]
    },
    {
      "cell_type": "markdown",
      "metadata": {
        "id": "I8w4aGWzweZf"
      },
      "source": [
        "## 6.1. Немного о системе типов Z3\n",
        "\n",
        "Сами по себе типы в Z3 называются sorts (сорта -- в смысле виды, классы). Для непосредственного задания сорта (например, типов параметров функций) используется обычная запись типа Z3, к которому добавлено Sort."
      ]
    },
    {
      "cell_type": "code",
      "metadata": {
        "id": "RNVLY0KHxH0f"
      },
      "source": [
        "# Объявления переменных Z3 разных типов (сортов)\n",
        "x = Bool(\"x\") # явный булев тип\n",
        "x = Const(\"x\" , BoolSort()) # то же самое, но по другому: переменная x типа BoolSort\n",
        "p, q, r = Bools(\"p q r\") # групповое определение нескольких переменных\n",
        "x = Real(\"x\")\n",
        "y = Int(\"x\")\n",
        "v = BitVec(\"n\", 32) # 32-битный вектор\n",
        "f = FP(\"f\", Float64()) # вещественный тип, с плавающей запятой\n",
        "a = Array(\"a\", IntSort(), BoolSort()) # массив (целый индекс - булево значение)\n",
        "f = Function(\"f\", IntSort(), BoolSort(), BoolSort()) # функция с двумя булевыми параметрами, возвращающая значение целого типа"
      ],
      "execution_count": null,
      "outputs": []
    },
    {
      "cell_type": "code",
      "metadata": {
        "id": "wOyYTz-oMuIj"
      },
      "source": [
        "x = Const('x', IntSort())\n",
        "print (eq(x, Int('x')))\n",
        "\n",
        "a, b = Consts('a b', BoolSort())\n",
        "print (And(a, b))"
      ],
      "execution_count": null,
      "outputs": []
    },
    {
      "cell_type": "code",
      "metadata": {
        "id": "TU-N39tULJJ3"
      },
      "source": [
        "# позапускайте эти примеры несколько раз, и сравните результаты\n",
        "x = FP('x', FPSort(3, 4))\n",
        "y = FP('y', FPSort(3, 4))\n",
        "solve(10 * x == y)\n",
        "solve(10 * x == y, x != 0)"
      ],
      "execution_count": null,
      "outputs": []
    },
    {
      "cell_type": "markdown",
      "metadata": {
        "id": "43y7V0Pvyxg9"
      },
      "source": [
        "Продвинутым пользователям также доступны алгебраические типы данных и ряд других сильных, но достаточно сложных фич."
      ]
    },
    {
      "cell_type": "markdown",
      "metadata": {
        "id": "m_rRSNQQDceE"
      },
      "source": [
        "## 6.2. Генерация имён переменных\n",
        "\n",
        "В сложных задачах, когда количество переменных составляет сотни, тысячи и более, задавать имена вручную слишком трудоёмко.\n",
        "\n",
        "Метод `FreshConst()` позволяет сгенерировать имя переменной автоматически (оно отличается обычно тем, что содержит в названии символ !). Первый параметр -- тип переменный, второй -- желаемый префикс.\n",
        "\n",
        "Имеется сокращённая версия, когда после Fresh просто указывается нужный тип."
      ]
    },
    {
      "cell_type": "code",
      "metadata": {
        "id": "82UQbRORDw9U"
      },
      "source": [
        "print(FreshReal(prefix=\"x\"))\n",
        "print(FreshBool(prefix=\"b\"))\n",
        "print(FreshConst(IntSort() , prefix=\"f\"))"
      ],
      "execution_count": null,
      "outputs": []
    },
    {
      "cell_type": "markdown",
      "metadata": {
        "id": "8GGNEjjrUKmz"
      },
      "source": [
        "## 6.3. Неинтерпретируемые фунции и константы\n",
        "\n",
        "Z3 -- это по сути функциональный язык, где функции чистые (не имеют побочных эффектов) и тотальные (выдают результат за фиксированное время на всём диапазоне входных значений). В качестве математической основы в Z3 используется логика первого порядка (FOL).\n",
        "\n",
        "В любом ограничении (например, x + y > 3), имеются идентификаторы, которые мы обычно называем переменные. Однако в FOL они называются **неинтерпретируемые константы**, что подразумевает, что допускается любая интерпретация этих идентификаторов, которая удовлетворяет ограничению x + y > 3.\n",
        "\n",
        "И функции, и символьные константы в FOl считаются неинтерпретируемыми, что означает, что никакого смысла (интерпретации) исходно в них не вкладывается. Это прямое отличие от языков программирования, где например операция + имеет фиксированную стандартную интерпретацию (сложение). Неинтерпретируемость придаёт высокую гибкость процессу автоматического решения: допускается любая интерпретация, которая позволит соблюсти заданное ограничение.\n",
        "\n",
        "Например, зададим две неинтерпретируемые целые константы x и y (переменные, по сути). И определим неинтерпретируемую функцию f, которая получает одним аргументом значение типа IntSort (Sort -- это не сортировка :) а \"сорт\" в смысле \"тип\"; IntSort -- это выражение целочисленного типа), и возвращает целое значение.\n"
      ]
    },
    {
      "cell_type": "code",
      "metadata": {
        "id": "Hd0cFPlRUKmz"
      },
      "source": [
        "x = Int('x')\n",
        "y = Int('y')\n",
        "f = Function('f', IntSort(), IntSort())\n",
        "solve(f(f(x)) == x, f(x) == y, x != y)\n"
      ],
      "execution_count": null,
      "outputs": []
    },
    {
      "cell_type": "markdown",
      "metadata": {
        "id": "4TpWiUsYUKm3"
      },
      "source": [
        "В качестве решения мы получаем не только значения переменных, но и решение (интерпретацию) для самой функции.\n",
        "\n",
        "[x = 0, y = 1, f = [1 &rarr; 0, else &rarr; 1]]\n",
        "\n",
        "Запись со стрелочками задаёт фунцию f() такую, что f(1) будет 0, а для всех остальных значений f() будет 1.\n",
        "\n",
        "Тогда f(x=0) выдаст y=1, и f(y=1) выдаст x=0. Ограничения успешно выполнены.\n"
      ]
    },
    {
      "cell_type": "code",
      "metadata": {
        "id": "07LlE-dFUKm3"
      },
      "source": [
        "# то же с помощью класса солвера\n",
        "x = Int('x')\n",
        "y = Int('y')\n",
        "f = Function('f', IntSort(), IntSort()) # задаём функцию f с целочисленными типами результата и параметра\n",
        "s = Solver()\n",
        "s.add(f(f(x)) == x, f(x) == y, x != y) # условие работы функции, и ограничения\n",
        "print(s.check())\n",
        "\n",
        "m = s.model()\n",
        "\n",
        "# метод evaluate() выполняет вычисления с найденными результатами,\n",
        "# в рамках текущего решения системы ограничений\n",
        "print(\"f(f(x)) =\", m.evaluate(f(f(x))))\n",
        "print(\"f(x)    =\", m.evaluate(f(x)))"
      ],
      "execution_count": null,
      "outputs": []
    },
    {
      "cell_type": "markdown",
      "metadata": {
        "id": "n5LWwXaru2uA"
      },
      "source": [
        "Дополнительно про типы/сорты:"
      ]
    },
    {
      "cell_type": "code",
      "metadata": {
        "id": "GlFU_XGTuwCv"
      },
      "source": [
        "Z = IntSort()\n",
        "B = BoolSort()\n",
        "f = Function('f', B, Z) # булев параметр, целый результат\n",
        "g = Function('g', Z, B) # целый параметр, булев результат\n",
        "a = Bool('a')\n",
        "solve(g(1+f(a)))"
      ],
      "execution_count": null,
      "outputs": []
    },
    {
      "cell_type": "code",
      "metadata": {
        "id": "xc1Xx6yuvYiH"
      },
      "source": [
        "solve(And(g(1+f(a)), Not(g(2)), a))"
      ],
      "execution_count": null,
      "outputs": []
    },
    {
      "cell_type": "code",
      "metadata": {
        "id": "SCXF9SgzvniG"
      },
      "source": [
        "solve(And(g(1+f(a)), Not(g(2)), a, f(True) == 1))"
      ],
      "execution_count": null,
      "outputs": []
    },
    {
      "cell_type": "markdown",
      "metadata": {
        "id": "cxXzHOLKFeVa"
      },
      "source": [
        "## 6.4. Чуть-чуть о теории неинтерпретируемых функций\n",
        "\n",
        "DeclareSort -- это свободный тип, не задающий каких-то конкретных требований к содержимому.\n"
      ]
    },
    {
      "cell_type": "code",
      "metadata": {
        "id": "AjPlHhtgGDUx"
      },
      "source": [
        "S = DeclareSort('S') # S будет параметром функции условно произвольного типа"
      ],
      "execution_count": null,
      "outputs": []
    },
    {
      "cell_type": "markdown",
      "metadata": {
        "id": "U4_fEQCyGNI-"
      },
      "source": [
        "Определим унарную функцию f, получающую одно значение типа S, и возвращающую значение такого же типа S."
      ]
    },
    {
      "cell_type": "code",
      "metadata": {
        "id": "U-cCFmLIGYUW"
      },
      "source": [
        "f = Function('f', S, S)"
      ],
      "execution_count": null,
      "outputs": []
    },
    {
      "cell_type": "markdown",
      "metadata": {
        "id": "VrI4w1LSGaWB"
      },
      "source": [
        "Добавим переменную x типа S."
      ]
    },
    {
      "cell_type": "code",
      "metadata": {
        "id": "5LZCzMp5Gehx"
      },
      "source": [
        "x = Const('x', S)"
      ],
      "execution_count": null,
      "outputs": []
    },
    {
      "cell_type": "markdown",
      "metadata": {
        "id": "eRi6tXdhGgLQ"
      },
      "source": [
        "Попробуем доказать следующее:"
      ]
    },
    {
      "cell_type": "code",
      "metadata": {
        "id": "nPwOVuWSGkq-"
      },
      "source": [
        "solve(f(f(x)) == x, f(f(f(x))) == x) # sat"
      ],
      "execution_count": null,
      "outputs": []
    },
    {
      "cell_type": "markdown",
      "metadata": {
        "id": "Tgq_pklR6uHV"
      },
      "source": [
        "Таким образом мы получили множество эквивалентных **термов** `{ x, f(f(x)), f(f(f(x))) }`.\n",
        "\n",
        "Но из f(f(x)) = x следует, что f(f(f(x)) = f(x) (если за x взять f(x)). Тогда мы получаем множество конгруэнтных термов `{ x, f(x), f(f(x)), f(f(f(x))) }`.\n",
        "\n",
        "И далее мы можем расширять это множество до бесконечности: `{ x, f(x), f(f(x)), f(f(f(x))), f(f(f(f(x)))), f(f(f(f(f(x))))), ... }`. Это называется **конгруэнтное замыкание**.\n"
      ]
    },
    {
      "cell_type": "code",
      "metadata": {
        "id": "9uE4pry4HB1i"
      },
      "source": [
        "solve(f(f(x)) == x, f(f(f(x))) == f(x) ) # sat"
      ],
      "execution_count": null,
      "outputs": []
    },
    {
      "cell_type": "markdown",
      "metadata": {
        "id": "ui9VKr758mlJ"
      },
      "source": [
        "Как это можно строго доказать? Так как мы расширяем множество одной подстановкой f(x)=x, попробуем найти контрпример (этой и другим тактикам решения и доказательства посвящён отдельный ноутбук). Для этого попытаемся найти такое значение функции f, при котором f(x)=x не выполнится."
      ]
    },
    {
      "cell_type": "code",
      "metadata": {
        "id": "TZHJpYM89EmF"
      },
      "source": [
        " solve(f(f(x)) == x, f(f(f(x))) == x, f(x) != x)"
      ],
      "execution_count": null,
      "outputs": []
    },
    {
      "cell_type": "markdown",
      "metadata": {
        "id": "GNJVG-Jb9HRb"
      },
      "source": [
        "Z3 ответит, что `no solution`, из чего и следует, что наша гипотеза об эквивалентном множестве истинна."
      ]
    },
    {
      "cell_type": "markdown",
      "metadata": {
        "id": "x_w71CkVUKm8"
      },
      "source": [
        "## 6.5. Истинность и валидность\n",
        "\n",
        "Формула/ограничение F считается валидной, если она истинна для **всех** значений её неинтерпретируемых символов.\n",
        "\n",
        "Формула/ограничение F считается истинной/решённой, если она истинна для **некоторых** значений её неинтерпретируемых символов.\n",
        "\n",
        "Валидность -- про поиск доказательства истинности формулы в целом.\n",
        "\n",
        "Истинность -- про поиск конкретного решения для системы ограничений.\n",
        "\n",
        "Напрямую с помощью солвера мы не можем определить валидность формулы в Z3 -- только её истинность. Простой способ проверять валидность -- это пытаться найти решение для отрицания формулы. Если оно найдено, сначит формула не валидна, и наоборот. Как это делать, рассказывается в следующих занятиях."
      ]
    },
    {
      "cell_type": "code",
      "metadata": {
        "id": "ZSYXPDb6UKm9"
      },
      "source": [
        "p, q = Bools('p q')\n",
        "demorgan = And(p, q) == Not(Or(Not(p), Not(q))) # p and q == not ((not p) or (not q))\n",
        "print(demorgan)\n",
        "\n",
        "def prove(f): # доказательство валидности формулы-параметра\n",
        "    s = Solver()\n",
        "    s.add(Not(f))\n",
        "    if s.check() == unsat: # если отрицание формулы не доказывается,\n",
        "        print(\"proved\") # значит формула валидна\n",
        "    else:\n",
        "        print(\"failed to prove\") # иначе невалидна\n",
        "\n",
        "prove(demorgan)"
      ],
      "execution_count": null,
      "outputs": []
    },
    {
      "cell_type": "markdown",
      "metadata": {
        "id": "NPLzDoLSSxX_"
      },
      "source": [
        "# 7. Простые физические задачи"
      ]
    },
    {
      "cell_type": "markdown",
      "metadata": {
        "id": "IM4UZ9VvUKnS"
      },
      "source": [
        "## 7.1. Школьная задачка по физике\n",
        "\n",
        "В школе мы проходили уравнения, связывающие пройденное расстояние d, время t, ускорение a и начальную и конечную скорости движения v1 и v2. Например, мотоциклист едет со скоростью 30 м/с, на светофоре загорается жёлтый, он начинает тормозить с ускорением -8 м/с^2. Надо найти расстояние, которое он пройдёт до полной остановки."
      ]
    },
    {
      "cell_type": "code",
      "metadata": {
        "id": "Cgr7U_FCUKnS"
      },
      "source": [
        "d, a, t, v1, v2 = Reals('d a t v1 v2') # объявляем наши переменные\n",
        "\n",
        "# система ограничений\n",
        "equations = [\n",
        "   d == v1 * t + (a*t**2)/2, # зависимость расстояния от ...\n",
        "   v2 == v1 + a*t, # связь между начальной и конечной скоростями\n",
        "]\n",
        "print(\"Условия:\")\n",
        "print(equations)\n",
        "\n",
        "# исходные данные\n",
        "problem = [\n",
        "    v1 == 30,\n",
        "    v2 == 0,\n",
        "    a   == -8\n",
        "]\n",
        "print(\"Задача:\")\n",
        "print(problem)\n",
        "\n",
        "print(\"Решение:\")\n",
        "solve(equations + problem)"
      ],
      "execution_count": null,
      "outputs": []
    },
    {
      "cell_type": "markdown",
      "metadata": {
        "id": "m4AiutvLUKnV"
      },
      "source": [
        "## 7.2. Вторая задачка по физике\n",
        "\n",
        "Мотоциклист стоит на светофоре. Как только загорается зелёный, он стартует с места с ускорением 6 м/с^2 на протяжении 4,1 секунды. Определите расстояние, которое мотоцикл преодолеет за это время.\n"
      ]
    },
    {
      "cell_type": "code",
      "metadata": {
        "id": "BmjbaOFmUKnW"
      },
      "source": [
        "# переменные и equations сохраним из предыдущего блока.\n",
        "\n",
        "# новые вводные\n",
        "problem = [\n",
        "    v1 == 0,\n",
        "    t   == 4.10,\n",
        "    a   == 6\n",
        "]\n",
        "\n",
        "# выведем результат в общепринятом формате с десятичным разделителем\n",
        "set_option(rational_to_decimal=True)\n",
        "\n",
        "solve(equations + problem)"
      ],
      "execution_count": null,
      "outputs": []
    },
    {
      "cell_type": "markdown",
      "metadata": {
        "id": "jaf4pezGBufg"
      },
      "source": [
        "# 8. Головоломки"
      ]
    },
    {
      "cell_type": "markdown",
      "metadata": {
        "id": "HFqUI_QaUKnf"
      },
      "source": [
        "## 8.1. Кот, пёс и мышь\n",
        "\n",
        "Классическая головоломка. У вас имеется 100 долларов, и вы можете купить 100 животных. Собаки стоят по 15 долларов, коты по 1 доллару, мыши по 25 центов. Вы должны купить хотя бы по одному животному каждого вида. Найдите решение этого паззла."
      ]
    },
    {
      "cell_type": "code",
      "metadata": {
        "id": "AP1jzSiXUKng"
      },
      "source": [
        "# наши переменные (количества животных)\n",
        "dog, cat, mouse = Ints('dog cat mouse')\n",
        "solve(dog >= 1,   # не менее одной собаки\n",
        "      cat >= 1,   # не менее одного кота\n",
        "      mouse >= 1, # не менее одной мыши\n",
        "\n",
        "      dog + cat + mouse == 100, # всего ровно сто животных\n",
        "\n",
        "      # У нас ровно 100 долларов (10000 центов):\n",
        "      #   пёс стоит 15 долларов (1500 центов),\n",
        "      #   кот стоит 1 доллар (100 центов),\n",
        "      #   мышь стоит 25 центов\n",
        "      1500 * dog + 100 * cat + 25 * mouse == 10000)"
      ],
      "execution_count": null,
      "outputs": []
    },
    {
      "cell_type": "markdown",
      "metadata": {
        "id": "hXYeDuwwUKnj"
      },
      "source": [
        "## 8.2. Судоку\n",
        "\n",
        "Судоку -- это классическая и очень популярная головоломка, которая стала самым популярным паззлом при обучении солверам.\n",
        "\n",
        "Есть квадрат 9x9 клеток, и надо заполнить его цифрами от 1 до 9 так, чтобы в каждом столбце, в каждой строке и в каждом квадрате 3x3 клетки содержались все цифры от 1 до 9."
      ]
    },
    {
      "cell_type": "code",
      "metadata": {
        "id": "DJKXc108UKnj"
      },
      "source": [
        "\n",
        "# исходная матрица 9x9 -- стандартный список списков\n",
        "X = [ [ Int(\"x_%s_%s\" % (i+1, j+1)) for j in range(9) ]\n",
        "      for i in range(9) ]\n",
        "\n",
        "# формируем ограничения:\n",
        "\n",
        "# в каждой ячейке значение от 1 до 9\n",
        "cells_c  = [ And(1 <= X[i][j], X[i][j] <= 9)\n",
        "             for i in range(9) for j in range(9) ]\n"
      ],
      "execution_count": null,
      "outputs": []
    },
    {
      "cell_type": "markdown",
      "metadata": {
        "id": "QPOx21NfphhH"
      },
      "source": [
        "Как проверить, что в столбце/строке все числа различны? В этом поможет функция Z3 `Distinct()`. Вызываемая, в частности, в генераторе списка, она обеспечивает различие всех её аргументов в этом списке."
      ]
    },
    {
      "cell_type": "code",
      "metadata": {
        "id": "nUvQIzuMprmh"
      },
      "source": [
        "# в каждой строке матрицы имеются все цифры от 1 до 9\n",
        "rows_c   = [ Distinct(X[i]) for i in range(9) ]\n",
        "\n",
        "# в каждом столбце матрицы имеются все цифры от 1 до 9\n",
        "cols_c   = [ Distinct([ X[i][j] for i in range(9) ])\n",
        "             for j in range(9) ]\n",
        "\n",
        "# каждый квадрат 3x3 содержит все цифры от 1 до 9\n",
        "sq_c     = [ Distinct([ X[3*i0 + i][3*j0 + j]\n",
        "                        for i in range(3) for j in range(3) ])\n",
        "             for i0 in range(3) for j0 in range(3) ]\n",
        "\n",
        "# формируем общее ограничение на саму матрицу (набор списков)\n",
        "sudoku_c = cells_c + rows_c + cols_c + sq_c\n",
        "\n",
        "# в ячейках, которые надо заполнить, оставим 0\n",
        "instance = ((0,0,0,0,0,4,0,3,0),\n",
        "            (0,0,0,5,1,0,0,0,7),\n",
        "            (0,8,9,0,0,0,0,4,0),\n",
        "            (0,0,0,0,0,0,2,0,8),\n",
        "            (0,6,0,2,0,1,0,5,0),\n",
        "            (1,0,2,0,0,0,0,0,0),\n",
        "            (0,7,0,0,0,0,5,2,0),\n",
        "            (9,0,0,0,6,5,0,0,0),\n",
        "            (0,4,0,9,7,0,0,0,0))\n",
        "\n",
        "# добавим условие для результата:\n",
        "\n",
        "# идея, что для ячеек, где уже имеется \"итоговое\" значение,\n",
        "# мы добавляем в модель ограничение, чтобы в результате в соответствующей ячейке\n",
        "# оставалось именно такое число;\n",
        "\n",
        "# а остальные ячейки с нулями никак не обрабатываем (модель свободна в подборе значений для них)\n",
        "instance_c = [ If(instance[i][j] == 0, # в ячейке 0 ?\n",
        "                  True, # ограничение не добавляем\n",
        "                  X[i][j] == instance[i][j]) # требуем, чтобы в итоге значение было точно таким\n",
        "               for i in range(9) for j in range(9) ]\n",
        "\n",
        "s = Solver()\n",
        "s.add(sudoku_c + instance_c) # загружаем в солвер итоговый список условий\n",
        "\n",
        "if s.check() == sat: # решено?\n",
        "    m = s.model()\n",
        "    r = [ [ m.evaluate(X[i][j]) for j in range(9) ] # вычисляем нужные значения\n",
        "          for i in range(9) ]\n",
        "    print_matrix(r)\n",
        "else:\n",
        "    print(\"не получилось...\")\n",
        "\n",
        "def n_solutions(n): # вывод первых n решений\n",
        "    s = Solver()\n",
        "    s.add(sudoku_c + instance_c)\n",
        "    i = 0\n",
        "    while s.check() == sat and i < n:\n",
        "        m = s.model()\n",
        "        r = [[ m.evaluate(X[i][j]) for j in range(9)] for i in range(9)]\n",
        "        print_matrix(r)\n",
        "        fml = And([X[i][j] == m.evaluate(X[i][j]) for i in range(9) for j in range(9)])\n",
        "        s.add(Not(fml)) # накладываем дополнительное ограничение -- чтобы данное решение не повторялось на будущее\n",
        "        i += 1\n",
        "\n",
        "n_solutions(10)"
      ],
      "execution_count": null,
      "outputs": []
    },
    {
      "cell_type": "markdown",
      "metadata": {
        "id": "N1ZVc12tUKnl"
      },
      "source": [
        "## 8.3. Восемь ферзей\n",
        "\n",
        "Ещё одна классическая задачка, которую очень любят решать на курсах по функциональному и декларативному программированию. На шахматной доске надо расставить восемь ферзей так, чтобы никто друг друга не атаковал.\n",
        "\n",
        "В терминах условий Z3, нам по сути требуется задать всего одно ограничение: чтобы никакие два ферзя не располагались в одном столбце, строке или диагонали. Солвер на то и солвер, чтобы решать такие задачи для нас автоматически.\n"
      ]
    },
    {
      "cell_type": "code",
      "metadata": {
        "id": "eX5iMzTpUKnn"
      },
      "source": [
        "# Сперва представим в нашей системе ферзей.\n",
        "# Пусть каждый ферзь будет просто уникальное целое число от 1 до 8:\n",
        "Queens = [ Int('Q_%i' % (i + 1)) for i in range(8) ]\n",
        "\n",
        "# Теперь задаём ограничения на их расположение на доске.\n",
        "\n",
        "# Каждый ферзь должен быть уникальным в каждой строке.\n",
        "# Для этого просто потребуем, чтобы значения ферзей укладывались в диапазон 1..8,\n",
        "# а так как ферзей восемь, им \"автоматически\" придётся быть различными:\n",
        "val_c = [ And(1 <= Queens[i], Queens[i] <= 8) for i in range(8) ]\n",
        "\n",
        "# Уникальность ферзей в столбцах зададим с помощью Distinct():\n",
        "col_c = [ Distinct(Queens) ]\n",
        "\n",
        "# Столбцы и строки тут, конечно, условные.\n",
        "# Просто считаем их ортогональными, без привязки к реальным направлениям.\n",
        "\n",
        "# Ограничения по диагоналям:\n",
        "diag_c = [ If(i == j,\n",
        "              True,\n",
        "              And(Queens[i] - Queens[j] != i - j, Queens[i] - Queens[j] != j - i))\n",
        "           for i in range(8) for j in range(i) ]\n",
        "\n",
        "solve(val_c + col_c + diag_c) # покажите решение!"
      ],
      "execution_count": null,
      "outputs": []
    },
    {
      "cell_type": "markdown",
      "metadata": {
        "id": "5yriQ_RrOdsk"
      },
      "source": [
        "## 8.4. Словесный паззл"
      ]
    },
    {
      "cell_type": "markdown",
      "metadata": {
        "id": "KYDOu9woOhME"
      },
      "source": [
        "Один из классических типов головоломок -- это нахождение цифр, соответствующих буквам словесного выражения. Например, имеется выражение `send + more = money`, и надо вместо букв подставить подходящие цифры (одинаковые буквы -- это одинаковые цифры), чтобы оно получилось истинным."
      ]
    },
    {
      "cell_type": "code",
      "metadata": {
        "id": "j2IUL1hIPNvb"
      },
      "source": [
        "digits = Ints('s e n d m o r y') # задаём все буквы выражения как отдельные переменные\n",
        "s,e,n,d,m,o,r,y = digits # определим их и непосредственно в питоне\n",
        "\n",
        "# переводим слова в числа\n",
        "# с учётом десятичной позиции в соответствующем числе\n",
        "send = Sum([10**(3-i) * d for i,d in enumerate([s,e,n,d])])\n",
        "more = Sum([10**(3-i) * d for i,d in enumerate([m,o,r,e])])\n",
        "money = Sum([10**(4-i) * d for i,d in enumerate([m,o,n,e,y])])\n",
        "\n",
        "# print(send)\n",
        "\n",
        "solver = Solver()\n",
        "solver.add([s > 0, m > 0]) # первые цифры каждого числа должны быть ненулевые\n",
        "solver.add( [And(0 <= d, d <= 9) for d in digits]  ) # диапазоны остальных чисел -- одноразрядные цифры\n",
        "\n",
        "# все \"цифры\" s,e,n,d,m,o,r,y должны отличаться друг от друга\n",
        "solver.add( [ d1 != d2 for d1 in digits for d2 in digits if not eq(d1,d2)]  )\n",
        "\n",
        "# основное ограничение задачи\n",
        "solver.add(send + more == money) # :-)\n",
        "solver.check()\n",
        "\n",
        "m = solver.model()\n",
        "print(\" \"+str(m.evaluate(send)))\n",
        "print(\" \"+str(m.evaluate(more)))\n",
        "print(\"-----\")\n",
        "print(m.evaluate(money))"
      ],
      "execution_count": null,
      "outputs": []
    },
    {
      "cell_type": "markdown",
      "metadata": {
        "id": "TS_tq5HikDsU"
      },
      "source": [
        "# 9. Прикладное применение: управление зависимостями между пакетами"
      ]
    },
    {
      "cell_type": "markdown",
      "metadata": {
        "id": "KqCWEtRkUKnq"
      },
      "source": [
        "Если у вас есть опыт разбирательства со взаимосвязями между версиями пакетов в крупном проекте, вы наверняка сталкивались при этом с множеством проблем. В общем случае поиск подходящего (даже не минимального) набора зависимостей для успешной установки корневого пакета -- NP-полная задача. То есть поиск такого решения может занять непредсказуемое время (и довольно часто, очень большое):\n",
        "https://vk.com/wall-152484379_278\n",
        "\n",
        "Однако солверы для этой темы применяются весьма активно и достаточно успешно.\n",
        "\n",
        "Пусть каждый дистрибутив содержит некоторый файл с мета-данными, который задаёт список зависимостей для каждого пакета в дистрибутиве (имя пакета, версия, ...). Формально это задаётся так, что в мета-данных имеются зависимости (какие другие пакеты должны присутствовать в системе) и конфликтные условия (какие другие пакеты не должны присутствовать).\n",
        "\n",
        "Такую хорошо сформулированную задачу Z3 решает легко, если решение существует. Идея системы зависимостей будет такая, что мы определяем булеву переменную для каждого пакета. Она равна true, если соответствующий пакет должен быть в системе, и false, если соответствующий пакет не должен быть в системе.\n"
      ]
    },
    {
      "cell_type": "code",
      "metadata": {
        "id": "O4tHyXGsUKnr"
      },
      "source": [
        "a, b, c, d, e, f, g, z = Bools('a b c d e f g z') # список всех пакетов (и нужных, и ненужных)\n",
        "\n",
        "# Сформировать условие для зависимости между пакетами\n",
        "def DependsOn(pack, deps):\n",
        "   return And([ Implies(pack, dep) for dep in deps ]) # помните импликацию (причина-следствие)?\n",
        "\n",
        "# Например, DependsOn(a, [b, c, z]) сгенерирует ограничение\n",
        "# And(Implies(a, b), Implies(a, c), Implies(a, z))\n",
        "\n",
        "# Если устанавливается пакет a, то необходимо также установить пакеты b, c и z.\n",
        "print(DependsOn(a, [b, c, z]))\n",
        "\n",
        "# Если пакет d конфликтует с пакетом e, нужно выбрать только один из них.\n",
        "def Conflict(p1, p2):\n",
        "    return Or(Not(p1), Not(p2))\n",
        "\n",
        "# Пример. Обратите внимание, что сам список зависимых пакетов\n",
        "# может формироваться не линейно, а с логическими условиями.\n",
        "# Например, пакет c зависит от d или e (достаточно любого из них).\n",
        "\n",
        "solve(DependsOn(a, [b, c, z]),\n",
        "      DependsOn(b, [d]),\n",
        "      DependsOn(c, [Or(d, e), Or(f, g)]),\n",
        "      Conflict(d, e),\n",
        "      a, z)\n",
        "\n",
        "# Решение: пакеты g и e включать в проект не надо.\n"
      ],
      "execution_count": null,
      "outputs": []
    },
    {
      "cell_type": "markdown",
      "metadata": {
        "id": "gkRC2Eho-UrM"
      },
      "source": [
        "А если, например, зависимости пакета c изменить так: `DependsOn(c, [And(d, e), Or(f, g)])` -- (требуем, чтобы обязательно были пакеты d и e), то решения, естественно, не найдётся (так как эти пакеты также конфликтуют)."
      ]
    },
    {
      "cell_type": "code",
      "metadata": {
        "scrolled": true,
        "id": "2E2ba1G_UKnx"
      },
      "source": [
        "# вывод результирующего набора пакетов в более наглядном виде\n",
        "def install_check(*problem):\n",
        "    s = Solver()\n",
        "    s.add(*problem)\n",
        "    if s.check() == sat:\n",
        "        m = s.model()\n",
        "        r = []\n",
        "        for x in m:\n",
        "            if is_true(m[x]):\n",
        "                # x is a Z3 declaration\n",
        "                # x() returns the Z3 expression\n",
        "                # x.name() returns a string\n",
        "                r.append(x())\n",
        "        print(r)\n",
        "    else:\n",
        "        print(\"неверный инсталляционный профиль\")\n",
        "\n",
        "print(\"Вариант 1\")\n",
        "install_check(DependsOn(a, [b, c, z]),\n",
        "              DependsOn(b, [d]),\n",
        "              DependsOn(c, [Or(d, e), Or(f, g)]),\n",
        "              Conflict(d, e),\n",
        "              Conflict(d, g),\n",
        "              a, z)\n",
        "\n",
        "print(\"Вариант 2\")\n",
        "install_check(DependsOn(a, [b, c, z]),\n",
        "              DependsOn(b, [d]),\n",
        "              DependsOn(c, [Or(d, e), Or(f, g)]),\n",
        "              Conflict(d, e),\n",
        "              Conflict(d, g),\n",
        "              a, z, g)\n"
      ],
      "execution_count": null,
      "outputs": []
    }
  ]
}