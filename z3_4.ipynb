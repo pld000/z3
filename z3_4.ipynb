{
  "nbformat": 4,
  "nbformat_minor": 0,
  "metadata": {
    "kernelspec": {
      "display_name": "Python 3",
      "language": "python",
      "name": "python3"
    },
    "colab": {
      "provenance": [],
      "collapsed_sections": [
        "6ZmO6zYYNShJ",
        "K-OHkRiDVF-L",
        "pGXoB3H60VYN",
        "FTORy5G2VF-T",
        "OPlOrsofVF-0",
        "8BbmQyh-MRcL",
        "jO1pWtkPVF-8",
        "AI4akftFrswo",
        "WGs5WwNsZsKW",
        "xwrn4St8dV5U",
        "OMussMClVF_Q"
      ],
      "toc_visible": true,
      "include_colab_link": true
    }
  },
  "cells": [
    {
      "cell_type": "markdown",
      "metadata": {
        "id": "view-in-github",
        "colab_type": "text"
      },
      "source": [
        "<a href=\"https://colab.research.google.com/github/pld000/z3/blob/main/z3_4.ipynb\" target=\"_parent\"><img src=\"https://colab.research.google.com/assets/colab-badge.svg\" alt=\"Open In Colab\"/></a>"
      ]
    },
    {
      "cell_type": "markdown",
      "metadata": {
        "id": "djcHuNHey0j_"
      },
      "source": [
        "# IV. Продвинутые темы\n",
        "\n",
        "*Подготовлено Высшей школой программирования Сергея Бобровского 2023*\n",
        "\n",
        "https://vk.com/lambda_brain\n",
        "\n",
        "Ссылки на оригинальные ноутбуки в первом занятии."
      ]
    },
    {
      "cell_type": "code",
      "metadata": {
        "id": "wEVb7KP6Hrkk"
      },
      "source": [
        "!pip install \"z3-solver\"\n",
        "from z3 import *"
      ],
      "execution_count": null,
      "outputs": []
    },
    {
      "cell_type": "markdown",
      "metadata": {
        "id": "6ZmO6zYYNShJ"
      },
      "source": [
        "# 1. Выражения, сорта и декларации"
      ]
    },
    {
      "cell_type": "markdown",
      "metadata": {
        "id": "iId7d6RhVF9n"
      },
      "source": [
        "\n",
        "Выражения, сорта и декларации в Z3 доступны как ASTs (имеется в виду абстрактное синтаксическое дерево, АСТ). AST -- это по сути направленнный ациклический граф. Каждое выражение имеет свой сорт (тип). Метод sort() выдаёт сорт выражения."
      ]
    },
    {
      "cell_type": "code",
      "metadata": {
        "id": "iP526UEmVF9o"
      },
      "source": [
        "x = Int('x')\n",
        "y = Real('y')\n",
        "print ((x + 1).sort()) # сорт Int\n",
        "print ((y + 1).sort()) # сорт Real\n",
        "print ((x >= 2).sort()) # сорт Bool"
      ],
      "execution_count": null,
      "outputs": []
    },
    {
      "cell_type": "markdown",
      "metadata": {
        "id": "1hBaZGPQVF9t"
      },
      "source": [
        "Функция `eq(n1, n2)` возвращает True, если n1 и n2 имеют одно и то же AST. Это по сути тест на полную эквивалентность внутренних структур выражений."
      ]
    },
    {
      "cell_type": "code",
      "metadata": {
        "id": "5wnb60ouVF9t"
      },
      "source": [
        "x, y = Ints('x y')\n",
        "print (eq(x + y, x + y))\n",
        "print (eq(x + y, y + x)) # False: по обе стороны от знака операции расположены разные идентификаторы\n",
        "\n",
        "n = x + y\n",
        "print (eq(n, x + y))\n",
        "\n",
        "x2 = Int('x')\n",
        "print (eq(x, x2)) # сравнение x с самим собой\n",
        "\n",
        "print (eq(Int('x'), Real('x'))) # дробная часть не равна целой части"
      ],
      "execution_count": null,
      "outputs": []
    },
    {
      "cell_type": "markdown",
      "metadata": {
        "id": "Cy9ytFs_VF9x"
      },
      "source": [
        "Сравнение узлов выполняется на основе метода `hash()` (хэш-код для узла AST). Если хэши n1.hash() b n2.hash() равны, то eq(n1, n2) выдаст True."
      ]
    },
    {
      "cell_type": "code",
      "metadata": {
        "id": "3Xxf8lupVF9y"
      },
      "source": [
        "x = Int('x')\n",
        "print ((x + 1).hash())\n",
        "print ((1 + x).hash())\n",
        "print (x.sort().hash())"
      ],
      "execution_count": null,
      "outputs": []
    },
    {
      "cell_type": "markdown",
      "metadata": {
        "id": "iflRtzZkVF91"
      },
      "source": [
        "Выражения Z3 делятся на три базовые группы: **приложения, кванторы и связанные/свободные переменные**.\n",
        "\n",
        "**Приложений** достаточно для полноценного решения, если задача не содержит **квантора** всеобщности/существования. **Квантор всеобщности** для x требует, чтобы условие выполнялось для всех значений x, а **квантор существования** для x требует, чтобы условие выполнялось хотя бы для одного значения x.\n",
        "\n",
        "В Z3 формально не существует переменных, технически это **константы**, которые внутри движка представляются как функции (приложения) с 0 аргументов. Например, Int('x') -- это фактически объявление целочисленной функции x().\n",
        "\n",
        "Каждое приложение ассоциируется со своей **декларацией** (ссылкой, в некотором смысле), и содержит 0 или более аргументов. Метод decl() возвращает связанную с приложением декларацию. Метод num_args() возвращает количество аргументов приложения, а `arg(i)` -- i-й аргумент. Функция `is_expr(n)` возвращает True, если n -- выражение. Соответственно, `is_app(n)` (is_func_decl(n)) возвращает True, если n -- приложение (декларация)."
      ]
    },
    {
      "cell_type": "code",
      "metadata": {
        "id": "H2ACUCzKVF92"
      },
      "source": [
        "x = Int('x')\n",
        "print (\"is expression: \", is_expr(x))\n",
        "n = x + 1\n",
        "print (\"is application:\", is_app(n))\n",
        "print (\"decl:          \", n.decl())\n",
        "print (\"num args:      \", n.num_args())\n",
        "for i in range(n.num_args()):\n",
        "    print (\"arg(\", i, \") ->\", n.arg(i))"
      ],
      "execution_count": null,
      "outputs": []
    },
    {
      "cell_type": "markdown",
      "metadata": {
        "id": "lOd3QYb1VF96"
      },
      "source": [
        "Декларации имеют имена, доступные через метод `name()`. Декларация имеет арность (количество параметров), домен (типы параметров) и диапазон сортов."
      ]
    },
    {
      "cell_type": "code",
      "metadata": {
        "id": "1kyCfAycVF96"
      },
      "source": [
        "x   = Int('x') # x - переменая\n",
        "x_d = x.decl() # декларация переменной\n",
        "print (\"is_expr(x_d):     \", is_expr(x_d)) # переменная -- не выражение\n",
        "print (\"is_func_decl(x_d):\", is_func_decl(x_d))\n",
        "print (\"x_d.name():       \", x_d.name()) # просто x\n",
        "print (\"x_d.range():      \", x_d.range()) # один тип Int\n",
        "print (\"x_d.arity():      \", x_d.arity()) # 0 аргументов\n",
        "\n",
        "# вызов декларации как функции -- x_d() вернёт оригинальное приложение\n",
        "print (\"eq(x_d(), x):     \", eq(x_d(), x))\n"
      ],
      "execution_count": null,
      "outputs": []
    },
    {
      "cell_type": "code",
      "metadata": {
        "id": "texbq1O8Jw-Q"
      },
      "source": [
        "f   = Function('f', IntSort(), RealSort(), BoolSort()) # f - функция с параметрами (Int, Real) и результатом Bool\n",
        "print (\"f.name():         \", f.name())\n",
        "print (\"f.range():        \", f.range()) # Bool\n",
        "print (\"f.arity():        \", f.arity()) # 2\n",
        "for i in range(f.arity()):\n",
        "    print (\"domain(\", i, \"): \", f.domain(i)) # Int, Real\n",
        "\n",
        "print (f(x, x)) # приложение f(x, ToReal(x)) с двумя аргументами\n",
        "print (eq(f(x, x).decl(), f)) # True"
      ],
      "execution_count": null,
      "outputs": []
    },
    {
      "cell_type": "markdown",
      "metadata": {
        "id": "FL71QtzaVF9-"
      },
      "source": [
        "Встроенные декларации идентифицируются по их **роду** (виду, классу, типу, разновидности -- kind). Он доступен через метод kind(). Полный список всех встроенных деклараций доступен в файле z3consts.py (z3_api.h) в дистрибутиве Z3."
      ]
    },
    {
      "cell_type": "code",
      "metadata": {
        "id": "tfacPnjeVF9-"
      },
      "source": [
        "x, y = Ints('x y')\n",
        "print ((x + y).decl().kind() == Z3_OP_ADD) # это сложение\n",
        "print ((x + y).decl().kind() == Z3_OP_SUB)"
      ],
      "execution_count": null,
      "outputs": []
    },
    {
      "cell_type": "markdown",
      "metadata": {
        "id": "EjPLrG1_VF-D"
      },
      "source": [
        "Выражения можно упрощать через замену подвыражений с помощью функции `substitute`."
      ]
    },
    {
      "cell_type": "code",
      "metadata": {
        "id": "3cEQCg6sVF-D"
      },
      "source": [
        "x, y = Ints('x y')\n",
        "f    = Function('f', IntSort(), IntSort(), IntSort())\n",
        "g    = Function('g', IntSort(), IntSort())\n",
        "\n",
        "# выражение n -- комбинация двух функций f и g\n",
        "n    = f(f(g(x), g(g(x))), g(g(y)))\n",
        "print (n)\n",
        "\n",
        "# заменим g(g(x)) на y, и g(y) -- на x + 1\n",
        "print (substitute(n, (g(g(x)), y), (g(y), x + 1)))"
      ],
      "execution_count": null,
      "outputs": []
    },
    {
      "cell_type": "markdown",
      "metadata": {
        "id": "K-OHkRiDVF-L"
      },
      "source": [
        "# 2. Массивы\n"
      ]
    },
    {
      "cell_type": "markdown",
      "metadata": {
        "id": "pGXoB3H60VYN"
      },
      "source": [
        "## 2.1. Декларация массивов\n",
        "\n",
        "Массив вводится в программе с помощью ключевого слова `Array`. Первый параметр конструктора -- имя массива, второй -- тип индексов, третий -- тип значений."
      ]
    },
    {
      "cell_type": "code",
      "metadata": {
        "id": "mM66i0-LVF-L"
      },
      "source": [
        "I = IntSort()\n",
        "A = Array('A', I, I) # A -- массив, хранящий целые числа\n",
        "x = Int('x')\n",
        "print (A[x])\n",
        "print (Select(A, x))\n",
        "print (Store(A, x, 10))\n",
        "print (simplify(Select(Store(A, 2, x+1), 2))) # извлечь значение 2-го элемена, куда предварительно записать x+1"
      ],
      "execution_count": null,
      "outputs": []
    },
    {
      "cell_type": "markdown",
      "metadata": {
        "id": "0yzmQl0ezxB5"
      },
      "source": [
        "Более компактно массив некоторого типа можно задавать с помощью `Vector`, указывая тип как префикс."
      ]
    },
    {
      "cell_type": "code",
      "metadata": {
        "id": "HXZGsYpCVF-P"
      },
      "source": [
        "\n",
        "X = Array('x', IntSort(), IntSort())\n",
        "print (X[0] + X[1] + X[2] >=0) # ограничение на сумму трёх элементов массива (не лучший способ)\n",
        "\n",
        "X = IntVector('x', 3) # вектор из 3 целочисленных элементов\n",
        "print (X[0] + X[1] + X[2] >= 0)\n",
        "print (Sum(X) >= 0) # лучший способ задать соответствующее ограничение"
      ],
      "execution_count": null,
      "outputs": []
    },
    {
      "cell_type": "markdown",
      "metadata": {
        "id": "FTORy5G2VF-T"
      },
      "source": [
        "## 2.2. Select и Store\n",
        "\n",
        "В математической теории вычислений Джона Маккарти (автор термина \"Искусственный интеллект\" и языка Лисп) сформулирована базовая теория массивов, которая обычно задаётся двумя аксиомами. В них используются две операции:\n",
        "\n",
        "-- Select(a, i) возвращает значение, хранящееся в позиции i массива a.\n",
        "В нотации Z3 данную операцию можно записать как a[i];\n",
        "\n",
        "-- Store(a, i, v) возвращает новый массив, идентичный массиву a, но только в позиции i он содержит значение v.\n",
        "\n",
        "Первая аксиома подразумевает, что если i = j, то при Select(Store(A,x,v), j) мы получим v (записали в массив A значение v в позицию i, и затем считываем значение из результирующего массива A в позиции j, равной i).\n",
        "\n",
        "Пусть A -- массив целых, тогда условия A[x] == x и Store(A, x, y) == A истинны для массива, где x \"разложены\" по x, и когда x == y. Это можно доказать так:"
      ]
    },
    {
      "cell_type": "code",
      "metadata": {
        "id": "eKvhFzmeVF-T"
      },
      "source": [
        "A = Array('A', IntSort(), IntSort())\n",
        "x, y, v = Ints('x y v')\n",
        "prove(Implies(x == y,  Select(Store(A,x,v), y) == v))"
      ],
      "execution_count": null,
      "outputs": []
    },
    {
      "cell_type": "markdown",
      "metadata": {
        "id": "9eR1zwfIVF-W"
      },
      "source": [
        "И вторая аксиома на случай, когда x != y:\n",
        "\n",
        "Select(Store(A,x,v), y) должна равняться, очевидно, y-му значению A."
      ]
    },
    {
      "cell_type": "code",
      "metadata": {
        "id": "PAtBLWgQVF-X"
      },
      "source": [
        "prove(Implies(x != y,  Select(Store(A,x,v), y) == A[y]))\n"
      ],
      "execution_count": null,
      "outputs": []
    },
    {
      "cell_type": "code",
      "metadata": {
        "id": "zJDwKA-xYgi_"
      },
      "source": [
        "# Пример\n",
        "Z = IntSort()\n",
        "f = Function('f', Z, Z)\n",
        "x, y, z = Ints('x y z')\n",
        "A = Array('A',Z,Z)\n",
        "prove(Implies(x + 2 == y, f(Store(A, x, 3)[y - 2]) == f(y - x + 1)))"
      ],
      "execution_count": null,
      "outputs": []
    },
    {
      "cell_type": "markdown",
      "metadata": {
        "id": "OPlOrsofVF-0"
      },
      "source": [
        "# 3. Кванторы"
      ]
    },
    {
      "cell_type": "markdown",
      "metadata": {
        "id": "8BbmQyh-MRcL"
      },
      "source": [
        "## 3.1. Количественные характеристики высказываний"
      ]
    },
    {
      "cell_type": "markdown",
      "metadata": {
        "id": "Tcb7s5IXWm4n"
      },
      "source": [
        "Мы видели, что Z3 может решать задачи из логики высказываний (в частности, связанные с арифметикой и логическими значениями, битовыми векторами, массивами, функциями и даже алгебраическими типами данных), где не используются кванторы.\n",
        "\n",
        "Однако Z3 также позволяет квантифицировать высказывания -- добавлять им количественные характеристики (в результате получается логика предикатов). Однако в общем случае не существует универсальной процедуры разрешения таких высказываний (как и в случае логики первого порядка).\n"
      ]
    },
    {
      "cell_type": "markdown",
      "metadata": {
        "id": "cDMrzGGJXr0o"
      },
      "source": [
        "Квантор всеобщности требует, чтобы высказывание было истинным для всех без исключения значений заданных переменных."
      ]
    },
    {
      "cell_type": "code",
      "metadata": {
        "id": "3no6HQZqVF-0"
      },
      "source": [
        "f = Function('f', IntSort(), IntSort(), IntSort()) # функция f получает два целочисленных аргумента и возвращает целый результат\n",
        "x, y = Ints('x y')\n",
        "\n",
        "# Найти функцию f(x,y) такую, что для всех значений x и y она будет возвращать 0\n",
        "solve(ForAll([x,y], f(x, y) == 0))\n"
      ],
      "execution_count": null,
      "outputs": []
    },
    {
      "cell_type": "markdown",
      "metadata": {
        "id": "atjY3vx6YcbW"
      },
      "source": [
        "Получаем функцию `f = [else -> 0]` , что означает, что независимо от значений аргументов она всегда возвращает 0. Очевидно, она удовлетворяет условиям."
      ]
    },
    {
      "cell_type": "markdown",
      "metadata": {
        "id": "60qNoGTjzqQS"
      },
      "source": [
        "Квантор существования требует, чтобы высказывание было истинным хотя бы для одного значения заданных переменных."
      ]
    },
    {
      "cell_type": "code",
      "metadata": {
        "id": "IQ_MmbnJYvbZ"
      },
      "source": [
        "# Найти функцию f(x,y) такую, что f(x,x) >= 0 при хотя бы одном значении x\n",
        "solve (Exists(x, f(x, x) >= 0))"
      ],
      "execution_count": null,
      "outputs": []
    },
    {
      "cell_type": "markdown",
      "metadata": {
        "id": "VaddBRaeHOz1"
      },
      "source": [
        "И тут будет построена такая же функция, которая также будет истинной для заданных ограничений."
      ]
    },
    {
      "cell_type": "code",
      "metadata": {
        "id": "jVoHQNBQG4TA"
      },
      "source": [
        "# Одно из свойств квантора всеобщности:\n",
        "prove(Implies(ForAll(y, ForAll(x, (f(x, y) == x + y))), ForAll(x, ForAll(y, (f(x, y) == x + y)))))\n",
        "prove(Implies(ForAll([x, y], f(x, y) == x + y), ForAll(x, ForAll(y, (f(x, y) == x + y)))))"
      ],
      "execution_count": null,
      "outputs": []
    },
    {
      "cell_type": "markdown",
      "metadata": {
        "id": "jO1pWtkPVF-8"
      },
      "source": [
        "## 3.2. Моделирование ООП с кванторами\n",
        "\n",
        "Построим простую модель объектно-ориентированной системы типов с единственным наследованием. В качестве её базы используется концепция subtyping (подтипизация), которую часто путают с наследованием. Subtyping -- это более универсальный принцип подстановки типов (везде, где может использоваться значение родительского типа, может задаваться и значение дочерних типов). Наследование -- более \"тяжёлая\" прикладная схема, ориентированная на наследование классов вместе с их реализацией, с учётом видимости,  и т. п.\n",
        "\n",
        "Будет, в частности, использована ковариантность в виде сущности array_of: массив элементов типа-потомка может использоваться везде, где может использоваться массив элементов родительского типа.\n"
      ]
    },
    {
      "cell_type": "code",
      "metadata": {
        "id": "Ebul7tDKVF-8"
      },
      "source": [
        "Type     = DeclareSort('Type') # \"объектный\" тип\n",
        "subtype  = Function('subtype', Type, Type, BoolSort()) # подтипизация: второй параметр (тип) есть \"наследник\" первого параметра (типа)\n",
        "array_of = Function('array_of', Type, Type) # прикладная ковариативная сущность\n",
        "root     = Const('root', Type) # root -- базовый, корневой тип во всей системе типов\n",
        "\n",
        "x, y, z  = Consts('x y z', Type)\n",
        "\n",
        "axioms = [ ForAll(x, subtype(x, x)), # любой тип есть подтип самого себя\n",
        "\n",
        "           # если y - подтип x, и x - подтип y, то x и y -- один и тот же тип\n",
        "           ForAll([x, y], Implies(And(subtype(x, y), subtype(y, x)),\n",
        "                                  x == y)),\n",
        "\n",
        "           # если y - подтип x, и z - подтип y, то z - подтип x\n",
        "           ForAll([x, y, z], Implies(And(subtype(x, y), subtype(y, z)),\n",
        "                                     subtype(x, z))),\n",
        "\n",
        "           # если y и z -- подтипы x, то y и z будут подтипами друг друга в том смысле,\n",
        "           # что это не наследование, а именно подстановка типов:\n",
        "           # где может указываться y, там же может указываться и z\n",
        "           ForAll([x, y, z], Implies(And(subtype(x, y), subtype(x, z)),\n",
        "                                     Or(subtype(y, z), subtype(z, y)))),\n",
        "\n",
        "           # ковариантность array_of\n",
        "           ForAll([x, y], Implies(subtype(x, y),\n",
        "                                  subtype(array_of(x), array_of(y)))),\n",
        "\n",
        "           ForAll(x, subtype(root, x)) # root -- корневой тип, вместо которого могут подставляться все другие типы\n",
        "           ]\n",
        "\n",
        "s = Solver()\n",
        "s.add(axioms)\n",
        "print (s.check()) # sat!\n",
        "print (s.model()) # реализация"
      ],
      "execution_count": null,
      "outputs": []
    },
    {
      "cell_type": "markdown",
      "metadata": {
        "id": "AI4akftFrswo"
      },
      "source": [
        "## 3.3. Индуктивное доказательство бесконечных сумм\n",
        "\n",
        "Когда требуются доказательства в отношении бесконечных структур, стандартных возможностей Z3 не всегда будет достаточно. Потребуется вручную задавать некоторую форму индуктивных рассуждений.\n",
        "\n",
        "Например, имеется формула суммы $\\sum_{i=0}^n i = \\frac{n(n+1)}{2}$\n",
        "\n",
        "Попробуем её доказать в лоб -- поиском контрпримера.\n"
      ]
    },
    {
      "cell_type": "code",
      "metadata": {
        "id": "eq-8U5zarswo"
      },
      "source": [
        "n = Int(\"n\")\n",
        "Sumn = Function(\"sumn\", IntSort(), IntSort())\n",
        "s = Solver()\n",
        "s.add( Sumn(0) == 0)\n",
        "s.add(ForAll([n], Sumn(n+1) == n + 1 + Sumn(n)))\n",
        "s.add(Not(ForAll([n], Implies(n >= 0, 2 * Sumn(n) == n * (n + 1)))))\n",
        "s.check()"
      ],
      "execution_count": null,
      "outputs": []
    },
    {
      "cell_type": "markdown",
      "metadata": {
        "id": "58CcNDahrswt"
      },
      "source": [
        "Z3 с этим самостоятельно не справится, потому что задача достаточно сложная, и на практике тут применяются более мощные инструменты, наподобие интерактивных ассистентов доказательств наподобие Coq. Тут солверу нужны подсказки, например в индуктивном формате."
      ]
    },
    {
      "cell_type": "code",
      "metadata": {
        "id": "Jtf9cGOOrswu"
      },
      "source": [
        "n = Int(\"n\")\n",
        "Sumn = Function(\"sumn\", IntSort(), IntSort())\n",
        "s = Solver()\n",
        "s.add( Sumn(0) == 0)\n",
        "s.add(ForAll([n], Sumn(n+1) == n + 1 + Sumn(n)))\n",
        "\n",
        "# определим саму Summ индуктивно, без явной рекурсии\n",
        "def indSumn(n):\n",
        "    return 2 * Sumn(n) == n * (n + 1)\n",
        "\n",
        "# доказательство по индукции\n",
        "def induction(p):\n",
        "    n = Int(\"n\")\n",
        "    return Implies(And(  p(0), # если истинна indSumn(0) ...\n",
        "                         ForAll([n],Implies(And(n >= 0, p(n)),p(n+1)))), # и для всех n и истинности indSumn(n) следует истинность indSumn(n+1)\n",
        "\n",
        "                       ForAll( [n] , Implies(n>=0, p(n)))) # то получаем истинность indSumn(n)\n",
        "\n",
        "s.add(induction(indSumn))\n",
        "s.add( Not(ForAll([n], Implies( n >= 0, indSumn(n))))) # пытаемся доказать противоположное -- найти контрпример\n",
        "print(s.check()) # для успеха нужен unsat"
      ],
      "execution_count": null,
      "outputs": []
    },
    {
      "cell_type": "markdown",
      "metadata": {
        "id": "WGs5WwNsZsKW"
      },
      "source": [
        "## 3.4. Логика указателей"
      ]
    },
    {
      "cell_type": "code",
      "metadata": {
        "id": "-Vv4CHxPZwow"
      },
      "source": [
        "Ptr = DeclareSort('Ptr') # тип Ptr - указатель/ссылка на значение\n",
        "ref = Function('ref', Z, Ptr) # ref - получить ссылку на значение\n",
        "deref = Function('deref', Ptr, Z) # deref - по ссылке вытащить значение"
      ],
      "execution_count": null,
      "outputs": []
    },
    {
      "cell_type": "markdown",
      "metadata": {
        "id": "v4IlzuY5aIiZ"
      },
      "source": [
        "Реализуем на указателях сортированную \"кучу\" -- набор значений, которые хранятся в упорядоченном виде, что обеспечивает быстрый поиск по значению."
      ]
    },
    {
      "cell_type": "code",
      "metadata": {
        "id": "CBT0oGXBaVT4"
      },
      "source": [
        "n, x, x1, x2 = Ints('n x x1 x2')\n",
        "\n",
        "s = Solver()\n",
        "\n",
        "s.add(ForAll([x1,x2],\n",
        "             Implies(And(0 <= x1, x1 <= x2, x2 <= n), # для всех неотрицательных значений x1 и x2, если x2 >= x1\n",
        "                 deref(ref(x1)) <= deref(ref(x2))))) # значение, полученное по ссылке на x1, будет <= значения, полученного по ссылке на x2\n",
        "\n",
        "p0 = Const('p0', Ptr) # \"нулевой\" указатель null/None\n",
        "\n",
        "# в диапазоне неотрицательных значений от 0 до n нулевой указатель отсутствует\n",
        "s.add(ForAll(x, Implies(And(0 <= x, x <= n), ref(x) != p0)))\n",
        "\n",
        "print(s.check())"
      ],
      "execution_count": null,
      "outputs": []
    },
    {
      "cell_type": "markdown",
      "metadata": {
        "id": "xwrn4St8dV5U"
      },
      "source": [
        "# 4. Оптимизация"
      ]
    },
    {
      "cell_type": "markdown",
      "metadata": {
        "id": "m9L0ZipndcPE"
      },
      "source": [
        "Z3 содержит встроенный оптимизатор. Под оптимизацией понимается не какая-то внутренняя оптимизация процесса решения, а классические оптимизационные задачки. Например, не просто найти решение, а максимальное или минимальное значения -- это типичная оптимизационная задача.\n",
        "\n",
        "Классический пример из линейного программирования."
      ]
    },
    {
      "cell_type": "code",
      "metadata": {
        "id": "0i8Az6dsccyc"
      },
      "source": [
        "a = Real('a')\n",
        "b = Real('b')\n",
        "c = Real('c')\n",
        "d = Real('d')\n",
        "e = Real('e')\n",
        "g = Real('g')\n",
        "f = Real('f')\n",
        "cost = Real('cost')\n",
        "\n",
        "opt = Optimize() # создаём солвер-оптимизатор\n",
        "\n",
        "# набор ограничений\n",
        "opt.add(a + b - 350 == 0)\n",
        "opt.add(a - g == 0)\n",
        "opt.add(c - 400 == 0)\n",
        "opt.add(b - d * 0.45 == 0)\n",
        "opt.add(c - f - e - d == 0)\n",
        "opt.add(d <= 250)\n",
        "opt.add(e <= 250)\n",
        "\n",
        "opt.add(cost == If(f > 0, f * 50, f * 0.4) + e * 40 + d * 20 +\n",
        "  If(g > 0, g * 50, g * 0.54)) # главный критерий -- цена, которую надо минимизировать\n",
        "\n",
        "opt.minimize(cost) # выполняем оптимизацию по указанному критерию\n",
        "\n",
        "print(opt.check())\n",
        "print(opt.model())"
      ],
      "execution_count": null,
      "outputs": []
    },
    {
      "cell_type": "markdown",
      "metadata": {
        "id": "l9GGE5mpdJoA"
      },
      "source": [
        "Однако с нелинейными проблемами оптимизатор Z3 как правило не справляется, или не находит оптимальный результат."
      ]
    },
    {
      "cell_type": "code",
      "metadata": {
        "id": "6y5scOzufc57"
      },
      "source": [
        "l = Real(\"l\")\n",
        "w = Real(\"w\")\n",
        "b = Real(\"b\")\n",
        "opt = Optimize()\n",
        "width = 63.6\n",
        "height = 51\n",
        "\n",
        "opt.add(b+l <= width)\n",
        "opt.add(w+b+w+l+w <= height)\n",
        "opt.add(w > 0)\n",
        "opt.add(b > 0)\n",
        "opt.add(l > 0)\n",
        "opt.maximize(w * b * l)\n",
        "\n",
        "print(opt.check())\n",
        "print(opt.model())\n",
        "print(opt.reason_unknown())"
      ],
      "execution_count": null,
      "outputs": []
    },
    {
      "cell_type": "markdown",
      "metadata": {
        "id": "OMussMClVF_Q"
      },
      "source": [
        "# 5. Множественные солверы\n"
      ]
    },
    {
      "cell_type": "markdown",
      "metadata": {
        "id": "t2u1SAzUb9Qf"
      },
      "source": [
        "При решении сложной задачи можно использовать несколько солверов одновременно. При этом передача условий и формул между ними тривиальна."
      ]
    },
    {
      "cell_type": "code",
      "metadata": {
        "id": "YVvhH5UmVF_R"
      },
      "source": [
        "x, y = Ints('x y')\n",
        "\n",
        "s1 = Solver() # первый солвер\n",
        "s1.add(x > 10, y > 10)\n",
        "print (s1)\n",
        "\n",
        "s2 = Solver() # второй солвер\n",
        "print (s2) # пусто\n",
        "\n",
        "s2.add(s1.assertions()) # копируем условия из первого солвера во второй\n",
        "print (s2)"
      ],
      "execution_count": null,
      "outputs": []
    }
  ]
}