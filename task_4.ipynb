{
  "nbformat": 4,
  "nbformat_minor": 0,
  "metadata": {
    "colab": {
      "provenance": [],
      "toc_visible": true,
      "include_colab_link": true
    },
    "kernelspec": {
      "display_name": "Python 3",
      "language": "python",
      "name": "python3"
    }
  },
  "cells": [
    {
      "cell_type": "markdown",
      "metadata": {
        "id": "view-in-github",
        "colab_type": "text"
      },
      "source": [
        "<a href=\"https://colab.research.google.com/github/pld000/z3/blob/main/task_4.ipynb\" target=\"_parent\"><img src=\"https://colab.research.google.com/assets/colab-badge.svg\" alt=\"Open In Colab\"/></a>"
      ]
    },
    {
      "cell_type": "code",
      "source": [
        "!pip install \"z3-solver\"\n",
        "from z3 import *"
      ],
      "metadata": {
        "colab": {
          "base_uri": "https://localhost:8080/"
        },
        "id": "1S5FMNgTBh8u",
        "outputId": "82363db9-71ff-43e3-a551-b85fe59ccb16"
      },
      "execution_count": 2,
      "outputs": [
        {
          "output_type": "stream",
          "name": "stdout",
          "text": [
            "Requirement already satisfied: z3-solver in /usr/local/lib/python3.11/dist-packages (4.15.1.0)\n"
          ]
        }
      ]
    },
    {
      "cell_type": "markdown",
      "source": [
        "# **Выражения, сорта и декларации**\n",
        "\n",
        "Задача 1.1: Исследование свойств выражения Создайте выражение expr = (x * y) + 2, где x и y являются переменными типа Int. Выведите его сорт, является ли оно приложением, его декларацию, количество аргументов и каждый аргумент."
      ],
      "metadata": {
        "id": "5KKKRmAdBxNz"
      }
    },
    {
      "cell_type": "code",
      "source": [
        "x, y = Ints('x y')\n",
        "expr = (x * y) + 2\n",
        "print (\"Сорт expr:\", expr.sort())\n",
        "print (\"Является ли expr приложением:\", is_app(expr))\n",
        "print (\"Декларация expr:\", expr.decl())\n",
        "print (\"Количество аргументов expr:\", expr.num_args())\n",
        "for i in range(expr.num_args()):\n",
        "    print (f\"Аргумент {i} expr: {expr.arg(i)}\")"
      ],
      "metadata": {
        "colab": {
          "base_uri": "https://localhost:8080/"
        },
        "id": "bZP6bbobB-1k",
        "outputId": "cd0c1b7c-e10d-4020-a5a2-3c9e282592dc"
      },
      "execution_count": 3,
      "outputs": [
        {
          "output_type": "stream",
          "name": "stdout",
          "text": [
            "Сорт expr: Int\n",
            "Является ли expr приложением: True\n",
            "Декларация expr: +\n",
            "Количество аргументов expr: 2\n",
            "Аргумент 0 expr: x*y\n",
            "Аргумент 1 expr: 2\n"
          ]
        }
      ]
    },
    {
      "cell_type": "markdown",
      "source": [
        "1.2\n",
        "Определить две функции f и g так, чтобы f принимала Int и возвращала Int, а g принимала Int и возвращала Int. Создать выражение n = f(g(x) + 1), где x является Int. Заменить g(x) на y + 5 в n, где y — другая переменная типа Int."
      ],
      "metadata": {
        "id": "ym6B6gy_CZpj"
      }
    },
    {
      "cell_type": "code",
      "source": [
        "x, y = Ints('x y')\n",
        "f = Function('f', IntSort(), IntSort())\n",
        "g = Function('g', IntSort(), IntSort())\n",
        "\n",
        "n = f(g(x) + 1)\n",
        "print(\"Исходное выражение:\", n)\n",
        "\n",
        "substituted_n = substitute(n, (g(x), y + 5))\n",
        "print(\"Замещенное выражение:\", substituted_n)"
      ],
      "metadata": {
        "colab": {
          "base_uri": "https://localhost:8080/"
        },
        "id": "w-5b-0y4CzV5",
        "outputId": "b8db6f30-6d97-4a36-ab34-76e4268330bf"
      },
      "execution_count": 4,
      "outputs": [
        {
          "output_type": "stream",
          "name": "stdout",
          "text": [
            "Исходное выражение: f(g(x) + 1)\n",
            "Замещенное выражение: f(y + 5 + 1)\n"
          ]
        }
      ]
    },
    {
      "cell_type": "markdown",
      "source": [
        "# **2. Массивы**"
      ],
      "metadata": {
        "id": "L1TEYOoYC6dd"
      }
    },
    {
      "cell_type": "markdown",
      "source": [
        "2.1 Доказательство аксиомы массива с Select и Store Используя prove, продемонстрируйте, что если мы сохраняем значение v по индексу x в массиве A, а затем выбираем значение по индексу x из измененного массива, мы получаем v.\n",
        "\n"
      ],
      "metadata": {
        "id": "EtFxy2CFC-pe"
      }
    },
    {
      "cell_type": "code",
      "source": [
        "A = Array('A', IntSort(), IntSort())\n",
        "x, v = Ints('x v')\n",
        "prove(Select(Store(A, x, v), x) == v)"
      ],
      "metadata": {
        "colab": {
          "base_uri": "https://localhost:8080/"
        },
        "id": "uLmxuDrXDE8f",
        "outputId": "f8c19387-196f-46a0-a195-b1a270a4afba"
      },
      "execution_count": 5,
      "outputs": [
        {
          "output_type": "stream",
          "name": "stdout",
          "text": [
            "proved\n"
          ]
        }
      ]
    },
    {
      "cell_type": "markdown",
      "source": [
        "2.2: Определение и ограничение IntVector Создайте IntVector с именем my_vector с 4 целочисленными элементами. Добавьте ограничение в решатель, что сумма элементов в my_vector должна быть больше или равна 10. Затем проверьте решатель и выведите модель."
      ],
      "metadata": {
        "id": "o5V0KMrRDI99"
      }
    },
    {
      "cell_type": "code",
      "source": [
        "my_vector = IntVector('my_vector', 4)\n",
        "s = Solver()\n",
        "s.add(Sum(my_vector) >= 10)\n",
        "print(s.check())\n",
        "print(s.model())"
      ],
      "metadata": {
        "id": "8LidKuqiDMa5"
      },
      "execution_count": null,
      "outputs": []
    },
    {
      "cell_type": "markdown",
      "source": [
        "# **3. Кванторы**"
      ],
      "metadata": {
        "id": "lOOyHc0mDWjE"
      }
    },
    {
      "cell_type": "markdown",
      "source": [
        "3.1: Решение для экзистенциально квантифицированной функции Найдите функцию g(x), которая принимает Int и возвращает Int, такую, что существует x, для которого g(x) больше 5."
      ],
      "metadata": {
        "id": "RT4RpOMJDVBl"
      }
    },
    {
      "cell_type": "code",
      "source": [
        "g = Function('g', IntSort(), IntSort())\n",
        "x = Int('x')\n",
        "solve(Exists(x, g(x) > 5))"
      ],
      "metadata": {
        "colab": {
          "base_uri": "https://localhost:8080/"
        },
        "id": "vPZ5ilA_DUlG",
        "outputId": "79372ada-7ac6-4e1a-e104-267f554fce0c"
      },
      "execution_count": 6,
      "outputs": [
        {
          "output_type": "stream",
          "name": "stdout",
          "text": [
            "[g = [else -> 6]]\n"
          ]
        }
      ]
    },
    {
      "cell_type": "markdown",
      "source": [
        "3.2: Доказательство свойства с использованием универсальных кванторов Докажите, что если f(x) всегда равно x * x, то f(y) всегда равно y * y для любого y."
      ],
      "metadata": {
        "id": "RqFT4_Y5DdkL"
      }
    },
    {
      "cell_type": "code",
      "source": [
        "f = Function('f', IntSort(), IntSort())\n",
        "x, y = Ints('x y')\n",
        "prove(Implies(ForAll(x, f(x) == x * x), ForAll(y, f(y) == y * y)))"
      ],
      "metadata": {
        "colab": {
          "base_uri": "https://localhost:8080/"
        },
        "id": "6XkAt1u6Dekr",
        "outputId": "ac7cb070-c43d-488d-aadc-082d90407554"
      },
      "execution_count": 7,
      "outputs": [
        {
          "output_type": "stream",
          "name": "stdout",
          "text": [
            "proved\n"
          ]
        }
      ]
    },
    {
      "cell_type": "markdown",
      "source": [
        "# **4. Оптимизация**"
      ],
      "metadata": {
        "id": "zpNp8Ws8Dk1-"
      }
    },
    {
      "cell_type": "markdown",
      "source": [
        "4.1: Максимизация простой линейной целевой функции Найдите максимальное значение x + y при следующих ограничениях: x >= 0, y >= 0, x + y <= 10 и 2*x + y <= 15."
      ],
      "metadata": {
        "id": "rM1UcjT4Dqap"
      }
    },
    {
      "cell_type": "code",
      "source": [
        "x, y = Reals('x y')\n",
        "opt = Optimize()\n",
        "opt.add(x >= 0, y >= 0)\n",
        "opt.add(x + y <= 10)\n",
        "opt.add(2*x + y <= 15)\n",
        "opt.maximize(x + y)\n",
        "print(opt.check())\n",
        "print(opt.model())"
      ],
      "metadata": {
        "colab": {
          "base_uri": "https://localhost:8080/"
        },
        "id": "C4XzrXlvDtXi",
        "outputId": "bb9619b9-4941-4de7-d5e0-966fcb2ddea1"
      },
      "execution_count": 8,
      "outputs": [
        {
          "output_type": "stream",
          "name": "stdout",
          "text": [
            "sat\n",
            "[y = 5, x = 5]\n"
          ]
        }
      ]
    },
    {
      "cell_type": "markdown",
      "source": [
        "4.2: Минимизация функции стоимости с условными выражениями Компания производит два продукта, A и B. Пусть prod_A и prod_B — это произведенные количества. Стоимость производства составляет  5заединицудля𝐴и 7 за единицу для B. Существует специальная скидка: если prod_A меньше 50, ее стоимость за единицу снижается до $4. Общая производственная мощность составляет 200 единиц. Минимизируйте общую стоимость.\n",
        "\n"
      ],
      "metadata": {
        "id": "VK-HhxZzDwfL"
      }
    },
    {
      "cell_type": "code",
      "source": [
        "prod_A = Int('prod_A')\n",
        "prod_B = Int('prod_B')\n",
        "cost = Real('cost')\n",
        "\n",
        "opt = Optimize()\n",
        "\n",
        "opt.add(prod_A >= 0, prod_B >= 0)\n",
        "opt.add(prod_A + prod_B <= 200)\n",
        "\n",
        "opt.add(cost == If(prod_A < 50, prod_A * 4, prod_A * 5) + prod_B * 7)\n",
        "\n",
        "opt.minimize(cost)\n",
        "\n",
        "print(opt.check())\n",
        "print(opt.model())"
      ],
      "metadata": {
        "colab": {
          "base_uri": "https://localhost:8080/"
        },
        "id": "Px12sKAPD0Pf",
        "outputId": "dee5661c-cb07-4b0f-e711-9255a4524587"
      },
      "execution_count": 9,
      "outputs": [
        {
          "output_type": "stream",
          "name": "stdout",
          "text": [
            "sat\n",
            "[prod_B = 0, prod_A = 0, cost = 0]\n"
          ]
        }
      ]
    },
    {
      "cell_type": "markdown",
      "source": [
        "# **5. Множественные солверы**"
      ],
      "metadata": {
        "id": "cb5J6uc-D4BM"
      }
    },
    {
      "cell_type": "markdown",
      "source": [
        "5.1: Передача ограничений между двумя решателями и проверка выполнимости Создайте два решателя: s_alpha и s_beta. Добавьте x > 5 и y < 10 в s_alpha. Затем добавьте ограничения из s_alpha в s_beta и проверьте s_beta на выполнимость."
      ],
      "metadata": {
        "id": "LPkSeGryD9he"
      }
    },
    {
      "cell_type": "code",
      "source": [
        "x, y = Ints('x y')\n",
        "\n",
        "s_alpha = Solver()\n",
        "s_alpha.add(x > 5, y < 10)\n",
        "print(\"s_alpha до передачи:\", s_alpha)\n",
        "\n",
        "s_beta = Solver()\n",
        "s_beta.add(s_alpha.assertions())\n",
        "print(\"s_beta после передачи:\", s_beta)\n",
        "\n",
        "print(\"Проверка s_beta:\", s_beta.check())\n",
        "if s_beta.check() == sat:\n",
        "    print(\"Модель s_beta:\", s_beta.model())"
      ],
      "metadata": {
        "colab": {
          "base_uri": "https://localhost:8080/"
        },
        "id": "XN1ohSqYEBhn",
        "outputId": "2374686e-ed02-48b5-9f33-0a679a2dd43f"
      },
      "execution_count": 10,
      "outputs": [
        {
          "output_type": "stream",
          "name": "stdout",
          "text": [
            "s_alpha до передачи: [x > 5, y < 10]\n",
            "s_beta после передачи: [x > 5, y < 10]\n",
            "Проверка s_beta: sat\n",
            "Модель s_beta: [y = 9, x = 6]\n"
          ]
        }
      ]
    },
    {
      "cell_type": "markdown",
      "source": [
        " 5.2: Использование нескольких решателей для проверки взаимоисключающих условий Используйте два решателя, s1 и s2, для демонстрации того, что два набора условий являются взаимоисключающими. s1 должен содержать x > 0 и x < 5, а s2 должен содержать x >= 5. Проверьте каждый решатель по отдельности, а затем попытайтесь добавить утверждения одного решателя в другой и покажите, что результат будет unsat."
      ],
      "metadata": {
        "id": "SapUCNXUEEre"
      }
    },
    {
      "cell_type": "code",
      "source": [
        "x = Int('x')\n",
        "\n",
        "s1 = Solver()\n",
        "s1.add(x > 0, x < 5)\n",
        "print(\"Проверка s1:\", s1.check())\n",
        "if s1.check() == sat:\n",
        "    print(\"Модель s1:\", s1.model())\n",
        "\n",
        "s2 = Solver()\n",
        "s2.add(x >= 5)\n",
        "print(\"Проверка s2:\", s2.check())\n",
        "if s2.check() == sat:\n",
        "    print(\"Модель s2:\", s2.model())\n",
        "\n",
        "# Попытка объединить взаимоисключающие условия\n",
        "s1_plus_s2 = Solver()\n",
        "s1_plus_s2.add(s1.assertions())\n",
        "s1_plus_s2.add(s2.assertions())\n",
        "print(\"Проверка s1 + s2:\", s1_plus_s2.check())"
      ],
      "metadata": {
        "colab": {
          "base_uri": "https://localhost:8080/"
        },
        "id": "4Q7_bZ43EIT6",
        "outputId": "a71b425f-1163-413e-fedb-91e22eb1d6b4"
      },
      "execution_count": 11,
      "outputs": [
        {
          "output_type": "stream",
          "name": "stdout",
          "text": [
            "Проверка s1: sat\n",
            "Модель s1: [x = 1]\n",
            "Проверка s2: sat\n",
            "Модель s2: [x = 5]\n",
            "Проверка s1 + s2: unsat\n"
          ]
        }
      ]
    }
  ]
}