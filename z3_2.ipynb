{
  "nbformat": 4,
  "nbformat_minor": 0,
  "metadata": {
    "kernelspec": {
      "name": "python3",
      "display_name": "Python 3"
    },
    "colab": {
      "provenance": [],
      "collapsed_sections": [
        "j7Fu-xUm4EQN",
        "_bONyCpk4ONR",
        "cBB_RvB_4c34",
        "XuPW-A_25oTm",
        "GRBDEBTR7AdY",
        "b5QlxCU-o6ck",
        "-opiln5_o6cp",
        "zM_FJ9jW8Q_9",
        "6iEN87LAo6c9"
      ],
      "include_colab_link": true
    }
  },
  "cells": [
    {
      "cell_type": "markdown",
      "metadata": {
        "id": "view-in-github",
        "colab_type": "text"
      },
      "source": [
        "<a href=\"https://colab.research.google.com/github/pld000/z3/blob/main/z3_2.ipynb\" target=\"_parent\"><img src=\"https://colab.research.google.com/assets/colab-badge.svg\" alt=\"Open In Colab\"/></a>"
      ]
    },
    {
      "cell_type": "markdown",
      "metadata": {
        "collapsed": true,
        "id": "5VxUoK08o6cO"
      },
      "source": [
        "# II. Стратегии и тактики\n",
        "\n",
        "Как солверы устроены внутри? Как они находят решения? Как научиться думать так же -- быстро и формально, как они? :)\n",
        "\n",
        "В Z3 и подобных ему решателях воплощены тесно связанные друг с другом наборы эвристических алгоритмов доказательства, которые тщательно отбирались и настраивались вручную. Такие наборы, комбинации эвристик, очень хорошо настроены на решение ряда известных классов проблем, однако они начинают плохо работать, когда встречаются новые классы задач. Пока, по сути, солверы могут \"научиться\" решать новые классы задач, только когда человек-специалист хорошо \"объяснит\" им подходящие стратегии поиска решений.\n",
        "\n",
        "С другой стороны, именно потому, что эти эвристики создаются и прорабатываются людьми, они достаточно легко понимаются, и их можно фактически использовать as is, отчуждённо от солверов -- при самостоятельном решении задачек.\n",
        "\n",
        "---\n",
        "\n",
        "*Подготовлено Высшей школой программирования Сергея Бобровского 2023*\n",
        "\n",
        "https://vk.com/lambda_brain\n",
        "\n",
        "Ссылки на оригинальные ноутбуки в первом занятии.\n"
      ]
    },
    {
      "cell_type": "code",
      "metadata": {
        "id": "Ynhmq3qctX24"
      },
      "source": [
        "!pip install \"z3-solver\"\n",
        "from z3 import *"
      ],
      "execution_count": null,
      "outputs": []
    },
    {
      "cell_type": "markdown",
      "metadata": {
        "id": "j7Fu-xUm4EQN"
      },
      "source": [
        "# 1. Тактики и цели"
      ]
    },
    {
      "cell_type": "markdown",
      "metadata": {
        "id": "zkr2pqg52vBj"
      },
      "source": [
        "## 1.1. Схема работы Z3\n",
        "\n",
        "Общая схема работы солвера Z3 такая, что он управляет группой движков логического вывода (это называется **оркестровка**), и на верхнем уровне абстракций \"большие\" логические шаги решения представляются как функции, называемые **тактики**. Сами тактики объединяются с помощью так называемых **тактических указаний** (tacticals), или **комбинаторов**. Тактики обрабатывают системы ограничений, которые называются **цели** (Goals).\n",
        "\n",
        "Когда тактика применяется к некоторой цели G, возможны четыре результата.\n",
        "\n",
        "1) Тактике удаётся показать, что G может быть достигнута (т.е., посильна);\n",
        "\n",
        "2) Тактике удаётся показать, что G не может быть достигнута (т.е., непосильна);\n",
        "\n",
        "3) Тактика пока не знает, посильна G или нет, и формирует набор (последовательность) подцелей;\n",
        "\n",
        "4) Тактика завершается неудачей.\n",
        "\n",
        "Пункт 3 напоминает очень популярный в программировании подход к проектированию \"сверху вниз\": декомпозируем сложную задачу на набор более простых, после чего применяем этот подход к каждой подзадаче.\n",
        "\n",
        "Но когда мы упрощаем (редуцируем, сводим) цель G к последовательности подцелей G1, ..., Gn, мы сталкиваемся с проблемой преобразования нашей модели (системы ограничений) под требования конкретной подцели. Для этого в солверах существует внутренний преобразователь моделей."
      ]
    },
    {
      "cell_type": "markdown",
      "metadata": {
        "id": "_bONyCpk4ONR"
      },
      "source": [
        "## 1.2. Пример цели"
      ]
    },
    {
      "cell_type": "code",
      "metadata": {
        "trusted": true,
        "id": "mYAwGSV7o6cP"
      },
      "source": [
        "x, y = Reals('x y') # две вещественные переменные\n",
        "g  = Goal() # цель\n",
        "g.add(x > 0, y > 0, x == y + 1 + 1) # добавим цели набор ограничений\n",
        "\n",
        "# цель выведется просто как набор ограничений\n",
        "print(g)\n"
      ],
      "execution_count": null,
      "outputs": []
    },
    {
      "cell_type": "markdown",
      "metadata": {
        "id": "ggGSZTlnDECp"
      },
      "source": [
        "Далее добавим две встроенные в Z3 тактики решения: `simplify` и `solve-eqs`."
      ]
    },
    {
      "cell_type": "code",
      "metadata": {
        "id": "8FYSK_OAF4QH"
      },
      "source": [
        "t1 = Tactic('simplify')\n",
        "t2 = Tactic('solve-eqs')"
      ],
      "execution_count": null,
      "outputs": []
    },
    {
      "cell_type": "markdown",
      "metadata": {
        "id": "XEPm_DvoESQJ"
      },
      "source": [
        "**simplify** выполняет простые эквивалентные преобразования выражений (например, x+2+x+2 = 2*x+4).\n",
        "\n",
        "**solve-eqs** -- это классический метод исключения переменных Гаусса (редукция по столбцам), который вдобавок расширен работой не только с линейной арифметикой, но и, вообще, умеет избавляться практически от любых лишних переменных."
      ]
    },
    {
      "cell_type": "code",
      "metadata": {
        "id": "TnwGmXDHDsU3"
      },
      "source": [
        "# посмотреть список всех тактик:\n",
        "print(tactics())\n",
        "\n",
        "# посмотреть краткое описание всех тактик:\n",
        "# print(describe_tactics())\n",
        "\n",
        "# посмотреть краткое описание конкретной тактики:\n",
        "print(tactic_description('simplify'))\n",
        "print(tactic_description('solve-eqs'))\n"
      ],
      "execution_count": null,
      "outputs": []
    },
    {
      "cell_type": "code",
      "metadata": {
        "id": "1YMPnC8zISln"
      },
      "source": [
        "# посмотрим на промежуточные результаты\n",
        "# как работают тактики (булевы формулы традиционно выводятся в инвертированном виде):\n",
        "print(t1(g))"
      ],
      "execution_count": null,
      "outputs": []
    },
    {
      "cell_type": "markdown",
      "metadata": {
        "id": "8gaTL7FQdKzw"
      },
      "source": [
        "В данном случае упрощено было 2+2 = 4."
      ]
    },
    {
      "cell_type": "code",
      "metadata": {
        "id": "iHfrAsi2dX2v"
      },
      "source": [
        "print(t2(g))"
      ],
      "execution_count": null,
      "outputs": []
    },
    {
      "cell_type": "markdown",
      "metadata": {
        "id": "_07USnbyd1p9"
      },
      "source": [
        "А теперь последнее ограничение `x == y + 1 + 1` тактикой было удалено, потому что оно никак не влияет на другие ограничения."
      ]
    },
    {
      "cell_type": "markdown",
      "metadata": {
        "id": "ERy9wv5wGJsq"
      },
      "source": [
        "Далее объединим эти две тактики в комбинатор `Then`. Он работает так, что первый параметр (тактика simplify) применяется к входной цели, а второй параметр (тактика solve-eqs) применяется к каждой подцели, сгенерированной первой тактикой. В данном случае упрощать особо нечего, поэтому и подцель будет одна."
      ]
    },
    {
      "cell_type": "code",
      "metadata": {
        "id": "QnVLrseBttuB"
      },
      "source": [
        "t = Then(t1, t2)\n",
        "print(t(g))"
      ],
      "execution_count": null,
      "outputs": []
    },
    {
      "cell_type": "markdown",
      "metadata": {
        "id": "UAZKGAXpo6cU"
      },
      "source": [
        "Переменная x полностью исключена из системы ограничений, потому что для любого значения y, которое положительно, всегда найдётся значение x, большее его на 2 -- переменная x никаких дополнительных ограничений не добавляет.\n"
      ]
    },
    {
      "cell_type": "markdown",
      "metadata": {
        "id": "cBB_RvB_4c34"
      },
      "source": [
        "## 1.3. Клаузы"
      ]
    },
    {
      "cell_type": "markdown",
      "metadata": {
        "id": "HxWTvMh4IOHf"
      },
      "source": [
        "В Z3 называется **клаузой** любое ограничение в форме Or(f_1, ..., f_n). Тактика `split-clause` получает клаузу Or(f_1, ..., f_n) в качестве входной цели, и разбивает её на n подцелей (по одной на каждую субформулу f_i)."
      ]
    },
    {
      "cell_type": "code",
      "metadata": {
        "trusted": true,
        "id": "rpbAdKuzo6cV"
      },
      "source": [
        "x, y, z = Reals('x y z')\n",
        "g = Goal()\n",
        "g.add(Or(x == 0, x == 1),\n",
        "      Or(y == 0, y == 1),\n",
        "      Or(z == 0, z == 1),\n",
        "      x + y + z > 2)\n",
        "t = Tactic('split-clause')\n",
        "r = t(g) # берём первую клаузу цели и разбиваем её на соответствующие варианты\n",
        "for g in r:\n",
        "    print(g)"
      ],
      "execution_count": null,
      "outputs": []
    },
    {
      "cell_type": "markdown",
      "metadata": {
        "id": "p0_gzdHJfPww"
      },
      "source": [
        "Мы получили две клаузы -- первая логическая связка Or была разбита на два варианта. Соответственно, можно продолжать применять данную тактику к полученным подцелям."
      ]
    },
    {
      "cell_type": "code",
      "metadata": {
        "id": "-O5Vbfkxfgwi"
      },
      "source": [
        "for g in r:\n",
        "    print(t(g))"
      ],
      "execution_count": null,
      "outputs": []
    },
    {
      "cell_type": "markdown",
      "metadata": {
        "id": "yQrmf75yfszZ"
      },
      "source": [
        "От всех клауз на этом уровне декомпозиции мы избавились, и далее можно применять другие тактики, подходящие для решения данной системы ограничений."
      ]
    },
    {
      "cell_type": "markdown",
      "metadata": {
        "id": "XuPW-A_25oTm"
      },
      "source": [
        "## 1.4. Комбинаторы тактик"
      ]
    },
    {
      "cell_type": "markdown",
      "metadata": {
        "id": "LTKqfu2To6ca"
      },
      "source": [
        "В Z3 доступны следующие комбинаторы тактик (тактические указания):\n",
        "\n",
        "* `Then(t, s)` применяет тактику t к входной цели, и s к каждой подцели результата t;\n",
        "\n",
        "* `OrElse(t, s)` применяет тактику t к входной цели, и если она заканчивается неудачей, возвращает результат применения тактики s к входной цели;\n",
        "\n",
        "* `Repeat(t)` применяет тактику t снова и снова, пока не останется ни одной подцели;\n",
        "\n",
        "* `Repeat(t, n)` применяет тактику t снова и снова, пока не останется ни одной подцели, но количество попыток не должно превышать заданный порог n;\n",
        "\n",
        "* `TryFor(t, ms)` применяет тактику t к входной цели, и если она не отрабатывает за ms миллисекунд, возвращается неудача;\n",
        "\n",
        "* `With(t, params)` применяет тактику t с заданными параметрами params."
      ]
    },
    {
      "cell_type": "code",
      "metadata": {
        "trusted": true,
        "id": "q-vnRwxko6ca"
      },
      "source": [
        "# пример\n",
        "x, y, z = Reals('x y z')\n",
        "g = Goal()\n",
        "g.add(Or(x == 0, x == 1),\n",
        "      Or(y == 0, y == 1),\n",
        "      Or(z == 0, z == 1),\n",
        "      x + y + z > 2)\n",
        "\n",
        "# один шаг разбиения на клаузы:\n",
        "t = Tactic('split-clause')\n",
        "print(t(g))\n"
      ],
      "execution_count": null,
      "outputs": []
    },
    {
      "cell_type": "markdown",
      "metadata": {
        "id": "3IJkrnas5Tm3"
      },
      "source": [
        "Видно, что была разобрана только одна клауза, а остальные остались неразобранными. Чтобы перевести все клаузы в разобранный вид, воспользуемся комбинатором `Repeat`."
      ]
    },
    {
      "cell_type": "code",
      "metadata": {
        "id": "lQln6AiS5jDj"
      },
      "source": [
        "split_all = Repeat(Tactic('split-clause')) # вылетит с исключением\n",
        "print(split_all(g))"
      ],
      "execution_count": null,
      "outputs": []
    },
    {
      "cell_type": "markdown",
      "metadata": {
        "id": "FgDxq03G6GVd"
      },
      "source": [
        "Теперь возникнет исключение, потому что, когда все клаузы будут разобраны, `split-clause` завершится неудачей (нету значений, с которыми она могла бы работать).\n",
        "\n",
        "На такой случай надо предусмотреть стандартный вариант: к итоговому результату, когда основная тактика отработает и завершится неудачей, применить тактику `skip`, которая ничего не делает (просто возвращает входную цель). Для этого воспользуемся комбинатором `OrElse`."
      ]
    },
    {
      "cell_type": "code",
      "metadata": {
        "id": "-ybNwnGt6CAh"
      },
      "source": [
        "split_all = Repeat(OrElse(Tactic('split-clause'),\n",
        "                          Tactic('skip')))\n",
        "print(split_all(g))\n",
        "\n",
        "for s in split_all(g): # или перебрать подцели по одной\n",
        "  print(s)"
      ],
      "execution_count": null,
      "outputs": []
    },
    {
      "cell_type": "code",
      "metadata": {
        "id": "u03-PMHV4uof"
      },
      "source": [
        "# можно ограничиться одной итерацией, тогда не все клаузы будут разобраны:\n",
        "split_at_most_2 = Repeat(OrElse(Tactic('split-clause'),\n",
        "                          Tactic('skip')),\n",
        "                         1) # ограничение на количество проб основной тактики\n",
        "print(split_at_most_2(g))\n"
      ],
      "execution_count": null,
      "outputs": []
    },
    {
      "cell_type": "markdown",
      "metadata": {
        "id": "yXav3eikP7o9"
      },
      "source": [
        "Вернёмся к предыдущей Repeat, когда все клаузы были разобраны, и система получилась прозрачной: к ней наверняка подойдёт метод Гаусса. Соответствующую тактику solve-eqs надо применять, когда полностью отработает тактика split-clause, для этого задействуем комбинатор Then."
      ]
    },
    {
      "cell_type": "code",
      "metadata": {
        "id": "VAJXjXK069j_"
      },
      "source": [
        "split_solve = Then(Repeat(OrElse(Tactic('split-clause'),\n",
        "                                 Tactic('skip'))),\n",
        "                   Tactic('solve-eqs'))\n",
        "print(split_solve(g))"
      ],
      "execution_count": null,
      "outputs": []
    },
    {
      "cell_type": "markdown",
      "metadata": {
        "id": "6qVo8lw5o6cf"
      },
      "source": [
        "В результате порождена одна (пустая) трививальная цель, которая достижима по определению."
      ]
    },
    {
      "cell_type": "markdown",
      "metadata": {
        "id": "GRBDEBTR7AdY"
      },
      "source": [
        "# 2. Переводим тактики в стратегию"
      ]
    },
    {
      "cell_type": "markdown",
      "metadata": {
        "id": "b5QlxCU-o6ck"
      },
      "source": [
        "## 2.1. Объединяем тактики в солвер\n",
        "\n",
        "Набор тактик (**стратегия**) может быть преобразован в конкретный солвер (например, для решения класса похожих задач) с помощью метода `solver()`. Если тактика выдаёт пустую цель, то соответствующий солвер возвращает `sat`. Если тактика выдаёт единственную цель, содержащую False, то солвер возвращает `unsat`. В остальных случаях он возвращает `unknown`."
      ]
    },
    {
      "cell_type": "code",
      "metadata": {
        "id": "F1MwGBq0STVX"
      },
      "source": [
        "# создаём солвер на основе комбинаторов и тактик\n",
        "split_solver = Then(Repeat(OrElse(Tactic('split-clause'),\n",
        "                                 Tactic('skip'))),\n",
        "                   Tactic('solve-eqs')).solver()\n",
        "\n",
        "# добавляем солверу систему ограничений\n",
        "split_solver.add(Or(x == 0, x == 1))\n",
        "split_solver.add(Or(y == 0, y == 1))\n",
        "split_solver.add(Or(z == 0, z == 1))\n",
        "split_solver.add(x + y + z > 2)\n",
        "\n",
        "# проверяем, есть ли решение?\n",
        "print(split_solver.check()) # sat\n",
        "\n",
        "m = split_solver.model() # вытаскиваем модель\n",
        "\n",
        "# вычисляем результирующие значения нужных переменных\n",
        "print(m.evaluate(x))\n",
        "print(m.evaluate(y))\n",
        "print(m.evaluate(z))\n",
        "\n",
        "# или сразу так:\n",
        "print(m)"
      ],
      "execution_count": null,
      "outputs": []
    },
    {
      "cell_type": "markdown",
      "metadata": {
        "id": "-opiln5_o6cp"
      },
      "source": [
        "## 2.2. Стратегия для битовых формул\n",
        "\n",
        "Подберём подходящую стратегию для решения битовых выражений. В дополнение к тактикам `simplify` и `solve-eqs` дополнительно понадобятся тактики `bit-blast` (алгоритмы bit-blasting для решения сложных и больших битовых формул) и `sat` (классический пропозиционный решатель для работы с формулами, где все переменные логических типов).\n",
        "\n",
        "Обратите внимание, что для параметров Then явно не указывается Tactic(): все комбинаторы Z3 автоматически вызывают Tactic() для параметра, если он строкового типа.\n",
        "\n",
        "Команда `solve_using` -- вариант команды `solve`, для которой дополнительно специфицируется конкретный солвер."
      ]
    },
    {
      "cell_type": "code",
      "metadata": {
        "trusted": true,
        "id": "IvI_upyro6cl"
      },
      "source": [
        "bv_solver = Then('simplify',\n",
        "                 'solve-eqs',\n",
        "                 'bit-blast',\n",
        "                 'sat').solver()\n",
        "\n",
        "x, y = BitVecs('x y', 16)\n",
        "\n",
        "solve_using(bv_solver, x | y == 13, x > y) # покажите решение!"
      ],
      "execution_count": null,
      "outputs": []
    },
    {
      "cell_type": "markdown",
      "metadata": {
        "id": "ip4vsStKXMQO"
      },
      "source": [
        "Рассмотрим этот процесс \"изнутри\", обращением к Z3 API, без solve_using."
      ]
    },
    {
      "cell_type": "code",
      "metadata": {
        "trusted": true,
        "id": "MDqu-XSKo6cq"
      },
      "source": [
        "# тактика simplify с помощью комбинатора With\n",
        "# дополнена параметром mul2concat (не знаю, что он значит :)\n",
        "bv_solver = Then(With('simplify', mul2concat=True),\n",
        "                 'solve-eqs',\n",
        "                 'bit-blast',\n",
        "                 'aig', # ещё одна тактика, которая сжимает логические формулы\n",
        "                        # с помощью инвертированных графов\n",
        "                 'sat').solver()\n",
        "x, y = BitVecs('x y', 16)\n",
        "\n",
        "# добавляем ограничение солверу:\n",
        "bv_solver.add(x*32 + y == 13, x & y < 10, y > -100)\n",
        "\n",
        "# решение есть?\n",
        "print(bv_solver.check())\n",
        "\n",
        "m = bv_solver.model()\n",
        "print(m) # показать решение\n",
        "\n",
        "# проверочные вычисления\n",
        "print(x*32 + y, \"==\", m.evaluate(x*32 + y))\n",
        "print(x & y, \"==\", m.evaluate(x & y))"
      ],
      "execution_count": null,
      "outputs": []
    },
    {
      "cell_type": "markdown",
      "metadata": {
        "id": "zM_FJ9jW8Q_9"
      },
      "source": [
        "## 2.3. Ещё примеры стратегий"
      ]
    },
    {
      "cell_type": "markdown",
      "metadata": {
        "id": "U673sGfRo6cu"
      },
      "source": [
        "Стандартный солвер Z3 доступен в виде отдельной тактики `smt`."
      ]
    },
    {
      "cell_type": "code",
      "metadata": {
        "trusted": true,
        "id": "znb9HdCGo6cv"
      },
      "source": [
        "x, y = Ints('x y')\n",
        "s = Tactic('smt').solver()\n",
        "s.add(x > y + 1)\n",
        "print(s.check())\n",
        "print(s.model())"
      ],
      "execution_count": null,
      "outputs": []
    },
    {
      "cell_type": "markdown",
      "metadata": {
        "id": "qEioVuhyo6c0"
      },
      "source": [
        "Пример стратегии в формате солвера, которую можно применять для решения систем арифметических уравнений, когда каждая переменная ограничена и снизу, и сверху."
      ]
    },
    {
      "cell_type": "code",
      "metadata": {
        "trusted": true,
        "id": "kyV2I0zvo6c0"
      },
      "source": [
        "s = Then(With('simplify', arith_lhs=True, som=True),\n",
        "         'normalize-bounds', 'lia2pb', 'pb2bv',\n",
        "         'bit-blast', 'sat').solver()\n",
        "x, y, z = Ints('x y z')\n",
        "solve_using(s,\n",
        "            x > 0, x < 10,\n",
        "            y > 0, y < 10,\n",
        "            z > 0, z < 10,\n",
        "            3*y + 2*x == z)\n"
      ],
      "execution_count": null,
      "outputs": []
    },
    {
      "cell_type": "code",
      "metadata": {
        "id": "vKuJMB0bg1kD"
      },
      "source": [
        "# В случае же, если переменные ограничений не имеют, солвер откажется работать\n",
        "s.reset() # очищаем солвер от текущей системы ограничений\n",
        "solve_using(s, 3*y + 2*x == z) # fail"
      ],
      "execution_count": null,
      "outputs": []
    },
    {
      "cell_type": "markdown",
      "metadata": {
        "id": "9snlYFTJo6c5"
      },
      "source": [
        "Тактики можно комбинировать с солверами. Например, мы можем взять конкретную тактику, применить её к цели, получить набор подцелей, затем выбрать одну из подцелей, и решить её с помощью солвера."
      ]
    },
    {
      "cell_type": "code",
      "metadata": {
        "trusted": true,
        "id": "b8DZE5Svo6c5"
      },
      "source": [
        "# набор тактик\n",
        "t = Then('simplify',\n",
        "         'normalize-bounds',\n",
        "         'solve-eqs')\n",
        "\n",
        "x, y, z = Ints('x y z')\n",
        "g = Goal()\n",
        "g.add(x > 10, y == x + 3, z > y) # цель с ограничениями\n",
        "\n",
        "r = t(g) # r содержит только одну подцель\n",
        "print(r)\n",
        "\n",
        "s = Solver()\n",
        "s.add(r[0]) # ограничение подцели\n",
        "print(s.check()) # sat\n",
        "\n",
        "print(s.model()) # модель для подцели\n",
        "# преобразовываем эту модель в модель для главной цели с помощью convert_model()\n",
        "print(r[0].convert_model(s.model()))"
      ],
      "execution_count": null,
      "outputs": []
    },
    {
      "cell_type": "markdown",
      "metadata": {
        "id": "OOScHKc88lgq"
      },
      "source": [
        "Резюме, что мастерство использования SMT-солвера подразумевает прежде всего хорошее знание его тактик решения различных классов задач, и умение их комбинировать. Похожий подход существует и в машинном обучении на базе нейронных сетей, где требуется хорошо знать разные модели и подбирать и настраивать их под конкретную задачу."
      ]
    },
    {
      "cell_type": "markdown",
      "metadata": {
        "id": "6iEN87LAo6c9"
      },
      "source": [
        "## 2.4. Метрики формул\n",
        "Метрики, меры (probes, formula measures) позволяют оценивать количественные и качественные (да/нет) характеристики различных целей."
      ]
    },
    {
      "cell_type": "code",
      "metadata": {
        "trusted": true,
        "id": "4x0vQswwo6c-"
      },
      "source": [
        "describe_probes() # список всех метрик Z3"
      ],
      "execution_count": null,
      "outputs": []
    },
    {
      "cell_type": "code",
      "metadata": {
        "trusted": true,
        "id": "wyQlMxQco6dE"
      },
      "source": [
        "x, y, z = Reals('x y z')\n",
        "g = Goal()\n",
        "g.add(x + y + z > 0)\n",
        "\n",
        "p = Probe('num-consts') # количество переменных в системе ограничений\n",
        "print(\"num-consts:\", p(g))"
      ],
      "execution_count": null,
      "outputs": []
    },
    {
      "cell_type": "markdown",
      "metadata": {
        "id": "eRhCkfq7kSc_"
      },
      "source": [
        "Комбинатор `FailIf(p)` формирует исключение, если его аргумент выдаёт sat.\n",
        "\n",
        "Комбинатор `If(p, t1, t2)` работает как условный оператор -- выбирает тактику t1 если p истинно (sat), иначе выбирается тактика t2. If -- это сокращённая запись `OrElse(Then(FailIf(Not(p)), t1), t2)`.\n",
        "\n",
        "Комбинатор `When(p, t)` -- это сокращённая запись `If(p, t, 'skip')`."
      ]
    },
    {
      "cell_type": "code",
      "metadata": {
        "trusted": true,
        "id": "6v1YX0qeo6dI"
      },
      "source": [
        "x, y, z = Reals('x y z')\n",
        "g = Goal()\n",
        "g.add(x**2 - y**2 >= 0)\n",
        "\n",
        "p = Probe('num-consts') # 2\n",
        "\n",
        "# выберем подходящую тактику в зависимости от количества переменных\n",
        "t = If(p > 2, 'simplify', 'factor')\n",
        "\n",
        "print(t(g))\n",
        "\n",
        "g = Goal()\n",
        "g.add(x + x + y + z >= 0, x**2 - y**2 >= 0)\n",
        "print(t(g))"
      ],
      "execution_count": null,
      "outputs": []
    }
  ]
}