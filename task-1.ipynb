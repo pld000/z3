{
  "nbformat": 4,
  "nbformat_minor": 0,
  "metadata": {
    "colab": {
      "provenance": [],
      "authorship_tag": "ABX9TyMO3Cj7yxeGysPQMWWkct0u",
      "include_colab_link": true
    },
    "kernelspec": {
      "name": "python3",
      "display_name": "Python 3"
    },
    "language_info": {
      "name": "python"
    }
  },
  "cells": [
    {
      "cell_type": "markdown",
      "metadata": {
        "id": "view-in-github",
        "colab_type": "text"
      },
      "source": [
        "<a href=\"https://colab.research.google.com/github/pld000/z3/blob/main/task-1.ipynb\" target=\"_parent\"><img src=\"https://colab.research.google.com/assets/colab-badge.svg\" alt=\"Open In Colab\"/></a>"
      ]
    },
    {
      "cell_type": "markdown",
      "source": [
        "\n",
        "По тропинке вдоль кустов\n",
        "Шли 11 хвостов.\n",
        "Сосчитать я также смог,\n",
        "Что шагало 30 ног.\n",
        "Это вместе шли куда-то\n",
        "Петухи и поросята.\n",
        "А теперь вопрос таков:\n",
        "Сколько было петухов?\n",
        "И узнать я был бы рад,\n",
        "Сколько было поросят?"
      ],
      "metadata": {
        "id": "DuYAhYrl5HvS"
      }
    },
    {
      "cell_type": "code",
      "source": [
        "!pip install z3-solver"
      ],
      "metadata": {
        "colab": {
          "base_uri": "https://localhost:8080/"
        },
        "id": "XLq0zdcq6IfH",
        "outputId": "dd36ef9b-9579-4b2c-9994-71f82a964896"
      },
      "execution_count": 2,
      "outputs": [
        {
          "output_type": "stream",
          "name": "stdout",
          "text": [
            "Collecting z3-solver\n",
            "  Downloading z3_solver-4.15.1.0-py3-none-manylinux_2_17_x86_64.manylinux2014_x86_64.whl.metadata (602 bytes)\n",
            "Downloading z3_solver-4.15.1.0-py3-none-manylinux_2_17_x86_64.manylinux2014_x86_64.whl (29.5 MB)\n",
            "\u001b[2K   \u001b[90m━━━━━━━━━━━━━━━━━━━━━━━━━━━━━━━━━━━━━━━━\u001b[0m \u001b[32m29.5/29.5 MB\u001b[0m \u001b[31m66.5 MB/s\u001b[0m eta \u001b[36m0:00:00\u001b[0m\n",
            "\u001b[?25hInstalling collected packages: z3-solver\n",
            "Successfully installed z3-solver-4.15.1.0\n"
          ]
        }
      ]
    },
    {
      "cell_type": "code",
      "source": [
        "from z3 import *"
      ],
      "metadata": {
        "id": "njjs3tN26QVQ"
      },
      "execution_count": 3,
      "outputs": []
    },
    {
      "cell_type": "code",
      "source": [
        "chickenCount, pigCount = Ints('chickenCount pigCount')\n",
        "equations = [\n",
        "    chickenCount * 2 + pigCount * 4 == 30,\n",
        "    chickenCount + pigCount == 11,\n",
        "    chickenCount >= 1,\n",
        "    pigCount >= 1\n",
        "]\n",
        "solve(equations)"
      ],
      "metadata": {
        "colab": {
          "base_uri": "https://localhost:8080/"
        },
        "id": "GzcwprTN5UjV",
        "outputId": "e26e924b-0b84-4a38-8e71-95e82917e321"
      },
      "execution_count": 4,
      "outputs": [
        {
          "output_type": "stream",
          "name": "stdout",
          "text": [
            "[pigCount = 4, chickenCount = 7]\n"
          ]
        }
      ]
    },
    {
      "cell_type": "markdown",
      "source": [
        "Три купца разделили между собой 100 монет. Первый взял в 2 раза больше, чем второй, а третий на 10 меньше, чем первый. Сколько монет взял каждый?"
      ],
      "metadata": {
        "id": "zgW6c5ma-PIl"
      }
    },
    {
      "cell_type": "code",
      "source": [
        "a, b, c = Ints('a b c')\n",
        "solve(\n",
        "    a + b + c == 100,\n",
        "    a == 2 * b,\n",
        "    c == a - 10,\n",
        "    a > 0, b > 0, c > 0\n",
        ")"
      ],
      "metadata": {
        "colab": {
          "base_uri": "https://localhost:8080/"
        },
        "id": "laVYzFT--XTF",
        "outputId": "9ae5228f-86a8-4500-a31a-09d604381732"
      },
      "execution_count": 5,
      "outputs": [
        {
          "output_type": "stream",
          "name": "stdout",
          "text": [
            "[b = 22, c = 34, a = 44]\n"
          ]
        }
      ]
    },
    {
      "cell_type": "markdown",
      "source": [
        "На рычаг длиной 2 метра на одно плечо на расстоянии 0.5 м от опоры положили груз массой 4 кг. На каком расстоянии от опоры на другом плече нужно положить груз массой 2 кг, чтобы рычаг был в равновесии?"
      ],
      "metadata": {
        "id": "J74eEZgw_FuV"
      }
    },
    {
      "cell_type": "code",
      "source": [
        "from z3 import *\n",
        "\n",
        "m1, m2, l1, l2 = Reals('m1 m2 l1 l2')\n",
        "\n",
        "solve(\n",
        "    m1 * l1 == m2 * l2,  # правило рычага\n",
        "    m1 == 4,\n",
        "    m2 == 2,\n",
        "    l1 == 0.5,\n",
        "    l2 > 0\n",
        ")\n"
      ],
      "metadata": {
        "colab": {
          "base_uri": "https://localhost:8080/"
        },
        "id": "eRGnMY07_GS3",
        "outputId": "8b8cbb8f-e8eb-4880-ee80-b83366b2c44f"
      },
      "execution_count": 6,
      "outputs": [
        {
          "output_type": "stream",
          "name": "stdout",
          "text": [
            "[m2 = 2, l2 = 1, l1 = 1/2, m1 = 4]\n"
          ]
        }
      ]
    },
    {
      "cell_type": "markdown",
      "source": [
        "Смешивают 2 литра воды при температуре 80 °C и некоторое количество воды при температуре 20 °C. В результате получается смесь температурой 60 °C. Сколько литров холодной воды добавили?"
      ],
      "metadata": {
        "id": "76j1NOuW_QMV"
      }
    },
    {
      "cell_type": "code",
      "source": [
        "V1, V2, T1, T2, T = Reals('V1 V2 T1 T2 T')\n",
        "\n",
        "solve(\n",
        "    V1 * T1 + V2 * T2 == (V1 + V2) * T,\n",
        "    V1 == 2,\n",
        "    T1 == 80,\n",
        "    T2 == 20,\n",
        "    T == 60,\n",
        "    V2 > 0\n",
        ")"
      ],
      "metadata": {
        "colab": {
          "base_uri": "https://localhost:8080/"
        },
        "id": "Yj8S7AHV_RAS",
        "outputId": "261ca2d1-00e7-4dbe-dd64-1a660cb5be61"
      },
      "execution_count": 7,
      "outputs": [
        {
          "output_type": "stream",
          "name": "stdout",
          "text": [
            "[V1 = 2, T1 = 80, T = 60, V2 = 1, T2 = 20]\n"
          ]
        }
      ]
    },
    {
      "cell_type": "markdown",
      "source": [
        "# **Chat GPT solutions**"
      ],
      "metadata": {
        "id": "K8wVN1b4ANS7"
      }
    },
    {
      "cell_type": "markdown",
      "source": [
        "Классическая головоломка. У вас имеется 100 долларов, и вы можете купить 100 животных. Собаки стоят по 15 долларов, коты по 1 доллару, мыши по 25 центов. Вы должны купить хотя бы по одному животному каждого вида. Найдите решение этого паззла."
      ],
      "metadata": {
        "id": "lPEiFNBMAUnB"
      }
    },
    {
      "cell_type": "code",
      "source": [
        "from z3 import *\n",
        "\n",
        "x, y, z = Ints('x y z')\n",
        "\n",
        "solver = Solver()\n",
        "solver.add(\n",
        "    x + y + z == 100,\n",
        "    15 * x + y + 0.25 * z == 100,\n",
        "    x >= 1,\n",
        "    y >= 1,\n",
        "    z >= 1\n",
        ")\n",
        "\n",
        "if solver.check() == sat:\n",
        "    model = solver.model()\n",
        "    print(f\"Собаки: {model[x].as_long()}, Коты: {model[y].as_long()}, Мыши: {model[z].as_long()}\")\n",
        "else:\n",
        "    print(\"Решений нет\")\n"
      ],
      "metadata": {
        "colab": {
          "base_uri": "https://localhost:8080/"
        },
        "id": "-qolaAQgAXH0",
        "outputId": "c1497805-6a98-4719-f015-98f16e4e0dbf"
      },
      "execution_count": 8,
      "outputs": [
        {
          "output_type": "stream",
          "name": "stdout",
          "text": [
            "Собаки: 3, Коты: 41, Мыши: 56\n"
          ]
        }
      ]
    },
    {
      "cell_type": "markdown",
      "source": [
        "Один из классических типов головоломок -- это нахождение цифр, соответствующих буквам словесного выражения. Например, имеется выражение send + more = money, и надо вместо букв подставить подходящие цифры (одинаковые буквы -- это одинаковые цифры), чтобы оно получилось истинным."
      ],
      "metadata": {
        "id": "5n4kE-ABAm4j"
      }
    },
    {
      "cell_type": "code",
      "source": [
        "from z3 import *\n",
        "\n",
        "# Объявляем переменные\n",
        "S, E, N, D, M, O, R, Y = Ints('S E N D M O R Y')\n",
        "\n",
        "# Все переменные — цифры от 0 до 9\n",
        "digits = [S, E, N, D, M, O, R, Y]\n",
        "\n",
        "solver = Solver()\n",
        "solver.add([And(d >= 0, d <= 9) for d in digits])\n",
        "solver.add(Distinct(digits))  # все буквы — разные цифры\n",
        "\n",
        "# Условие: S и M ≠ 0\n",
        "solver.add(S != 0, M != 0)\n",
        "\n",
        "# Основное уравнение:\n",
        "send = 1000*S + 100*E + 10*N + D\n",
        "more = 1000*M + 100*O + 10*R + E\n",
        "money = 10000*M + 1000*O + 100*N + 10*E + Y\n",
        "\n",
        "solver.add(send + more == money)\n",
        "\n",
        "# Проверим решение\n",
        "if solver.check() == sat:\n",
        "    model = solver.model()\n",
        "    result = {str(d): model[d].as_long() for d in digits}\n",
        "    print(\"Решение:\")\n",
        "    for k in sorted(result):\n",
        "        print(f\"{k} = {result[k]}\")\n",
        "else:\n",
        "    print(\"Решения нет\")\n"
      ],
      "metadata": {
        "id": "iA1uYB8NAmCZ"
      },
      "execution_count": null,
      "outputs": []
    },
    {
      "cell_type": "markdown",
      "source": [
        "## 8.3. Восемь ферзей\n",
        "Ещё одна классическая задачка, которую очень любят решать на курсах по функциональному и декларативному программированию. На шахматной доске надо расставить восемь ферзей так, чтобы никто друг друга не атаковал."
      ],
      "metadata": {
        "id": "pBRMw6vVApLP"
      }
    },
    {
      "cell_type": "code",
      "source": [
        "from z3 import *\n",
        "\n",
        "# Один ферзь в каждой строке: переменные — столбцы (0–7) для каждой строки\n",
        "queens = [Int(f'q_{i}') for i in range(8)]\n",
        "\n",
        "solver = Solver()\n",
        "\n",
        "# Каждая переменная — целое от 0 до 7 (столбец)\n",
        "solver.add([And(q >= 0, q < 8) for q in queens])\n",
        "\n",
        "# Все ферзи должны стоять в разных столбцах\n",
        "solver.add(Distinct(queens))\n",
        "\n",
        "# Ни один ферзь не должен бить другого по диагонали\n",
        "for i in range(8):\n",
        "    for j in range(i + 1, 8):\n",
        "        solver.add(queens[i] != queens[j])                     # уже учтено в Distinct\n",
        "        solver.add(Abs(queens[i] - queens[j]) != j - i)       # диагонали\n",
        "\n",
        "# Решение\n",
        "if solver.check() == sat:\n",
        "    model = solver.model()\n",
        "    result = [model.evaluate(q).as_long() for q in queens]\n",
        "    print(\"Решение (индексы столбцов для строк 0–7):\", result)\n",
        "else:\n",
        "    print(\"Решения нет\")\n"
      ],
      "metadata": {
        "id": "NUWALYMNA1Ol"
      },
      "execution_count": null,
      "outputs": []
    },
    {
      "cell_type": "markdown",
      "source": [
        "## 7.2. Вторая задачка по физике\n",
        "\n",
        "Мотоциклист стоит на светофоре. Как только загорается зелёный, он стартует с места с ускорением 6 м/с^2 на протяжении 4,1 секунды. Определите расстояние, которое мотоцикл преодолеет за это время.\n"
      ],
      "metadata": {
        "id": "wLG6g-jlBJaU"
      }
    },
    {
      "cell_type": "code",
      "source": [
        "from z3 import *\n",
        "\n",
        "t = Real('t')\n",
        "s = Real('s')\n",
        "a = 6  # ускорение\n",
        "eq = s == 0.5 * a * t * t\n",
        "\n",
        "solver = Solver()\n",
        "solver.add(eq, t == 4.1)\n",
        "\n",
        "if solver.check() == sat:\n",
        "    m = solver.model()\n",
        "    print(m[s].as_decimal(5))  # 5 знаков после запятой\n"
      ],
      "metadata": {
        "id": "sGNO7gZZBJF-"
      },
      "execution_count": null,
      "outputs": []
    }
  ]
}