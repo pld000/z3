{
  "nbformat": 4,
  "nbformat_minor": 0,
  "metadata": {
    "colab": {
      "provenance": [],
      "authorship_tag": "ABX9TyOTpGTzvyGG8vVZhxo9ng7+",
      "include_colab_link": true
    },
    "kernelspec": {
      "name": "python3",
      "display_name": "Python 3"
    },
    "language_info": {
      "name": "python"
    }
  },
  "cells": [
    {
      "cell_type": "markdown",
      "metadata": {
        "id": "view-in-github",
        "colab_type": "text"
      },
      "source": [
        "<a href=\"https://colab.research.google.com/github/pld000/z3/blob/main/task-1.ipynb\" target=\"_parent\"><img src=\"https://colab.research.google.com/assets/colab-badge.svg\" alt=\"Open In Colab\"/></a>"
      ]
    },
    {
      "cell_type": "markdown",
      "source": [
        "\n",
        "По тропинке вдоль кустов\n",
        "Шли 11 хвостов.\n",
        "Сосчитать я также смог,\n",
        "Что шагало 30 ног.\n",
        "Это вместе шли куда-то\n",
        "Петухи и поросята.\n",
        "А теперь вопрос таков:\n",
        "Сколько было петухов?\n",
        "И узнать я был бы рад,\n",
        "Сколько было поросят?"
      ],
      "metadata": {
        "id": "DuYAhYrl5HvS"
      }
    },
    {
      "cell_type": "code",
      "source": [
        "!pip install z3-solver"
      ],
      "metadata": {
        "colab": {
          "base_uri": "https://localhost:8080/"
        },
        "id": "XLq0zdcq6IfH",
        "outputId": "dd36ef9b-9579-4b2c-9994-71f82a964896"
      },
      "execution_count": 2,
      "outputs": [
        {
          "output_type": "stream",
          "name": "stdout",
          "text": [
            "Collecting z3-solver\n",
            "  Downloading z3_solver-4.15.1.0-py3-none-manylinux_2_17_x86_64.manylinux2014_x86_64.whl.metadata (602 bytes)\n",
            "Downloading z3_solver-4.15.1.0-py3-none-manylinux_2_17_x86_64.manylinux2014_x86_64.whl (29.5 MB)\n",
            "\u001b[2K   \u001b[90m━━━━━━━━━━━━━━━━━━━━━━━━━━━━━━━━━━━━━━━━\u001b[0m \u001b[32m29.5/29.5 MB\u001b[0m \u001b[31m66.5 MB/s\u001b[0m eta \u001b[36m0:00:00\u001b[0m\n",
            "\u001b[?25hInstalling collected packages: z3-solver\n",
            "Successfully installed z3-solver-4.15.1.0\n"
          ]
        }
      ]
    },
    {
      "cell_type": "code",
      "source": [
        "from z3 import *"
      ],
      "metadata": {
        "id": "njjs3tN26QVQ"
      },
      "execution_count": 3,
      "outputs": []
    },
    {
      "cell_type": "code",
      "source": [
        "chickenCount, pigCount = Ints('chickenCount pigCount')\n",
        "equations = [\n",
        "    chickenCount * 2 + pigCount * 4 == 30,\n",
        "    chickenCount + pigCount == 11,\n",
        "    chickenCount >= 1,\n",
        "    pigCount >= 1\n",
        "]\n",
        "solve(equations)"
      ],
      "metadata": {
        "colab": {
          "base_uri": "https://localhost:8080/"
        },
        "id": "GzcwprTN5UjV",
        "outputId": "e26e924b-0b84-4a38-8e71-95e82917e321"
      },
      "execution_count": 4,
      "outputs": [
        {
          "output_type": "stream",
          "name": "stdout",
          "text": [
            "[pigCount = 4, chickenCount = 7]\n"
          ]
        }
      ]
    },
    {
      "cell_type": "markdown",
      "source": [
        "Три купца разделили между собой 100 монет. Первый взял в 2 раза больше, чем второй, а третий на 10 меньше, чем первый. Сколько монет взял каждый?"
      ],
      "metadata": {
        "id": "zgW6c5ma-PIl"
      }
    },
    {
      "cell_type": "code",
      "source": [
        "a, b, c = Ints('a b c')\n",
        "solve(\n",
        "    a + b + c == 100,\n",
        "    a == 2 * b,\n",
        "    c == a - 10,\n",
        "    a > 0, b > 0, c > 0\n",
        ")"
      ],
      "metadata": {
        "colab": {
          "base_uri": "https://localhost:8080/"
        },
        "id": "laVYzFT--XTF",
        "outputId": "9ae5228f-86a8-4500-a31a-09d604381732"
      },
      "execution_count": 5,
      "outputs": [
        {
          "output_type": "stream",
          "name": "stdout",
          "text": [
            "[b = 22, c = 34, a = 44]\n"
          ]
        }
      ]
    },
    {
      "cell_type": "markdown",
      "source": [
        "На рычаг длиной 2 метра на одно плечо на расстоянии 0.5 м от опоры положили груз массой 4 кг. На каком расстоянии от опоры на другом плече нужно положить груз массой 2 кг, чтобы рычаг был в равновесии?"
      ],
      "metadata": {
        "id": "J74eEZgw_FuV"
      }
    },
    {
      "cell_type": "code",
      "source": [
        "from z3 import *\n",
        "\n",
        "m1, m2, l1, l2 = Reals('m1 m2 l1 l2')\n",
        "\n",
        "solve(\n",
        "    m1 * l1 == m2 * l2,  # правило рычага\n",
        "    m1 == 4,\n",
        "    m2 == 2,\n",
        "    l1 == 0.5,\n",
        "    l2 > 0\n",
        ")\n"
      ],
      "metadata": {
        "colab": {
          "base_uri": "https://localhost:8080/"
        },
        "id": "eRGnMY07_GS3",
        "outputId": "8b8cbb8f-e8eb-4880-ee80-b83366b2c44f"
      },
      "execution_count": 6,
      "outputs": [
        {
          "output_type": "stream",
          "name": "stdout",
          "text": [
            "[m2 = 2, l2 = 1, l1 = 1/2, m1 = 4]\n"
          ]
        }
      ]
    },
    {
      "cell_type": "markdown",
      "source": [
        "Смешивают 2 литра воды при температуре 80 °C и некоторое количество воды при температуре 20 °C. В результате получается смесь температурой 60 °C. Сколько литров холодной воды добавили?"
      ],
      "metadata": {
        "id": "76j1NOuW_QMV"
      }
    },
    {
      "cell_type": "code",
      "source": [
        "V1, V2, T1, T2, T = Reals('V1 V2 T1 T2 T')\n",
        "\n",
        "solve(\n",
        "    V1 * T1 + V2 * T2 == (V1 + V2) * T,\n",
        "    V1 == 2,\n",
        "    T1 == 80,\n",
        "    T2 == 20,\n",
        "    T == 60,\n",
        "    V2 > 0\n",
        ")"
      ],
      "metadata": {
        "colab": {
          "base_uri": "https://localhost:8080/"
        },
        "id": "Yj8S7AHV_RAS",
        "outputId": "261ca2d1-00e7-4dbe-dd64-1a660cb5be61"
      },
      "execution_count": 7,
      "outputs": [
        {
          "output_type": "stream",
          "name": "stdout",
          "text": [
            "[V1 = 2, T1 = 80, T = 60, V2 = 1, T2 = 20]\n"
          ]
        }
      ]
    }
  ]
}